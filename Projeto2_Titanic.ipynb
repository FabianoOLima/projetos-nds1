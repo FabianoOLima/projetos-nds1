{
 "cells": [
  {
   "cell_type": "markdown",
   "metadata": {},
   "source": [
    "# Udacity Projeto 2 - Titanic\n",
    "![O Titanic parado em Queenstown, 11 de abril em 1952](titanic_imagem.jpg \"O Titanic parado em Queenstown, 11 de abril 1952\")"
   ]
  },
  {
   "cell_type": "markdown",
   "metadata": {},
   "source": [
    "## Estrutura do projeto:\n",
    "- apresentar o projeto e a origem dos dados\n",
    "- introdução sobre o assunto\n",
    "- analise superficial sobre os dados\n",
    "- data wrangling\n",
    "\n",
    "- perguntas que desejamos responder\n",
    "\n",
    "- análise dos dados explicando e criando os gráficos\n",
    "- resultados respondendo também as questões e problemas encontrados"
   ]
  },
  {
   "cell_type": "markdown",
   "metadata": {},
   "source": [
    "### Apresentação do projeto e origem dos dados"
   ]
  },
  {
   "cell_type": "markdown",
   "metadata": {},
   "source": [
    "___Projeto 2 do curso de DATA SCIENCE da Udacity___\n",
    "\n",
    "Neste projeto iremos analisar o dataset que contém dados demográficos e informações de 891 dos 2.224 passageiros e tripulantes a bordo do Titanic.\n",
    "\n",
    "Dados disponiveis no site da [Kaggle](https://www.kaggle.com/c/titanic/data)\n",
    "\n",
    "Maiores informações sobre o Titanic podem ser consultadas no [Wikipedia](https://pt.wikipedia.org/wiki/RMS_Titanic)"
   ]
  },
  {
   "cell_type": "code",
   "execution_count": 1,
   "metadata": {},
   "outputs": [
    {
     "name": "stderr",
     "output_type": "stream",
     "text": [
      "UsageError: Line magic function `%` not found.\n"
     ]
    }
   ],
   "source": [
    "# Importando biblioteca\n",
    "import pandas as pd\n",
    "import matplotlib.pyplot as plt\n",
    "import seaborn as sns\n",
    "% matplotlib inline"
   ]
  },
  {
   "cell_type": "code",
   "execution_count": 2,
   "metadata": {},
   "outputs": [],
   "source": [
    "# Importando os dados\n",
    "df_titanic = pd.read_csv('titanic_data.csv')"
   ]
  },
  {
   "cell_type": "code",
   "execution_count": 3,
   "metadata": {},
   "outputs": [
    {
     "data": {
      "text/html": [
       "<div>\n",
       "<style scoped>\n",
       "    .dataframe tbody tr th:only-of-type {\n",
       "        vertical-align: middle;\n",
       "    }\n",
       "\n",
       "    .dataframe tbody tr th {\n",
       "        vertical-align: top;\n",
       "    }\n",
       "\n",
       "    .dataframe thead th {\n",
       "        text-align: right;\n",
       "    }\n",
       "</style>\n",
       "<table border=\"1\" class=\"dataframe\">\n",
       "  <thead>\n",
       "    <tr style=\"text-align: right;\">\n",
       "      <th></th>\n",
       "      <th>PassengerId</th>\n",
       "      <th>Survived</th>\n",
       "      <th>Pclass</th>\n",
       "      <th>Name</th>\n",
       "      <th>Sex</th>\n",
       "      <th>Age</th>\n",
       "      <th>SibSp</th>\n",
       "      <th>Parch</th>\n",
       "      <th>Ticket</th>\n",
       "      <th>Fare</th>\n",
       "      <th>Cabin</th>\n",
       "      <th>Embarked</th>\n",
       "    </tr>\n",
       "  </thead>\n",
       "  <tbody>\n",
       "    <tr>\n",
       "      <th>0</th>\n",
       "      <td>1</td>\n",
       "      <td>0</td>\n",
       "      <td>3</td>\n",
       "      <td>Braund, Mr. Owen Harris</td>\n",
       "      <td>male</td>\n",
       "      <td>22.0</td>\n",
       "      <td>1</td>\n",
       "      <td>0</td>\n",
       "      <td>A/5 21171</td>\n",
       "      <td>7.2500</td>\n",
       "      <td>NaN</td>\n",
       "      <td>S</td>\n",
       "    </tr>\n",
       "    <tr>\n",
       "      <th>1</th>\n",
       "      <td>2</td>\n",
       "      <td>1</td>\n",
       "      <td>1</td>\n",
       "      <td>Cumings, Mrs. John Bradley (Florence Briggs Th...</td>\n",
       "      <td>female</td>\n",
       "      <td>38.0</td>\n",
       "      <td>1</td>\n",
       "      <td>0</td>\n",
       "      <td>PC 17599</td>\n",
       "      <td>71.2833</td>\n",
       "      <td>C85</td>\n",
       "      <td>C</td>\n",
       "    </tr>\n",
       "    <tr>\n",
       "      <th>2</th>\n",
       "      <td>3</td>\n",
       "      <td>1</td>\n",
       "      <td>3</td>\n",
       "      <td>Heikkinen, Miss. Laina</td>\n",
       "      <td>female</td>\n",
       "      <td>26.0</td>\n",
       "      <td>0</td>\n",
       "      <td>0</td>\n",
       "      <td>STON/O2. 3101282</td>\n",
       "      <td>7.9250</td>\n",
       "      <td>NaN</td>\n",
       "      <td>S</td>\n",
       "    </tr>\n",
       "    <tr>\n",
       "      <th>3</th>\n",
       "      <td>4</td>\n",
       "      <td>1</td>\n",
       "      <td>1</td>\n",
       "      <td>Futrelle, Mrs. Jacques Heath (Lily May Peel)</td>\n",
       "      <td>female</td>\n",
       "      <td>35.0</td>\n",
       "      <td>1</td>\n",
       "      <td>0</td>\n",
       "      <td>113803</td>\n",
       "      <td>53.1000</td>\n",
       "      <td>C123</td>\n",
       "      <td>S</td>\n",
       "    </tr>\n",
       "    <tr>\n",
       "      <th>4</th>\n",
       "      <td>5</td>\n",
       "      <td>0</td>\n",
       "      <td>3</td>\n",
       "      <td>Allen, Mr. William Henry</td>\n",
       "      <td>male</td>\n",
       "      <td>35.0</td>\n",
       "      <td>0</td>\n",
       "      <td>0</td>\n",
       "      <td>373450</td>\n",
       "      <td>8.0500</td>\n",
       "      <td>NaN</td>\n",
       "      <td>S</td>\n",
       "    </tr>\n",
       "    <tr>\n",
       "      <th>5</th>\n",
       "      <td>6</td>\n",
       "      <td>0</td>\n",
       "      <td>3</td>\n",
       "      <td>Moran, Mr. James</td>\n",
       "      <td>male</td>\n",
       "      <td>NaN</td>\n",
       "      <td>0</td>\n",
       "      <td>0</td>\n",
       "      <td>330877</td>\n",
       "      <td>8.4583</td>\n",
       "      <td>NaN</td>\n",
       "      <td>Q</td>\n",
       "    </tr>\n",
       "    <tr>\n",
       "      <th>6</th>\n",
       "      <td>7</td>\n",
       "      <td>0</td>\n",
       "      <td>1</td>\n",
       "      <td>McCarthy, Mr. Timothy J</td>\n",
       "      <td>male</td>\n",
       "      <td>54.0</td>\n",
       "      <td>0</td>\n",
       "      <td>0</td>\n",
       "      <td>17463</td>\n",
       "      <td>51.8625</td>\n",
       "      <td>E46</td>\n",
       "      <td>S</td>\n",
       "    </tr>\n",
       "    <tr>\n",
       "      <th>7</th>\n",
       "      <td>8</td>\n",
       "      <td>0</td>\n",
       "      <td>3</td>\n",
       "      <td>Palsson, Master. Gosta Leonard</td>\n",
       "      <td>male</td>\n",
       "      <td>2.0</td>\n",
       "      <td>3</td>\n",
       "      <td>1</td>\n",
       "      <td>349909</td>\n",
       "      <td>21.0750</td>\n",
       "      <td>NaN</td>\n",
       "      <td>S</td>\n",
       "    </tr>\n",
       "    <tr>\n",
       "      <th>8</th>\n",
       "      <td>9</td>\n",
       "      <td>1</td>\n",
       "      <td>3</td>\n",
       "      <td>Johnson, Mrs. Oscar W (Elisabeth Vilhelmina Berg)</td>\n",
       "      <td>female</td>\n",
       "      <td>27.0</td>\n",
       "      <td>0</td>\n",
       "      <td>2</td>\n",
       "      <td>347742</td>\n",
       "      <td>11.1333</td>\n",
       "      <td>NaN</td>\n",
       "      <td>S</td>\n",
       "    </tr>\n",
       "    <tr>\n",
       "      <th>9</th>\n",
       "      <td>10</td>\n",
       "      <td>1</td>\n",
       "      <td>2</td>\n",
       "      <td>Nasser, Mrs. Nicholas (Adele Achem)</td>\n",
       "      <td>female</td>\n",
       "      <td>14.0</td>\n",
       "      <td>1</td>\n",
       "      <td>0</td>\n",
       "      <td>237736</td>\n",
       "      <td>30.0708</td>\n",
       "      <td>NaN</td>\n",
       "      <td>C</td>\n",
       "    </tr>\n",
       "  </tbody>\n",
       "</table>\n",
       "</div>"
      ],
      "text/plain": [
       "   PassengerId  Survived  Pclass  \\\n",
       "0            1         0       3   \n",
       "1            2         1       1   \n",
       "2            3         1       3   \n",
       "3            4         1       1   \n",
       "4            5         0       3   \n",
       "5            6         0       3   \n",
       "6            7         0       1   \n",
       "7            8         0       3   \n",
       "8            9         1       3   \n",
       "9           10         1       2   \n",
       "\n",
       "                                                Name     Sex   Age  SibSp  \\\n",
       "0                            Braund, Mr. Owen Harris    male  22.0      1   \n",
       "1  Cumings, Mrs. John Bradley (Florence Briggs Th...  female  38.0      1   \n",
       "2                             Heikkinen, Miss. Laina  female  26.0      0   \n",
       "3       Futrelle, Mrs. Jacques Heath (Lily May Peel)  female  35.0      1   \n",
       "4                           Allen, Mr. William Henry    male  35.0      0   \n",
       "5                                   Moran, Mr. James    male   NaN      0   \n",
       "6                            McCarthy, Mr. Timothy J    male  54.0      0   \n",
       "7                     Palsson, Master. Gosta Leonard    male   2.0      3   \n",
       "8  Johnson, Mrs. Oscar W (Elisabeth Vilhelmina Berg)  female  27.0      0   \n",
       "9                Nasser, Mrs. Nicholas (Adele Achem)  female  14.0      1   \n",
       "\n",
       "   Parch            Ticket     Fare Cabin Embarked  \n",
       "0      0         A/5 21171   7.2500   NaN        S  \n",
       "1      0          PC 17599  71.2833   C85        C  \n",
       "2      0  STON/O2. 3101282   7.9250   NaN        S  \n",
       "3      0            113803  53.1000  C123        S  \n",
       "4      0            373450   8.0500   NaN        S  \n",
       "5      0            330877   8.4583   NaN        Q  \n",
       "6      0             17463  51.8625   E46        S  \n",
       "7      1            349909  21.0750   NaN        S  \n",
       "8      2            347742  11.1333   NaN        S  \n",
       "9      0            237736  30.0708   NaN        C  "
      ]
     },
     "execution_count": 3,
     "metadata": {},
     "output_type": "execute_result"
    }
   ],
   "source": [
    "# Prévia dos dados\n",
    "df_titanic.head(10)"
   ]
  },
  {
   "cell_type": "code",
   "execution_count": 4,
   "metadata": {},
   "outputs": [
    {
     "data": {
      "text/plain": [
       "Index(['PassengerId', 'Survived', 'Pclass', 'Name', 'Sex', 'Age', 'SibSp',\n",
       "       'Parch', 'Ticket', 'Fare', 'Cabin', 'Embarked'],\n",
       "      dtype='object')"
      ]
     },
     "execution_count": 4,
     "metadata": {},
     "output_type": "execute_result"
    }
   ],
   "source": [
    "# Cabeçalhos\n",
    "df_titanic.columns"
   ]
  },
  {
   "cell_type": "markdown",
   "metadata": {},
   "source": [
    "Para facilitar os trabalhos iremos renomear as colunas, deixando todas em minusculo"
   ]
  },
  {
   "cell_type": "code",
   "execution_count": 5,
   "metadata": {},
   "outputs": [],
   "source": [
    "# Renomeando os cabeçalhos\n",
    "\n",
    "for coluna in df_titanic.columns:\n",
    "    df_titanic.rename(columns={coluna: coluna.lower()}, inplace=True)"
   ]
  },
  {
   "cell_type": "code",
   "execution_count": 6,
   "metadata": {},
   "outputs": [
    {
     "data": {
      "text/plain": [
       "Index(['passengerid', 'survived', 'pclass', 'name', 'sex', 'age', 'sibsp',\n",
       "       'parch', 'ticket', 'fare', 'cabin', 'embarked'],\n",
       "      dtype='object')"
      ]
     },
     "execution_count": 6,
     "metadata": {},
     "output_type": "execute_result"
    }
   ],
   "source": [
    "df_titanic.columns"
   ]
  },
  {
   "cell_type": "markdown",
   "metadata": {},
   "source": [
    "### Descrição das colunas\n",
    "\n",
    "- PassengerID = ID do Passageiro\n",
    "- Survivved = Sobrevivente | _0 = Não, 1 = Sim_\n",
    "- Pclass = Classe do passageiro | _1 = Primeira Classe , 2 = Segunda Classe, 3 = Terceira Classe_\n",
    "- Name = Nome do Passageiro\n",
    "- Sex\t= Sexo\n",
    "- Age\t= Idade em anos\n",
    "- Sibsp = Irmãos ou conjugês a bordo do Titanic\n",
    "- Parch =\tPais ou filhos a bordo do Titanic\n",
    "- Ticket = Numero do ticket \n",
    "- Fare = Valor da passagem\n",
    "- Cabin = Numero da cabine\n",
    "- Embarked = Porto de Embarque | _C = Cherbourg, Q = Queenstown, S = Southampton_"
   ]
  },
  {
   "cell_type": "markdown",
   "metadata": {},
   "source": [
    "## Iremos analisar\n",
    "\n",
    "- Total de Registros\n",
    "    - Sobreviventes\n",
    "    - Por CLASSE\n",
    "    - Por GENERO\n",
    "    - Porto de Embarque\n",
    "\n",
    "\n",
    "- Analisando a quantidade de sobreviventes por:\n",
    "    - Sobreviventes\n",
    "    - Por CLASSE\n",
    "    - Por Idade\n",
    "    - Por genero\n",
    "    - Se possuia parentes a bordo\n",
    "\n",
    "\n",
    "- Comparativos de sobreviventes considerando\n",
    "    - Classe\n",
    "    - Idade\n",
    "    - Genero\n",
    "    - Se possuia parentes a bordo"
   ]
  },
  {
   "cell_type": "markdown",
   "metadata": {},
   "source": [
    "### Data Wrangling"
   ]
  },
  {
   "cell_type": "code",
   "execution_count": 7,
   "metadata": {},
   "outputs": [
    {
     "name": "stdout",
     "output_type": "stream",
     "text": [
      "Nosso dataframe possui 891 linhas e 12 colunas\n"
     ]
    }
   ],
   "source": [
    "# Tamanho do nosso dataframe\n",
    "print('Nosso dataframe possui {} linhas e {} colunas'.format(str(df_titanic.shape[0]),str(df_titanic.shape[1])))"
   ]
  },
  {
   "cell_type": "code",
   "execution_count": 8,
   "metadata": {},
   "outputs": [
    {
     "name": "stdout",
     "output_type": "stream",
     "text": [
      "<class 'pandas.core.frame.DataFrame'>\n",
      "RangeIndex: 891 entries, 0 to 890\n",
      "Data columns (total 12 columns):\n",
      "passengerid    891 non-null int64\n",
      "survived       891 non-null int64\n",
      "pclass         891 non-null int64\n",
      "name           891 non-null object\n",
      "sex            891 non-null object\n",
      "age            714 non-null float64\n",
      "sibsp          891 non-null int64\n",
      "parch          891 non-null int64\n",
      "ticket         891 non-null object\n",
      "fare           891 non-null float64\n",
      "cabin          204 non-null object\n",
      "embarked       889 non-null object\n",
      "dtypes: float64(2), int64(5), object(5)\n",
      "memory usage: 83.6+ KB\n"
     ]
    }
   ],
   "source": [
    "# Verificando o tipo das colunas\n",
    "df_titanic.info()"
   ]
  },
  {
   "cell_type": "code",
   "execution_count": 9,
   "metadata": {},
   "outputs": [
    {
     "data": {
      "text/plain": [
       "passengerid      0\n",
       "survived         0\n",
       "pclass           0\n",
       "name             0\n",
       "sex              0\n",
       "age            177\n",
       "sibsp            0\n",
       "parch            0\n",
       "ticket           0\n",
       "fare             0\n",
       "cabin          687\n",
       "embarked         2\n",
       "dtype: int64"
      ]
     },
     "execution_count": 9,
     "metadata": {},
     "output_type": "execute_result"
    }
   ],
   "source": [
    "# Identificando dados ausentes\n",
    "df_titanic.isnull().sum()"
   ]
  },
  {
   "cell_type": "markdown",
   "metadata": {},
   "source": [
    "#### Colunas com dados ausentes\n",
    "- age\n",
    "- cabin\n",
    "- embarked"
   ]
  },
  {
   "cell_type": "markdown",
   "metadata": {},
   "source": [
    "Como iremos utilizar a coluna age em nossas analises, iremos preencher os dados ausentes com a média"
   ]
  },
  {
   "cell_type": "code",
   "execution_count": 10,
   "metadata": {},
   "outputs": [],
   "source": [
    "# Coluna age\n",
    "\n",
    "female_mean = df_titanic.query('sex == \"female\"')['age'].mean() #media de idade das mulheres\n",
    "male_mean = df_titanic.query('sex == \"male\"')['age'].mean() #media de idade dos homens\n",
    "\n",
    "# Atualizando as idades em branco com o valor da média de acordo com o genero\n",
    "df_titanic.loc[(df_titanic.sex == 'female') & (df_titanic.age.isnull()), 'age'] = female_mean\n",
    "df_titanic.loc[(df_titanic.sex == 'male') & (df_titanic.age.isnull()), 'age'] = male_mean"
   ]
  },
  {
   "cell_type": "code",
   "execution_count": 11,
   "metadata": {},
   "outputs": [
    {
     "data": {
      "text/plain": [
       "passengerid      0\n",
       "survived         0\n",
       "pclass           0\n",
       "name             0\n",
       "sex              0\n",
       "age              0\n",
       "sibsp            0\n",
       "parch            0\n",
       "ticket           0\n",
       "fare             0\n",
       "cabin          687\n",
       "embarked         2\n",
       "dtype: int64"
      ]
     },
     "execution_count": 11,
     "metadata": {},
     "output_type": "execute_result"
    }
   ],
   "source": [
    "df_titanic.isnull().sum()"
   ]
  },
  {
   "cell_type": "markdown",
   "metadata": {},
   "source": [
    "As colunas __CABIN__ e __EMBARKED__ não irão atrapalhar as analises, não iremos atualiza-las ou remove-las da base"
   ]
  },
  {
   "cell_type": "markdown",
   "metadata": {},
   "source": [
    "### Funções"
   ]
  },
  {
   "cell_type": "code",
   "execution_count": 12,
   "metadata": {},
   "outputs": [],
   "source": [
    "def conta_info(coluna):\n",
    "    \"\"\"\n",
    "    Retorna o grupo de tipos e suas quantidades\n",
    "    Argumentos:\n",
    "    coluna: coluna que será manipulada.\n",
    "    Retorna:\n",
    "    Os tipos existentes e suas respectitivas quantidades de ocorrencias.\n",
    "    \"\"\"\n",
    "    return df_titanic.groupby(coluna)[coluna].count()"
   ]
  },
  {
   "cell_type": "code",
   "execution_count": 13,
   "metadata": {},
   "outputs": [],
   "source": [
    "def conta_sob(coluna):\n",
    "    \"\"\"\n",
    "    Retorna o grupo de tipos e suas quantidades dos SOBREVIVENTES\n",
    "    Argumentos:\n",
    "    coluna: coluna que será manipulada.\n",
    "    Retorna:\n",
    "    Os tipos existentes e suas respectitivas quantidades de ocorrencias.\n",
    "    \"\"\"\n",
    "    return df_titanic.query('survived == \"1\"').groupby(coluna)[coluna].count()"
   ]
  },
  {
   "cell_type": "markdown",
   "metadata": {},
   "source": [
    "## Total de Registros"
   ]
  },
  {
   "cell_type": "code",
   "execution_count": 14,
   "metadata": {},
   "outputs": [
    {
     "name": "stdout",
     "output_type": "stream",
     "text": [
      "Total de passageiros em nosso dataframe = 891\n"
     ]
    }
   ],
   "source": [
    "# Total de passageiros\n",
    "total_passageiros = df_titanic.shape[0]\n",
    "print('Total de passageiros em nosso dataframe = {}'.format(total_passageiros))"
   ]
  },
  {
   "cell_type": "markdown",
   "metadata": {},
   "source": [
    "#### Sobreviventes\n",
    "Obs. Nosso dataframe possui __891 linhas__ e segundo [Wikipedia](https://pt.wikipedia.org/wiki/RMS_Titanic#Passageiros) o Titanic partiu em sua primeira e única viagem com __1316__ passageiros a bordo"
   ]
  },
  {
   "cell_type": "code",
   "execution_count": 15,
   "metadata": {},
   "outputs": [
    {
     "name": "stdout",
     "output_type": "stream",
     "text": [
      "Segundo nossos dados, temos 342 sobreviventes\n"
     ]
    }
   ],
   "source": [
    "# Quantidade passageiros que sobreviveram ou não\n",
    "sobreviventes = conta_info('survived')\n",
    "print('Segundo nossos dados, temos {} sobreviventes'.format(sobreviventes[1]))"
   ]
  },
  {
   "cell_type": "code",
   "execution_count": 16,
   "metadata": {},
   "outputs": [
    {
     "data": {
      "image/png": "[encoded data removed]",
      "text/plain": [
       "<Figure size 432x288 with 1 Axes>"
      ]
     },
     "metadata": {
      "needs_background": "light"
     },
     "output_type": "display_data"
    }
   ],
   "source": [
    "# Plotando um gráfico de sobreviventes\n",
    "plt.bar(sobreviventes.index,sobreviventes, tick_label=['Não','Sim'], color=('Gray','Green'))\n",
    "plt.title('Quantidade de Sobreviventes')\n",
    "plt.xlabel('Sobrevivente')\n",
    "plt.ylabel('Quantidade');"
   ]
  },
  {
   "cell_type": "markdown",
   "metadata": {},
   "source": [
    "#### Por Classe\n",
    "Dados do [Wikipedia](https://pt.wikipedia.org/wiki/RMS_Titanic#Passageiros): 325 na primeira classe, 285 na segunda e 706 na terceira"
   ]
  },
  {
   "cell_type": "code",
   "execution_count": 17,
   "metadata": {},
   "outputs": [
    {
     "name": "stdout",
     "output_type": "stream",
     "text": [
      "Quantidade de Passageiros por CLASSE\n",
      " Primeira Classe: 216\n",
      " Segunda Classe: 184\n",
      " Terceira Classe: 491\n"
     ]
    }
   ],
   "source": [
    "# Quantidade de passageiros por classe\n",
    "qtde_classe = conta_info('pclass')\n",
    "print('Quantidade de Passageiros por CLASSE\\n Primeira Classe: {}\\n Segunda Classe: {}\\n Terceira Classe: {}'\n",
    "      .format(qtde_classe[1],qtde_classe[2],qtde_classe[3]))"
   ]
  },
  {
   "cell_type": "code",
   "execution_count": 50,
   "metadata": {},
   "outputs": [
    {
     "data": {
      "image/png": "[encoded data removed]",
      "text/plain": [
       "<Figure size 432x288 with 1 Axes>"
      ]
     },
     "metadata": {
      "needs_background": "light"
     },
     "output_type": "display_data"
    }
   ],
   "source": [
    "# Plotando um grático da quantidade de passageiros por classe\n",
    "classe = list(set(df_titanic['pclass']))\n",
    "qtde_classe.plot(kind='bar')\n",
    "plt.title('Quantidade de passageiros por CLASSE')\n",
    "plt.xticks((0,1,2), ('Primeira','Segunda','Terceira'), rotation=0)\n",
    "plt.xlabel('')\n",
    "plt.ylabel('Quantidade');"
   ]
  },
  {
   "cell_type": "markdown",
   "metadata": {},
   "source": [
    "Podemos observar pelo gráfico que a grande diferença na quantidade de passageiros na __terceira classe__"
   ]
  },
  {
   "cell_type": "code",
   "execution_count": 32,
   "metadata": {},
   "outputs": [
    {
     "name": "stdout",
     "output_type": "stream",
     "text": [
      "Proporção de cada classe em relação ao total de passageiros\n"
     ]
    },
    {
     "data": {
      "text/plain": [
       "pclass\n",
       "1    0.242424\n",
       "2    0.206510\n",
       "3    0.551066\n",
       "Name: pclass, dtype: float64"
      ]
     },
     "execution_count": 32,
     "metadata": {},
     "output_type": "execute_result"
    }
   ],
   "source": [
    "# Proporção dos Passageiros por Classe\n",
    "print('Proporção de cada classe em relação ao total de passageiros')\n",
    "qtde_classe / total_passageiros"
   ]
  },
  {
   "cell_type": "markdown",
   "metadata": {},
   "source": [
    "#### Por GENERO"
   ]
  },
  {
   "cell_type": "code",
   "execution_count": 33,
   "metadata": {},
   "outputs": [
    {
     "name": "stdout",
     "output_type": "stream",
     "text": [
      "Total de 314 mulheres e 577 homens \n"
     ]
    }
   ],
   "source": [
    "# Quantidade de passageiros por genero\n",
    "qtde_genero = conta_info('sex')\n",
    "print('Total de {} mulheres e {} homens '\n",
    "     .format(qtde_genero['female'],qtde_genero['male']))"
   ]
  },
  {
   "cell_type": "code",
   "execution_count": 39,
   "metadata": {},
   "outputs": [
    {
     "data": {
      "image/png": "[encoded data removed]",
      "text/plain": [
       "<Figure size 432x288 with 1 Axes>"
      ]
     },
     "metadata": {
      "needs_background": "light"
     },
     "output_type": "display_data"
    }
   ],
   "source": [
    "# Plotando um gráfico da quantidade de passageiros por genero\n",
    "genero = list(set(df_titanic['sex']))\n",
    "#plt.bar(genero,qtde_genero, tick_label=['Feminino','Masculno'])\n",
    "qtde_genero.plot(kind='bar')\n",
    "plt.xticks((0,1), ('Feminino','Masculino'), rotation=0)\n",
    "plt.title('Quantidade de passageiros por GENERO')\n",
    "plt.xlabel('')\n",
    "plt.ylabel('Quantidade');"
   ]
  },
  {
   "cell_type": "markdown",
   "metadata": {},
   "source": [
    "Acima é possível notar que a quantidade de passageiros do sexo masculino é quase o dobro do feminino."
   ]
  },
  {
   "cell_type": "markdown",
   "metadata": {},
   "source": [
    "#### Por IDADE\n",
    "\n",
    "Devido a diversidade de idades, iremos classifica-las, sendo dividida da seguinte forma:\n",
    "- Criança - 19 anos de idade\n",
    "- Adulto - até 60\n",
    "- Terceira Idade - a partir dos 60 anos"
   ]
  },
  {
   "cell_type": "code",
   "execution_count": 40,
   "metadata": {},
   "outputs": [],
   "source": [
    "# Classificando as idades\n",
    "\n",
    "class_idade = []\n",
    "for idade in df_titanic['age']:\n",
    "    if idade <= 19.:\n",
    "        class_idade.append('Criança')\n",
    "    elif idade <= 59.:\n",
    "        class_idade.append('Adulto')\n",
    "    else:\n",
    "        class_idade.append('Terceira Idade')\n",
    "    \n",
    "df_titanic['class_idade'] = class_idade"
   ]
  },
  {
   "cell_type": "code",
   "execution_count": 41,
   "metadata": {},
   "outputs": [
    {
     "name": "stdout",
     "output_type": "stream",
     "text": [
      "Idade média dos passageiros: 29.7 anos\n",
      "\n",
      "Total de passageiros por IDADE:\n",
      " Crianças: 164\n",
      " Adultos: 701\n",
      " Terceira Idade: 26\n"
     ]
    }
   ],
   "source": [
    "qtde_idade = conta_info('class_idade')\n",
    "print('Idade média dos passageiros: {:.1f} anos'\n",
    "     .format(df_titanic['age'].mean()))\n",
    "print('\\nTotal de passageiros por IDADE:\\n Crianças: {}\\n Adultos: {}\\n Terceira Idade: {}'\n",
    "     .format(qtde_idade['Criança'],qtde_idade['Adulto'],qtde_idade['Terceira Idade']))"
   ]
  },
  {
   "cell_type": "code",
   "execution_count": 44,
   "metadata": {},
   "outputs": [
    {
     "data": {
      "image/png": "[encoded data removed]",
      "text/plain": [
       "<Figure size 432x288 with 1 Axes>"
      ]
     },
     "metadata": {
      "needs_background": "light"
     },
     "output_type": "display_data"
    }
   ],
   "source": [
    "#plt.bar(qtde_idade.index,qtde_idade)\n",
    "qtde_idade.plot(kind='bar')\n",
    "plt.title('Quantidade de passageiros por IDADE')\n",
    "plt.xticks(rotation=0)\n",
    "plt.xlabel('')\n",
    "plt.ylabel('Quantidade');"
   ]
  },
  {
   "cell_type": "markdown",
   "metadata": {},
   "source": [
    "A grande maioria dos passageiros eram __adultos__, uma porcentagem pequena de __crianças__ e uma bem menor de passageiros na __teceira idade__."
   ]
  },
  {
   "cell_type": "markdown",
   "metadata": {},
   "source": [
    "#### Por PORTO DE EMBARQUE\n",
    "Dados do [Wikipedia](https://pt.wikipedia.org/wiki/RMS_Titanic#Passageiros): 922 embarcaram em Southampton, 274 em Cherbourg-Octeville na França e 120 em Queenstown na Irlanda."
   ]
  },
  {
   "cell_type": "code",
   "execution_count": 45,
   "metadata": {},
   "outputs": [
    {
     "name": "stdout",
     "output_type": "stream",
     "text": [
      "Total de passageiros por porto de embarque:\n",
      " Cherbourg: 168\n",
      " Queenstown: 77\n",
      " Southampton: 644\n"
     ]
    }
   ],
   "source": [
    "# Quantidade de passageiros por porto de embarque\n",
    "qtde_porto = conta_info('embarked')\n",
    "print('Total de passageiros por porto de embarque:\\n Cherbourg: {}\\n Queenstown: {}\\n Southampton: {}'\n",
    "     .format(qtde_porto['C'],qtde_porto['Q'],qtde_porto['S']))"
   ]
  },
  {
   "cell_type": "code",
   "execution_count": 46,
   "metadata": {},
   "outputs": [
    {
     "data": {
      "image/png": "[encoded data removed]",
      "text/plain": [
       "<Figure size 432x288 with 1 Axes>"
      ]
     },
     "metadata": {},
     "output_type": "display_data"
    }
   ],
   "source": [
    "# Plotando um gráfico de quantidade de passageiros por porto de embarque\n",
    "plt.pie(qtde_porto, labels=['Cherbourg','Queenstown','Southampton'], startangle=90, autopct='%.1f%%')\n",
    "plt.title('Quantidade de passageiros por PORTO DE EMBARQUE');"
   ]
  },
  {
   "cell_type": "markdown",
   "metadata": {},
   "source": [
    "O porto de Southampton foi onde o Titanic início sua viagem, por isso temos a grande porcentagem de passageiros embarcados neste porto."
   ]
  },
  {
   "cell_type": "code",
   "execution_count": 47,
   "metadata": {},
   "outputs": [
    {
     "data": {
      "text/plain": [
       "embarked  pclass\n",
       "C         1          85\n",
       "          2          17\n",
       "          3          66\n",
       "Q         1           2\n",
       "          2           3\n",
       "          3          72\n",
       "S         1         127\n",
       "          2         164\n",
       "          3         353\n",
       "Name: pclass, dtype: int64"
      ]
     },
     "execution_count": 47,
     "metadata": {},
     "output_type": "execute_result"
    }
   ],
   "source": [
    "# Quantidade de passageiros embarcados em cada porto, por classe.\n",
    "df_titanic.groupby(['embarked','pclass'])['pclass'].count()"
   ]
  },
  {
   "cell_type": "markdown",
   "metadata": {},
   "source": [
    "Acima apenas uma visão da quantidade de passageiros embarcados em cada porto, separados por classe"
   ]
  },
  {
   "cell_type": "markdown",
   "metadata": {},
   "source": [
    "## Analisando os sobreviventes"
   ]
  },
  {
   "cell_type": "markdown",
   "metadata": {},
   "source": [
    "### Por CLASSE"
   ]
  },
  {
   "cell_type": "code",
   "execution_count": 48,
   "metadata": {},
   "outputs": [
    {
     "name": "stdout",
     "output_type": "stream",
     "text": [
      "Sobreviventes por CLASSE\n",
      " Primeira Classe: 136\n",
      " Segunda Classe: 87\n",
      " Terceira Classe: 119\n"
     ]
    }
   ],
   "source": [
    "# Quantidade de sobreviventes por CLASSE\n",
    "sob_classe = conta_sob('pclass')\n",
    "print('Sobreviventes por CLASSE\\n Primeira Classe: {}\\n Segunda Classe: {}\\n Terceira Classe: {}'\n",
    "     .format(sob_classe[1],sob_classe[2],sob_classe[3]))"
   ]
  },
  {
   "cell_type": "code",
   "execution_count": 51,
   "metadata": {},
   "outputs": [
    {
     "data": {
      "image/png": "[encoded data removed]",
      "text/plain": [
       "<Figure size 432x288 with 1 Axes>"
      ]
     },
     "metadata": {
      "needs_background": "light"
     },
     "output_type": "display_data"
    }
   ],
   "source": [
    "# Plotando um gráfico de sobreviventes por CLASSE\n",
    "#plt.bar(sob_classe.index,sob_classe, tick_label=['Primeira','Segunda','Terceira'])\n",
    "sob_classe.plot(kind='bar')\n",
    "plt.title('Quantidade de sobreviventes por CLASSE')\n",
    "plt.xticks((0,1,2), ('Primeira','Segunda','Terceira'), rotation=0)\n",
    "plt.xlabel('')\n",
    "plt.ylabel('Quantidade');"
   ]
  },
  {
   "cell_type": "markdown",
   "metadata": {},
   "source": [
    "Vimos anteriormente que a __terceira classe__ representava a maioria dos passageiros embarcados, mas agora podemos observar que na analise de sobreviventes prevalece os da __primeira classe__"
   ]
  },
  {
   "cell_type": "code",
   "execution_count": 52,
   "metadata": {},
   "outputs": [
    {
     "name": "stdout",
     "output_type": "stream",
     "text": [
      "Sobreviventes por GENERO:\n",
      " 233 mulheres\n",
      " 109 homens\n"
     ]
    }
   ],
   "source": [
    "sob_genero = conta_sob('sex')\n",
    "print('Sobreviventes por GENERO:\\n {} mulheres\\n {} homens'\n",
    "     .format(sob_genero['female'],sob_genero['male']))"
   ]
  },
  {
   "cell_type": "code",
   "execution_count": 55,
   "metadata": {},
   "outputs": [
    {
     "data": {
      "image/png": "[encoded data removed]",
      "text/plain": [
       "<Figure size 432x288 with 1 Axes>"
      ]
     },
     "metadata": {
      "needs_background": "light"
     },
     "output_type": "display_data"
    }
   ],
   "source": [
    "genero = ('Feminino', 'Masculino')\n",
    "plt.bar(genero,sob_genero, color=(\"pink\",\"gray\"))\n",
    "plt.title('Sobreviventes por GENERO')\n",
    "plt.ylabel('Quantidade');"
   ]
  },
  {
   "cell_type": "markdown",
   "metadata": {},
   "source": [
    "Assim como na classe, na analise dos sobreviventes por gênero observamos uma inversão nos valores, passando o numero de __mulheres__ ser o dobro da de __homens__"
   ]
  },
  {
   "cell_type": "markdown",
   "metadata": {},
   "source": [
    "### Por IDADE"
   ]
  },
  {
   "cell_type": "code",
   "execution_count": 56,
   "metadata": {},
   "outputs": [
    {
     "name": "stdout",
     "output_type": "stream",
     "text": [
      "Idade média dos sobreviventes: 28.4 anos\n",
      "\n",
      "Total de sobreviventes por IDADE:\n",
      " Crianças: 79\n",
      " Adultos: 256\n",
      " Terceira Idade: 7\n"
     ]
    }
   ],
   "source": [
    "# Quantidade de sobreviventes por IDADE\n",
    "sob_idade = conta_sob('class_idade')\n",
    "print('Idade média dos sobreviventes: {:.1f} anos'.format(df_titanic.query('survived == 1')['age'].mean()))\n",
    "print('\\nTotal de sobreviventes por IDADE:\\n Crianças: {}\\n Adultos: {}\\n Terceira Idade: {}'\n",
    "     .format(sob_idade['Criança'],sob_idade['Adulto'],sob_idade['Terceira Idade']))"
   ]
  },
  {
   "cell_type": "code",
   "execution_count": 60,
   "metadata": {},
   "outputs": [
    {
     "data": {
      "image/png": "[encoded data removed]",
      "text/plain": [
       "<Figure size 432x288 with 1 Axes>"
      ]
     },
     "metadata": {
      "needs_background": "light"
     },
     "output_type": "display_data"
    }
   ],
   "source": [
    "# Plotando um gráfico dos sobreviventes por IDADE\n",
    "#plt.bar(sob_idade.index,sob_idade)\n",
    "sob_idade.plot(kind=\"bar\")\n",
    "plt.title('Gráfico de sobreviventes por IDADE')\n",
    "plt.xlabel('')\n",
    "plt.ylabel('Quantidade')\n",
    "plt.xticks(rotation=0);"
   ]
  },
  {
   "cell_type": "markdown",
   "metadata": {},
   "source": [
    "O gráfico de sobreviventes por idade não demonstra uma diferença visível em relação ao gráfico do total de passageiros, iremos comparar melhor mais a frente no projeto."
   ]
  },
  {
   "cell_type": "code",
   "execution_count": 61,
   "metadata": {},
   "outputs": [
    {
     "name": "stdout",
     "output_type": "stream",
     "text": [
      "O sobrevivente mais idoso tinha 80.0 anos e o mais novo 0.42 anos \n"
     ]
    }
   ],
   "source": [
    "maior_idade = df_titanic.query('survived == 1')['age'].max()\n",
    "menor_idade = df_titanic.query('survived == 1')['age'].min()\n",
    "print('O sobrevivente mais idoso tinha {} anos e o mais novo {} anos '\n",
    "     .format(maior_idade,menor_idade))"
   ]
  },
  {
   "cell_type": "code",
   "execution_count": 62,
   "metadata": {},
   "outputs": [
    {
     "name": "stdout",
     "output_type": "stream",
     "text": [
      "Sobrevivente com maior idade\n"
     ]
    },
    {
     "data": {
      "text/html": [
       "<div>\n",
       "<style scoped>\n",
       "    .dataframe tbody tr th:only-of-type {\n",
       "        vertical-align: middle;\n",
       "    }\n",
       "\n",
       "    .dataframe tbody tr th {\n",
       "        vertical-align: top;\n",
       "    }\n",
       "\n",
       "    .dataframe thead th {\n",
       "        text-align: right;\n",
       "    }\n",
       "</style>\n",
       "<table border=\"1\" class=\"dataframe\">\n",
       "  <thead>\n",
       "    <tr style=\"text-align: right;\">\n",
       "      <th></th>\n",
       "      <th>passengerid</th>\n",
       "      <th>survived</th>\n",
       "      <th>pclass</th>\n",
       "      <th>name</th>\n",
       "      <th>sex</th>\n",
       "      <th>age</th>\n",
       "      <th>sibsp</th>\n",
       "      <th>parch</th>\n",
       "      <th>ticket</th>\n",
       "      <th>fare</th>\n",
       "      <th>cabin</th>\n",
       "      <th>embarked</th>\n",
       "      <th>class_idade</th>\n",
       "    </tr>\n",
       "  </thead>\n",
       "  <tbody>\n",
       "    <tr>\n",
       "      <th>630</th>\n",
       "      <td>631</td>\n",
       "      <td>1</td>\n",
       "      <td>1</td>\n",
       "      <td>Barkworth, Mr. Algernon Henry Wilson</td>\n",
       "      <td>male</td>\n",
       "      <td>80.0</td>\n",
       "      <td>0</td>\n",
       "      <td>0</td>\n",
       "      <td>27042</td>\n",
       "      <td>30.0</td>\n",
       "      <td>A23</td>\n",
       "      <td>S</td>\n",
       "      <td>Terceira Idade</td>\n",
       "    </tr>\n",
       "  </tbody>\n",
       "</table>\n",
       "</div>"
      ],
      "text/plain": [
       "     passengerid  survived  pclass                                  name  \\\n",
       "630          631         1       1  Barkworth, Mr. Algernon Henry Wilson   \n",
       "\n",
       "      sex   age  sibsp  parch ticket  fare cabin embarked     class_idade  \n",
       "630  male  80.0      0      0  27042  30.0   A23        S  Terceira Idade  "
      ]
     },
     "execution_count": 62,
     "metadata": {},
     "output_type": "execute_result"
    }
   ],
   "source": [
    "print('Sobrevivente com maior idade')\n",
    "df_titanic[df_titanic['age'] == maior_idade]"
   ]
  },
  {
   "cell_type": "code",
   "execution_count": 63,
   "metadata": {},
   "outputs": [
    {
     "name": "stdout",
     "output_type": "stream",
     "text": [
      "Sobrevivente com menor idade\n"
     ]
    },
    {
     "data": {
      "text/html": [
       "<div>\n",
       "<style scoped>\n",
       "    .dataframe tbody tr th:only-of-type {\n",
       "        vertical-align: middle;\n",
       "    }\n",
       "\n",
       "    .dataframe tbody tr th {\n",
       "        vertical-align: top;\n",
       "    }\n",
       "\n",
       "    .dataframe thead th {\n",
       "        text-align: right;\n",
       "    }\n",
       "</style>\n",
       "<table border=\"1\" class=\"dataframe\">\n",
       "  <thead>\n",
       "    <tr style=\"text-align: right;\">\n",
       "      <th></th>\n",
       "      <th>passengerid</th>\n",
       "      <th>survived</th>\n",
       "      <th>pclass</th>\n",
       "      <th>name</th>\n",
       "      <th>sex</th>\n",
       "      <th>age</th>\n",
       "      <th>sibsp</th>\n",
       "      <th>parch</th>\n",
       "      <th>ticket</th>\n",
       "      <th>fare</th>\n",
       "      <th>cabin</th>\n",
       "      <th>embarked</th>\n",
       "      <th>class_idade</th>\n",
       "    </tr>\n",
       "  </thead>\n",
       "  <tbody>\n",
       "    <tr>\n",
       "      <th>803</th>\n",
       "      <td>804</td>\n",
       "      <td>1</td>\n",
       "      <td>3</td>\n",
       "      <td>Thomas, Master. Assad Alexander</td>\n",
       "      <td>male</td>\n",
       "      <td>0.42</td>\n",
       "      <td>0</td>\n",
       "      <td>1</td>\n",
       "      <td>2625</td>\n",
       "      <td>8.5167</td>\n",
       "      <td>NaN</td>\n",
       "      <td>C</td>\n",
       "      <td>Criança</td>\n",
       "    </tr>\n",
       "  </tbody>\n",
       "</table>\n",
       "</div>"
      ],
      "text/plain": [
       "     passengerid  survived  pclass                             name   sex  \\\n",
       "803          804         1       3  Thomas, Master. Assad Alexander  male   \n",
       "\n",
       "      age  sibsp  parch ticket    fare cabin embarked class_idade  \n",
       "803  0.42      0      1   2625  8.5167   NaN        C     Criança  "
      ]
     },
     "execution_count": 63,
     "metadata": {},
     "output_type": "execute_result"
    }
   ],
   "source": [
    "print('Sobrevivente com menor idade')\n",
    "df_titanic[df_titanic['age'] == menor_idade]"
   ]
  },
  {
   "cell_type": "markdown",
   "metadata": {},
   "source": [
    "### Classificando passageiros acompanhados ou não\n",
    "#### Passageiros que possuem informação na coluna Sibsp ou Parch terão na coluna 'acompanhado' a informação SIM"
   ]
  },
  {
   "cell_type": "code",
   "execution_count": 64,
   "metadata": {},
   "outputs": [],
   "source": [
    "acompanhado = []\n",
    "pos = 0\n",
    "for registro in range(len(df_titanic)):\n",
    "    if df_titanic['sibsp'][pos] > 0 or df_titanic['parch'][pos] > 0:\n",
    "        acompanhado.append('SIM')\n",
    "    else:\n",
    "        acompanhado.append('NÃO')\n",
    "    pos += 1\n",
    "    \n",
    "df_titanic['acompanhado'] = acompanhado"
   ]
  },
  {
   "cell_type": "code",
   "execution_count": 65,
   "metadata": {},
   "outputs": [
    {
     "name": "stdout",
     "output_type": "stream",
     "text": [
      "179 sobreviventes que viajam acompanhados\n",
      "163 sobreviventes que viajavam sozinhos\n"
     ]
    }
   ],
   "source": [
    "sob_acompanhado = conta_sob('acompanhado')\n",
    "print('{} sobreviventes que viajam acompanhados\\n{} sobreviventes que viajavam sozinhos'\n",
    "      .format(sob_acompanhado['SIM'],sob_acompanhado['NÃO']))"
   ]
  },
  {
   "cell_type": "code",
   "execution_count": 66,
   "metadata": {},
   "outputs": [
    {
     "data": {
      "image/png": "[encoded data removed]",
      "text/plain": [
       "<Figure size 432x288 with 1 Axes>"
      ]
     },
     "metadata": {
      "needs_background": "light"
     },
     "output_type": "display_data"
    }
   ],
   "source": [
    "plt.bar(sob_acompanhado.index,sob_acompanhado, color=(\"Gray\",\"Brown\"))\n",
    "plt.ylim(140,190)\n",
    "plt.title('Sobreviventes')\n",
    "plt.xlabel('Viajando acompanhado ?')\n",
    "plt.ylabel('Quantidade');"
   ]
  },
  {
   "cell_type": "markdown",
   "metadata": {},
   "source": [
    "O número de passageiros acompanhados não possui grande diferença com os que viajavam sozinhos, o que não nos permite dizer que foi fator determinante na sobrevivência."
   ]
  },
  {
   "cell_type": "markdown",
   "metadata": {},
   "source": [
    "### Analise dos dados"
   ]
  },
  {
   "cell_type": "code",
   "execution_count": 67,
   "metadata": {},
   "outputs": [
    {
     "data": {
      "image/png": "[encoded data removed]",
      "text/plain": [
       "<Figure size 432x288 with 1 Axes>"
      ]
     },
     "metadata": {
      "needs_background": "light"
     },
     "output_type": "display_data"
    }
   ],
   "source": [
    "# A classe foi fator determinante para a sobrevivencia ?\n",
    "classes = ['Primeira','Segunda','Terceira']\n",
    "plt.bar(qtde_classe.index,qtde_classe, tick_label=classes, label='Total')\n",
    "plt.bar(sob_classe.index,sob_classe, label='Sobreviventes')\n",
    "plt.title('Comparativo de TOTAL PASSAGEIROS x SOBREVIVENTES por CLASSE')\n",
    "plt.ylabel('Quantidade')\n",
    "plt.legend();"
   ]
  },
  {
   "cell_type": "markdown",
   "metadata": {},
   "source": [
    "É visivel pelo gráfico que proporcionalmente a quantidade de passageiros da __Primeira Classe__ que sobreviveram é maior que o da __Segunda Classe__ e esta ao da __Terceira__."
   ]
  },
  {
   "cell_type": "code",
   "execution_count": 68,
   "metadata": {},
   "outputs": [
    {
     "data": {
      "image/png": "[encoded data removed]",
      "text/plain": [
       "<Figure size 432x288 with 1 Axes>"
      ]
     },
     "metadata": {
      "needs_background": "light"
     },
     "output_type": "display_data"
    }
   ],
   "source": [
    "# Mulheres e Crianças primeiro ?\n",
    "\n",
    "plt.bar(genero,qtde_genero, tick_label=['Feminino','Masculno'], label='Total')\n",
    "plt.bar(genero,sob_genero, label='Sobreviventes')\n",
    "plt.title('Comparativo de TOTAL PASSAGEIROS x SOBREVIVENTES por GENERO')\n",
    "plt.ylabel('Quantidade')\n",
    "plt.legend();"
   ]
  },
  {
   "cell_type": "markdown",
   "metadata": {},
   "source": [
    "O gráfico acima mostra que a proporção de __mulheres__ que sobreviveram é superior a de __homens__"
   ]
  },
  {
   "cell_type": "code",
   "execution_count": 69,
   "metadata": {},
   "outputs": [
    {
     "data": {
      "image/png": "[encoded data removed]",
      "text/plain": [
       "<Figure size 432x288 with 1 Axes>"
      ]
     },
     "metadata": {
      "needs_background": "light"
     },
     "output_type": "display_data"
    }
   ],
   "source": [
    "plt.bar(qtde_idade.index,qtde_idade, label='Total')\n",
    "plt.bar(sob_idade.index,sob_idade, label='Sobreviventes')\n",
    "plt.title('Comparativo de TOTAL PASSAGEIROS x SOBREVIVENTES por IDADE')\n",
    "plt.ylabel('Quantidade')\n",
    "plt.legend();"
   ]
  },
  {
   "cell_type": "markdown",
   "metadata": {},
   "source": [
    "Para termos uma melhor ideia das proporções por idade:"
   ]
  },
  {
   "cell_type": "code",
   "execution_count": 70,
   "metadata": {},
   "outputs": [
    {
     "name": "stdout",
     "output_type": "stream",
     "text": [
      "Proporção de SOBREVIVENTES X TOTAL PASSAGEIROS\n",
      "class_idade\n",
      "Adulto            0.786756\n",
      "Criança           0.184063\n",
      "Terceira Idade    0.029181\n",
      "Name: class_idade, dtype: float64\n"
     ]
    }
   ],
   "source": [
    "#Proporção de sobreviventes por IDADE\n",
    "print('Proporção de SOBREVIVENTES X TOTAL PASSAGEIROS')\n",
    "print(qtde_idade / total_passageiros)"
   ]
  },
  {
   "cell_type": "markdown",
   "metadata": {},
   "source": [
    "Se olharmos a proporção dentro do __TOTAL DE PASSAGEIROS__, iremos observar que a proporção de __adultos__ sobreviventes é maior que a de __crianças__ e __teceira idade__"
   ]
  },
  {
   "cell_type": "code",
   "execution_count": 71,
   "metadata": {},
   "outputs": [
    {
     "name": "stdout",
     "output_type": "stream",
     "text": [
      "\n",
      "Proporção de SOBREVIVENTE POR IDADE X PASSAGEIROS POR IDADE\n",
      "class_idade\n",
      "Adulto            0.365193\n",
      "Criança           0.481707\n",
      "Terceira Idade    0.269231\n",
      "Name: class_idade, dtype: float64\n"
     ]
    }
   ],
   "source": [
    "print('\\nProporção de SOBREVIVENTE POR IDADE X PASSAGEIROS POR IDADE')\n",
    "print(sob_idade / qtde_idade)\n",
    "#Estamos calculado a proporção por grupo de idade e não pelo total de passageiros"
   ]
  },
  {
   "cell_type": "markdown",
   "metadata": {},
   "source": [
    "Mas ao olhar a proporção de sobreviventes por grupo de idade, a proporção de __crianças__ que sobreviveram é maior que a de __adultos__ e esta é maior que __terceira idade__"
   ]
  },
  {
   "cell_type": "markdown",
   "metadata": {},
   "source": [
    "## Outras observações"
   ]
  },
  {
   "cell_type": "markdown",
   "metadata": {},
   "source": [
    "### Nomes - Mulheres"
   ]
  },
  {
   "cell_type": "code",
   "execution_count": 72,
   "metadata": {},
   "outputs": [
    {
     "data": {
      "text/html": [
       "<div>\n",
       "<style scoped>\n",
       "    .dataframe tbody tr th:only-of-type {\n",
       "        vertical-align: middle;\n",
       "    }\n",
       "\n",
       "    .dataframe tbody tr th {\n",
       "        vertical-align: top;\n",
       "    }\n",
       "\n",
       "    .dataframe thead th {\n",
       "        text-align: right;\n",
       "    }\n",
       "</style>\n",
       "<table border=\"1\" class=\"dataframe\">\n",
       "  <thead>\n",
       "    <tr style=\"text-align: right;\">\n",
       "      <th></th>\n",
       "      <th>passengerid</th>\n",
       "      <th>survived</th>\n",
       "      <th>pclass</th>\n",
       "      <th>name</th>\n",
       "      <th>sex</th>\n",
       "      <th>age</th>\n",
       "      <th>sibsp</th>\n",
       "      <th>parch</th>\n",
       "      <th>ticket</th>\n",
       "      <th>fare</th>\n",
       "      <th>cabin</th>\n",
       "      <th>embarked</th>\n",
       "      <th>class_idade</th>\n",
       "      <th>acompanhado</th>\n",
       "    </tr>\n",
       "  </thead>\n",
       "  <tbody>\n",
       "    <tr>\n",
       "      <th>1</th>\n",
       "      <td>2</td>\n",
       "      <td>1</td>\n",
       "      <td>1</td>\n",
       "      <td>Cumings, Mrs. John Bradley (Florence Briggs Th...</td>\n",
       "      <td>female</td>\n",
       "      <td>38.0</td>\n",
       "      <td>1</td>\n",
       "      <td>0</td>\n",
       "      <td>PC 17599</td>\n",
       "      <td>71.2833</td>\n",
       "      <td>C85</td>\n",
       "      <td>C</td>\n",
       "      <td>Adulto</td>\n",
       "      <td>SIM</td>\n",
       "    </tr>\n",
       "    <tr>\n",
       "      <th>2</th>\n",
       "      <td>3</td>\n",
       "      <td>1</td>\n",
       "      <td>3</td>\n",
       "      <td>Heikkinen, Miss. Laina</td>\n",
       "      <td>female</td>\n",
       "      <td>26.0</td>\n",
       "      <td>0</td>\n",
       "      <td>0</td>\n",
       "      <td>STON/O2. 3101282</td>\n",
       "      <td>7.9250</td>\n",
       "      <td>NaN</td>\n",
       "      <td>S</td>\n",
       "      <td>Adulto</td>\n",
       "      <td>NÃO</td>\n",
       "    </tr>\n",
       "    <tr>\n",
       "      <th>3</th>\n",
       "      <td>4</td>\n",
       "      <td>1</td>\n",
       "      <td>1</td>\n",
       "      <td>Futrelle, Mrs. Jacques Heath (Lily May Peel)</td>\n",
       "      <td>female</td>\n",
       "      <td>35.0</td>\n",
       "      <td>1</td>\n",
       "      <td>0</td>\n",
       "      <td>113803</td>\n",
       "      <td>53.1000</td>\n",
       "      <td>C123</td>\n",
       "      <td>S</td>\n",
       "      <td>Adulto</td>\n",
       "      <td>SIM</td>\n",
       "    </tr>\n",
       "    <tr>\n",
       "      <th>8</th>\n",
       "      <td>9</td>\n",
       "      <td>1</td>\n",
       "      <td>3</td>\n",
       "      <td>Johnson, Mrs. Oscar W (Elisabeth Vilhelmina Berg)</td>\n",
       "      <td>female</td>\n",
       "      <td>27.0</td>\n",
       "      <td>0</td>\n",
       "      <td>2</td>\n",
       "      <td>347742</td>\n",
       "      <td>11.1333</td>\n",
       "      <td>NaN</td>\n",
       "      <td>S</td>\n",
       "      <td>Adulto</td>\n",
       "      <td>SIM</td>\n",
       "    </tr>\n",
       "    <tr>\n",
       "      <th>9</th>\n",
       "      <td>10</td>\n",
       "      <td>1</td>\n",
       "      <td>2</td>\n",
       "      <td>Nasser, Mrs. Nicholas (Adele Achem)</td>\n",
       "      <td>female</td>\n",
       "      <td>14.0</td>\n",
       "      <td>1</td>\n",
       "      <td>0</td>\n",
       "      <td>237736</td>\n",
       "      <td>30.0708</td>\n",
       "      <td>NaN</td>\n",
       "      <td>C</td>\n",
       "      <td>Criança</td>\n",
       "      <td>SIM</td>\n",
       "    </tr>\n",
       "  </tbody>\n",
       "</table>\n",
       "</div>"
      ],
      "text/plain": [
       "   passengerid  survived  pclass  \\\n",
       "1            2         1       1   \n",
       "2            3         1       3   \n",
       "3            4         1       1   \n",
       "8            9         1       3   \n",
       "9           10         1       2   \n",
       "\n",
       "                                                name     sex   age  sibsp  \\\n",
       "1  Cumings, Mrs. John Bradley (Florence Briggs Th...  female  38.0      1   \n",
       "2                             Heikkinen, Miss. Laina  female  26.0      0   \n",
       "3       Futrelle, Mrs. Jacques Heath (Lily May Peel)  female  35.0      1   \n",
       "8  Johnson, Mrs. Oscar W (Elisabeth Vilhelmina Berg)  female  27.0      0   \n",
       "9                Nasser, Mrs. Nicholas (Adele Achem)  female  14.0      1   \n",
       "\n",
       "   parch            ticket     fare cabin embarked class_idade acompanhado  \n",
       "1      0          PC 17599  71.2833   C85        C      Adulto         SIM  \n",
       "2      0  STON/O2. 3101282   7.9250   NaN        S      Adulto         NÃO  \n",
       "3      0            113803  53.1000  C123        S      Adulto         SIM  \n",
       "8      2            347742  11.1333   NaN        S      Adulto         SIM  \n",
       "9      0            237736  30.0708   NaN        C     Criança         SIM  "
      ]
     },
     "execution_count": 72,
     "metadata": {},
     "output_type": "execute_result"
    }
   ],
   "source": [
    "# Observação sobre a coluna name\n",
    "\n",
    "df_titanic[df_titanic['sex'] == 'female'].head()"
   ]
  },
  {
   "cell_type": "markdown",
   "metadata": {},
   "source": [
    "Em alguns registros podemos observar que o __nome da mulher__ esta entre parentes e antes é exibido o nome do marido, seria uma característica de cadastro da época ?"
   ]
  },
  {
   "cell_type": "markdown",
   "metadata": {},
   "source": [
    "### Valor das Passagens"
   ]
  },
  {
   "cell_type": "code",
   "execution_count": 73,
   "metadata": {},
   "outputs": [
    {
     "name": "stdout",
     "output_type": "stream",
     "text": [
      "O valor mais alto pago por uma passagem do Titanic foi de $512.33 e o valor mais baixo $0.0\n"
     ]
    }
   ],
   "source": [
    "max_fare = df_titanic['fare'].max()\n",
    "min_fare = df_titanic['fare'].min()\n",
    "print('O valor mais alto pago por uma passagem do Titanic foi de ${:.2f} e o valor mais baixo ${}'\n",
    "     .format(max_fare,min_fare))"
   ]
  },
  {
   "cell_type": "code",
   "execution_count": 74,
   "metadata": {},
   "outputs": [
    {
     "name": "stdout",
     "output_type": "stream",
     "text": [
      "Passageiros que pagaram o maior valor de passagem\n"
     ]
    },
    {
     "data": {
      "text/html": [
       "<div>\n",
       "<style scoped>\n",
       "    .dataframe tbody tr th:only-of-type {\n",
       "        vertical-align: middle;\n",
       "    }\n",
       "\n",
       "    .dataframe tbody tr th {\n",
       "        vertical-align: top;\n",
       "    }\n",
       "\n",
       "    .dataframe thead th {\n",
       "        text-align: right;\n",
       "    }\n",
       "</style>\n",
       "<table border=\"1\" class=\"dataframe\">\n",
       "  <thead>\n",
       "    <tr style=\"text-align: right;\">\n",
       "      <th></th>\n",
       "      <th>passengerid</th>\n",
       "      <th>survived</th>\n",
       "      <th>pclass</th>\n",
       "      <th>name</th>\n",
       "      <th>sex</th>\n",
       "      <th>age</th>\n",
       "      <th>sibsp</th>\n",
       "      <th>parch</th>\n",
       "      <th>ticket</th>\n",
       "      <th>fare</th>\n",
       "      <th>cabin</th>\n",
       "      <th>embarked</th>\n",
       "      <th>class_idade</th>\n",
       "      <th>acompanhado</th>\n",
       "    </tr>\n",
       "  </thead>\n",
       "  <tbody>\n",
       "    <tr>\n",
       "      <th>258</th>\n",
       "      <td>259</td>\n",
       "      <td>1</td>\n",
       "      <td>1</td>\n",
       "      <td>Ward, Miss. Anna</td>\n",
       "      <td>female</td>\n",
       "      <td>35.0</td>\n",
       "      <td>0</td>\n",
       "      <td>0</td>\n",
       "      <td>PC 17755</td>\n",
       "      <td>512.3292</td>\n",
       "      <td>NaN</td>\n",
       "      <td>C</td>\n",
       "      <td>Adulto</td>\n",
       "      <td>NÃO</td>\n",
       "    </tr>\n",
       "    <tr>\n",
       "      <th>679</th>\n",
       "      <td>680</td>\n",
       "      <td>1</td>\n",
       "      <td>1</td>\n",
       "      <td>Cardeza, Mr. Thomas Drake Martinez</td>\n",
       "      <td>male</td>\n",
       "      <td>36.0</td>\n",
       "      <td>0</td>\n",
       "      <td>1</td>\n",
       "      <td>PC 17755</td>\n",
       "      <td>512.3292</td>\n",
       "      <td>B51 B53 B55</td>\n",
       "      <td>C</td>\n",
       "      <td>Adulto</td>\n",
       "      <td>SIM</td>\n",
       "    </tr>\n",
       "    <tr>\n",
       "      <th>737</th>\n",
       "      <td>738</td>\n",
       "      <td>1</td>\n",
       "      <td>1</td>\n",
       "      <td>Lesurer, Mr. Gustave J</td>\n",
       "      <td>male</td>\n",
       "      <td>35.0</td>\n",
       "      <td>0</td>\n",
       "      <td>0</td>\n",
       "      <td>PC 17755</td>\n",
       "      <td>512.3292</td>\n",
       "      <td>B101</td>\n",
       "      <td>C</td>\n",
       "      <td>Adulto</td>\n",
       "      <td>NÃO</td>\n",
       "    </tr>\n",
       "  </tbody>\n",
       "</table>\n",
       "</div>"
      ],
      "text/plain": [
       "     passengerid  survived  pclass                                name  \\\n",
       "258          259         1       1                    Ward, Miss. Anna   \n",
       "679          680         1       1  Cardeza, Mr. Thomas Drake Martinez   \n",
       "737          738         1       1              Lesurer, Mr. Gustave J   \n",
       "\n",
       "        sex   age  sibsp  parch    ticket      fare        cabin embarked  \\\n",
       "258  female  35.0      0      0  PC 17755  512.3292          NaN        C   \n",
       "679    male  36.0      0      1  PC 17755  512.3292  B51 B53 B55        C   \n",
       "737    male  35.0      0      0  PC 17755  512.3292         B101        C   \n",
       "\n",
       "    class_idade acompanhado  \n",
       "258      Adulto         NÃO  \n",
       "679      Adulto         SIM  \n",
       "737      Adulto         NÃO  "
      ]
     },
     "execution_count": 74,
     "metadata": {},
     "output_type": "execute_result"
    }
   ],
   "source": [
    "print('Passageiros que pagaram o maior valor de passagem')\n",
    "df_titanic.query('fare == @max_fare')"
   ]
  },
  {
   "cell_type": "markdown",
   "metadata": {},
   "source": [
    "Segundo os registros, os passageiros que pagaram o maior valor de passagem estão entre os sobreviventes.\n",
    "\n",
    "Pesquisando pelo nome dos sobreviventes, encontramos a informação de que se trata de uma comitiva composta por 4 passageiros, não localizamos na base informações relacionadas a passageira __Charlotte Drake Cardeza__ que seria a responsável da comitiva.\n",
    "[Informações sobre os passageiros](https://www.encyclopedia-titanica.org/titanic-survivor/charlotte-cardeza.html)"
   ]
  },
  {
   "cell_type": "code",
   "execution_count": 75,
   "metadata": {},
   "outputs": [
    {
     "name": "stdout",
     "output_type": "stream",
     "text": [
      "Temos um total de 15 passageiros com valor de passagem = ZERO\n"
     ]
    }
   ],
   "source": [
    "# Valor igual a zero ?\n",
    "tarifa_zero = df_titanic.query('fare == 0')\n",
    "print('Temos um total de {} passageiros com valor de passagem = ZERO'\n",
    "      .format(tarifa_zero.shape[0]))"
   ]
  },
  {
   "cell_type": "code",
   "execution_count": 76,
   "metadata": {},
   "outputs": [
    {
     "name": "stdout",
     "output_type": "stream",
     "text": [
      "Passageiros com tarifa = ZERO\n",
      "179                 Leonard, Mr. Lionel\n",
      "263               Harrison, Mr. William\n",
      "271        Tornquist, Mr. William Henry\n",
      "277         Parkes, Mr. Francis \"Frank\"\n",
      "302     Johnson, Mr. William Cahoone Jr\n",
      "413      Cunningham, Mr. Alfred Fleming\n",
      "466               Campbell, Mr. William\n",
      "481    Frost, Mr. Anthony Wood \"Archie\"\n",
      "597                 Johnson, Mr. Alfred\n",
      "633       Parr, Mr. William Henry Marsh\n",
      "674          Watson, Mr. Ennis Hastings\n",
      "732                Knight, Mr. Robert J\n",
      "806              Andrews, Mr. Thomas Jr\n",
      "815                    Fry, Mr. Richard\n",
      "822     Reuchlin, Jonkheer. John George\n",
      "Name: name, dtype: object\n"
     ]
    }
   ],
   "source": [
    "# Os passageiros com tarifa = zero\n",
    "\n",
    "print('Passageiros com tarifa = ZERO')\n",
    "print(tarifa_zero['name'])"
   ]
  },
  {
   "cell_type": "code",
   "execution_count": 77,
   "metadata": {},
   "outputs": [
    {
     "name": "stdout",
     "output_type": "stream",
     "text": [
      "Dos 15 passageiros com tarifa ZERO apenas 1 sobreviveram\n"
     ]
    },
    {
     "data": {
      "text/html": [
       "<div>\n",
       "<style scoped>\n",
       "    .dataframe tbody tr th:only-of-type {\n",
       "        vertical-align: middle;\n",
       "    }\n",
       "\n",
       "    .dataframe tbody tr th {\n",
       "        vertical-align: top;\n",
       "    }\n",
       "\n",
       "    .dataframe thead th {\n",
       "        text-align: right;\n",
       "    }\n",
       "</style>\n",
       "<table border=\"1\" class=\"dataframe\">\n",
       "  <thead>\n",
       "    <tr style=\"text-align: right;\">\n",
       "      <th></th>\n",
       "      <th>passengerid</th>\n",
       "      <th>survived</th>\n",
       "      <th>pclass</th>\n",
       "      <th>name</th>\n",
       "      <th>sex</th>\n",
       "      <th>age</th>\n",
       "      <th>sibsp</th>\n",
       "      <th>parch</th>\n",
       "      <th>ticket</th>\n",
       "      <th>fare</th>\n",
       "      <th>cabin</th>\n",
       "      <th>embarked</th>\n",
       "      <th>class_idade</th>\n",
       "      <th>acompanhado</th>\n",
       "    </tr>\n",
       "  </thead>\n",
       "  <tbody>\n",
       "    <tr>\n",
       "      <th>271</th>\n",
       "      <td>272</td>\n",
       "      <td>1</td>\n",
       "      <td>3</td>\n",
       "      <td>Tornquist, Mr. William Henry</td>\n",
       "      <td>male</td>\n",
       "      <td>25.0</td>\n",
       "      <td>0</td>\n",
       "      <td>0</td>\n",
       "      <td>LINE</td>\n",
       "      <td>0.0</td>\n",
       "      <td>NaN</td>\n",
       "      <td>S</td>\n",
       "      <td>Adulto</td>\n",
       "      <td>NÃO</td>\n",
       "    </tr>\n",
       "  </tbody>\n",
       "</table>\n",
       "</div>"
      ],
      "text/plain": [
       "     passengerid  survived  pclass                          name   sex   age  \\\n",
       "271          272         1       3  Tornquist, Mr. William Henry  male  25.0   \n",
       "\n",
       "     sibsp  parch ticket  fare cabin embarked class_idade acompanhado  \n",
       "271      0      0   LINE   0.0   NaN        S      Adulto         NÃO  "
      ]
     },
     "execution_count": 77,
     "metadata": {},
     "output_type": "execute_result"
    }
   ],
   "source": [
    "# Os passageiros com tarifa = ZERO sobreviveram ?\n",
    "print('Dos {} passageiros com tarifa ZERO apenas {} sobreviveram'\n",
    "      .format(tarifa_zero.shape[0],tarifa_zero.query('survived == 1')['name'].count()))\n",
    "tarifa_zero.query('survived == 1')"
   ]
  },
  {
   "cell_type": "markdown",
   "metadata": {},
   "source": [
    "Porcentagens para a conclusão"
   ]
  },
  {
   "cell_type": "code",
   "execution_count": 78,
   "metadata": {},
   "outputs": [],
   "source": [
    "#Calculando as porcentagens para apresentação da conclusão\n",
    "porc_sob_sim = int((sobreviventes[1] / total_passageiros) * 100)\n",
    "porc_sob_mulheres = int((sob_genero['female'] / sobreviventes[1]) * 100)\n",
    "porc_sob_1classe = int((sob_classe[1] / qtde_classe[1]) * 100)\n",
    "porc_sob_2classe = int((sob_classe[2] / qtde_classe[2]) * 100)\n",
    "porc_sob_3classe = int((sob_classe[3] / qtde_classe[3]) * 100)"
   ]
  },
  {
   "cell_type": "markdown",
   "metadata": {},
   "source": [
    "## Conclusão\n",
    "\n",
    "Podemos concluir que a __classe social__ foi fator que contou muito na sobrevivência, bem como o __gênero__ e __idade__, mas ainda vemos que o numero de sobreviventes foi inferior ao de mortes."
   ]
  },
  {
   "cell_type": "code",
   "execution_count": 79,
   "metadata": {},
   "outputs": [
    {
     "name": "stdout",
     "output_type": "stream",
     "text": [
      "Do total de 891 passageiros, apenas 38% sobreviveram, sendo 68% Mulheres\n",
      "O indice de sobrevivencia por classe foi de 62% da PRIMEIRA, 47% da SEGUNDA e apenas 24% da TERCEIRA\n"
     ]
    }
   ],
   "source": [
    "print('Do total de {} passageiros, apenas {}% sobreviveram, sendo {}% Mulheres'\n",
    "     .format(total_passageiros,porc_sob_sim,porc_sob_mulheres))\n",
    "print('O indice de sobrevivencia por classe foi de {}% da PRIMEIRA, {}% da SEGUNDA e apenas {}% da TERCEIRA'\n",
    "      .format(porc_sob_1classe,porc_sob_2classe,porc_sob_3classe))"
   ]
  },
  {
   "cell_type": "markdown",
   "metadata": {},
   "source": [
    "### Limitações\n",
    "\n",
    "Verificamos no início da análise dos dados que alguns campos não possuíam informações, sendo eles: __AGE, CABIN e EMBARKED__.\n",
    "\n",
    "Medidas tomadas:\n",
    "    - AGE: os dados foram preenchidos com a média de idade de acordo com o gênero.\n",
    "    - CABIN e EMBARKED: não influenciariam nas análises e, portanto, não foram alteradas."
   ]
  },
  {
   "cell_type": "markdown",
   "metadata": {},
   "source": [
    "#### Bibliografia\n",
    "\n",
    "[MARKDOWN, formatação dos textos e imagens](https://daringfireball.net/projects/markdown/syntax)\n",
    "\n",
    "[Informações sobre o TITANIC](https://pt.wikipedia.org/wiki/RMS_Titanic)\n",
    "\n",
    "[Informações sobre os PASSAGEIROS](https://www.encyclopedia-titanica.org/)\n",
    "\n",
    "[Formatação do gráfico PIZZA](https://medium.com/python-pandemonium/data-visualization-in-python-pie-charts-in-matplotlib-c71fb0fe5c56)"
   ]
  },
  {
   "cell_type": "markdown",
   "metadata": {},
   "source": [
    "Fabiano Lima - 04/12/2018"
   ]
  }
 ],
 "metadata": {
  "kernelspec": {
   "display_name": "Python 3",
   "language": "python",
   "name": "python3"
  },
  "language_info": {
   "codemirror_mode": {
    "name": "ipython",
    "version": 3
   },
   "file_extension": ".py",
   "mimetype": "text/x-python",
   "name": "python",
   "nbconvert_exporter": "python",
   "pygments_lexer": "ipython3",
   "version": "3.7.1"
  }
 },
 "nbformat": 4,
 "nbformat_minor": 2
}
