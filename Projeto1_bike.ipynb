{
 "cells": [
  {
   "cell_type": "markdown",
   "metadata": {},
   "source": [
    "### Projeto - chicago_bikeshare_pt\n",
    "Originalmente o __PROJETO 1__ do Nanodegree Data Science I não foi desenvolvido com o Jupyter, e sim utilizando o PyCharm para elaborar o script e rodar no termianl, aqui estarei refazendo o projeto utilizando o Jupyter Notebook e Pandas."
   ]
  },
  {
   "cell_type": "markdown",
   "metadata": {},
   "source": [
    "Do projeto: explorando dados relacionados aos sistemas de compartilhamento de bicicletas nas três maiores cidades dos Estados Unidos: Chicago, Nova Iorque e Washington."
   ]
  },
  {
   "cell_type": "markdown",
   "metadata": {},
   "source": [
    "![Imagem Bikes Divvy](bike.jpg \"Imagem Bikes Divvy\")"
   ]
  },
  {
   "cell_type": "markdown",
   "metadata": {},
   "source": [
    "O __Divvy__ é um sistema de compartilhamento de bicicletas da cidade de Chicago e dois subúrbios adjacentes (imagem: [Wikipédia](https://en.wikipedia.org/wiki/Divvy))"
   ]
  },
  {
   "cell_type": "code",
   "execution_count": 1,
   "metadata": {},
   "outputs": [],
   "source": [
    "# Importando as biblioteca\n",
    "import pandas as pd\n",
    "import matplotlib.pyplot as plt\n",
    "from datetime import datetime\n",
    "\n",
    "%matplotlib inline"
   ]
  },
  {
   "cell_type": "code",
   "execution_count": 2,
   "metadata": {},
   "outputs": [
    {
     "data": {
      "text/html": [
       "<div>\n",
       "<style scoped>\n",
       "    .dataframe tbody tr th:only-of-type {\n",
       "        vertical-align: middle;\n",
       "    }\n",
       "\n",
       "    .dataframe tbody tr th {\n",
       "        vertical-align: top;\n",
       "    }\n",
       "\n",
       "    .dataframe thead th {\n",
       "        text-align: right;\n",
       "    }\n",
       "</style>\n",
       "<table border=\"1\" class=\"dataframe\">\n",
       "  <thead>\n",
       "    <tr style=\"text-align: right;\">\n",
       "      <th></th>\n",
       "      <th>Start Time</th>\n",
       "      <th>End Time</th>\n",
       "      <th>Trip Duration</th>\n",
       "      <th>Start Station</th>\n",
       "      <th>End Station</th>\n",
       "      <th>User Type</th>\n",
       "      <th>Gender</th>\n",
       "      <th>Birth Year</th>\n",
       "    </tr>\n",
       "  </thead>\n",
       "  <tbody>\n",
       "    <tr>\n",
       "      <th>0</th>\n",
       "      <td>2017-01-01 00:00:36</td>\n",
       "      <td>2017-01-01 00:06:32</td>\n",
       "      <td>356</td>\n",
       "      <td>Canal St &amp; Taylor St</td>\n",
       "      <td>Canal St &amp; Monroe St (*)</td>\n",
       "      <td>Customer</td>\n",
       "      <td>NaN</td>\n",
       "      <td>NaN</td>\n",
       "    </tr>\n",
       "    <tr>\n",
       "      <th>1</th>\n",
       "      <td>2017-01-01 00:02:54</td>\n",
       "      <td>2017-01-01 00:08:21</td>\n",
       "      <td>327</td>\n",
       "      <td>Larrabee St &amp; Menomonee St</td>\n",
       "      <td>Sheffield Ave &amp; Kingsbury St</td>\n",
       "      <td>Subscriber</td>\n",
       "      <td>Male</td>\n",
       "      <td>1984.0</td>\n",
       "    </tr>\n",
       "    <tr>\n",
       "      <th>2</th>\n",
       "      <td>2017-01-01 00:06:06</td>\n",
       "      <td>2017-01-01 00:18:31</td>\n",
       "      <td>745</td>\n",
       "      <td>Orleans St &amp; Chestnut St (NEXT Apts)</td>\n",
       "      <td>Ashland Ave &amp; Blackhawk St</td>\n",
       "      <td>Subscriber</td>\n",
       "      <td>Male</td>\n",
       "      <td>1985.0</td>\n",
       "    </tr>\n",
       "    <tr>\n",
       "      <th>3</th>\n",
       "      <td>2017-01-01 00:07:28</td>\n",
       "      <td>2017-01-01 00:12:51</td>\n",
       "      <td>323</td>\n",
       "      <td>Franklin St &amp; Monroe St</td>\n",
       "      <td>Clinton St &amp; Tilden St</td>\n",
       "      <td>Subscriber</td>\n",
       "      <td>Male</td>\n",
       "      <td>1990.0</td>\n",
       "    </tr>\n",
       "    <tr>\n",
       "      <th>4</th>\n",
       "      <td>2017-01-01 00:07:57</td>\n",
       "      <td>2017-01-01 00:20:53</td>\n",
       "      <td>776</td>\n",
       "      <td>Broadway &amp; Barry Ave</td>\n",
       "      <td>Sedgwick St &amp; North Ave</td>\n",
       "      <td>Subscriber</td>\n",
       "      <td>Male</td>\n",
       "      <td>1990.0</td>\n",
       "    </tr>\n",
       "  </tbody>\n",
       "</table>\n",
       "</div>"
      ],
      "text/plain": [
       "            Start Time             End Time  Trip Duration  \\\n",
       "0  2017-01-01 00:00:36  2017-01-01 00:06:32            356   \n",
       "1  2017-01-01 00:02:54  2017-01-01 00:08:21            327   \n",
       "2  2017-01-01 00:06:06  2017-01-01 00:18:31            745   \n",
       "3  2017-01-01 00:07:28  2017-01-01 00:12:51            323   \n",
       "4  2017-01-01 00:07:57  2017-01-01 00:20:53            776   \n",
       "\n",
       "                          Start Station                   End Station  \\\n",
       "0                  Canal St & Taylor St      Canal St & Monroe St (*)   \n",
       "1            Larrabee St & Menomonee St  Sheffield Ave & Kingsbury St   \n",
       "2  Orleans St & Chestnut St (NEXT Apts)    Ashland Ave & Blackhawk St   \n",
       "3               Franklin St & Monroe St        Clinton St & Tilden St   \n",
       "4                  Broadway & Barry Ave       Sedgwick St & North Ave   \n",
       "\n",
       "    User Type Gender  Birth Year  \n",
       "0    Customer    NaN         NaN  \n",
       "1  Subscriber   Male      1984.0  \n",
       "2  Subscriber   Male      1985.0  \n",
       "3  Subscriber   Male      1990.0  \n",
       "4  Subscriber   Male      1990.0  "
      ]
     },
     "execution_count": 2,
     "metadata": {},
     "output_type": "execute_result"
    }
   ],
   "source": [
    "# Carregando os dados\n",
    "\n",
    "df_bike = pd.read_csv('chicago.csv')\n",
    "df_bike.head()"
   ]
  },
  {
   "cell_type": "markdown",
   "metadata": {},
   "source": [
    "### Colunas do nosso dataframe:\n",
    "     - Trip start day and time\n",
    "     - Trip end day and time\n",
    "     - Trip start station\n",
    "     - Trip end station\n",
    "     - User Type - Member, Single Ride, and Explore Pass\n",
    "     - If a Member trip, it will also include Member’s gender and year of birth"
   ]
  },
  {
   "cell_type": "markdown",
   "metadata": {},
   "source": [
    "### Tarefas do Projeto 1 - realizado apenas em python\n",
    "\n",
    "    - Tarefa 1: Mostre as 20 primeiras amostras (linhas) da base de dados\n",
    "    - Tarefa 2: Mostre o gênero (coluna) das 20 primeiras amostras\n",
    "    - Tarefa 3: Cria uma função para pegar colunas como lista\n",
    "    - Tarefa 4: Conte quantas pessoas de cada gênero\n",
    "    - Tarefa 5: Crie uma função para contar os gêneros\n",
    "    - Tarefa 6: Mostre o gênero mais popular\n",
    "    - Tarefa 7: Mostre um gráfico usando os dados anteriores\n",
    "    - Tarefa 8: Responda o motivo do número de homens e mulheres não bater com a quantidade de amostras\n",
    "    - Tarefa 9: Encontre o valor mínimo, máximo, média e mediana da duração de viagens\n",
    "    - Tarefa 10: Mostre todas as estações da base de dados\n",
    "    - Tarefa 11: Confira se documentou todas suas funções\n",
    "    - Tarefa 12: Crie uma função que conte a ocorrência de qualquer coluna (opcional)"
   ]
  },
  {
   "cell_type": "code",
   "execution_count": 3,
   "metadata": {},
   "outputs": [
    {
     "data": {
      "text/html": [
       "<div>\n",
       "<style scoped>\n",
       "    .dataframe tbody tr th:only-of-type {\n",
       "        vertical-align: middle;\n",
       "    }\n",
       "\n",
       "    .dataframe tbody tr th {\n",
       "        vertical-align: top;\n",
       "    }\n",
       "\n",
       "    .dataframe thead th {\n",
       "        text-align: right;\n",
       "    }\n",
       "</style>\n",
       "<table border=\"1\" class=\"dataframe\">\n",
       "  <thead>\n",
       "    <tr style=\"text-align: right;\">\n",
       "      <th></th>\n",
       "      <th>Start Time</th>\n",
       "      <th>End Time</th>\n",
       "      <th>Trip Duration</th>\n",
       "      <th>Start Station</th>\n",
       "      <th>End Station</th>\n",
       "      <th>User Type</th>\n",
       "      <th>Gender</th>\n",
       "      <th>Birth Year</th>\n",
       "    </tr>\n",
       "  </thead>\n",
       "  <tbody>\n",
       "    <tr>\n",
       "      <th>0</th>\n",
       "      <td>2017-01-01 00:00:36</td>\n",
       "      <td>2017-01-01 00:06:32</td>\n",
       "      <td>356</td>\n",
       "      <td>Canal St &amp; Taylor St</td>\n",
       "      <td>Canal St &amp; Monroe St (*)</td>\n",
       "      <td>Customer</td>\n",
       "      <td>NaN</td>\n",
       "      <td>NaN</td>\n",
       "    </tr>\n",
       "    <tr>\n",
       "      <th>1</th>\n",
       "      <td>2017-01-01 00:02:54</td>\n",
       "      <td>2017-01-01 00:08:21</td>\n",
       "      <td>327</td>\n",
       "      <td>Larrabee St &amp; Menomonee St</td>\n",
       "      <td>Sheffield Ave &amp; Kingsbury St</td>\n",
       "      <td>Subscriber</td>\n",
       "      <td>Male</td>\n",
       "      <td>1984.0</td>\n",
       "    </tr>\n",
       "    <tr>\n",
       "      <th>2</th>\n",
       "      <td>2017-01-01 00:06:06</td>\n",
       "      <td>2017-01-01 00:18:31</td>\n",
       "      <td>745</td>\n",
       "      <td>Orleans St &amp; Chestnut St (NEXT Apts)</td>\n",
       "      <td>Ashland Ave &amp; Blackhawk St</td>\n",
       "      <td>Subscriber</td>\n",
       "      <td>Male</td>\n",
       "      <td>1985.0</td>\n",
       "    </tr>\n",
       "    <tr>\n",
       "      <th>3</th>\n",
       "      <td>2017-01-01 00:07:28</td>\n",
       "      <td>2017-01-01 00:12:51</td>\n",
       "      <td>323</td>\n",
       "      <td>Franklin St &amp; Monroe St</td>\n",
       "      <td>Clinton St &amp; Tilden St</td>\n",
       "      <td>Subscriber</td>\n",
       "      <td>Male</td>\n",
       "      <td>1990.0</td>\n",
       "    </tr>\n",
       "    <tr>\n",
       "      <th>4</th>\n",
       "      <td>2017-01-01 00:07:57</td>\n",
       "      <td>2017-01-01 00:20:53</td>\n",
       "      <td>776</td>\n",
       "      <td>Broadway &amp; Barry Ave</td>\n",
       "      <td>Sedgwick St &amp; North Ave</td>\n",
       "      <td>Subscriber</td>\n",
       "      <td>Male</td>\n",
       "      <td>1990.0</td>\n",
       "    </tr>\n",
       "    <tr>\n",
       "      <th>5</th>\n",
       "      <td>2017-01-01 00:10:44</td>\n",
       "      <td>2017-01-01 00:21:27</td>\n",
       "      <td>643</td>\n",
       "      <td>State St &amp; Kinzie St</td>\n",
       "      <td>Wells St &amp; Polk St</td>\n",
       "      <td>Subscriber</td>\n",
       "      <td>Male</td>\n",
       "      <td>1970.0</td>\n",
       "    </tr>\n",
       "    <tr>\n",
       "      <th>6</th>\n",
       "      <td>2017-01-01 00:11:34</td>\n",
       "      <td>2017-01-01 00:23:47</td>\n",
       "      <td>733</td>\n",
       "      <td>Wabash Ave &amp; Wacker Pl</td>\n",
       "      <td>Clinton St &amp; Tilden St</td>\n",
       "      <td>Subscriber</td>\n",
       "      <td>Male</td>\n",
       "      <td>1986.0</td>\n",
       "    </tr>\n",
       "    <tr>\n",
       "      <th>7</th>\n",
       "      <td>2017-01-01 00:14:57</td>\n",
       "      <td>2017-01-01 00:26:22</td>\n",
       "      <td>685</td>\n",
       "      <td>Daley Center Plaza</td>\n",
       "      <td>Canal St &amp; Monroe St (*)</td>\n",
       "      <td>Customer</td>\n",
       "      <td>NaN</td>\n",
       "      <td>NaN</td>\n",
       "    </tr>\n",
       "    <tr>\n",
       "      <th>8</th>\n",
       "      <td>2017-01-01 00:15:03</td>\n",
       "      <td>2017-01-01 00:26:28</td>\n",
       "      <td>685</td>\n",
       "      <td>Daley Center Plaza</td>\n",
       "      <td>Canal St &amp; Monroe St (*)</td>\n",
       "      <td>Customer</td>\n",
       "      <td>NaN</td>\n",
       "      <td>NaN</td>\n",
       "    </tr>\n",
       "    <tr>\n",
       "      <th>9</th>\n",
       "      <td>2017-01-01 00:17:01</td>\n",
       "      <td>2017-01-01 00:29:49</td>\n",
       "      <td>768</td>\n",
       "      <td>Dayton St &amp; North Ave</td>\n",
       "      <td>Ogden Ave &amp; Chicago Ave</td>\n",
       "      <td>Customer</td>\n",
       "      <td>NaN</td>\n",
       "      <td>NaN</td>\n",
       "    </tr>\n",
       "    <tr>\n",
       "      <th>10</th>\n",
       "      <td>2017-01-01 00:17:13</td>\n",
       "      <td>2017-01-01 11:03:34</td>\n",
       "      <td>38781</td>\n",
       "      <td>Wilton Ave &amp; Diversey Pkwy</td>\n",
       "      <td>Halsted St &amp; Wrightwood Ave</td>\n",
       "      <td>Subscriber</td>\n",
       "      <td>Female</td>\n",
       "      <td>1988.0</td>\n",
       "    </tr>\n",
       "    <tr>\n",
       "      <th>11</th>\n",
       "      <td>2017-01-01 00:18:28</td>\n",
       "      <td>2017-01-01 00:31:05</td>\n",
       "      <td>757</td>\n",
       "      <td>Canal St &amp; Madison St</td>\n",
       "      <td>LaSalle St &amp; Illinois St</td>\n",
       "      <td>Customer</td>\n",
       "      <td>NaN</td>\n",
       "      <td>NaN</td>\n",
       "    </tr>\n",
       "    <tr>\n",
       "      <th>12</th>\n",
       "      <td>2017-01-01 00:18:50</td>\n",
       "      <td>2017-01-01 00:21:47</td>\n",
       "      <td>177</td>\n",
       "      <td>Theater on the Lake</td>\n",
       "      <td>Lakeview Ave &amp; Fullerton Pkwy</td>\n",
       "      <td>Subscriber</td>\n",
       "      <td>Male</td>\n",
       "      <td>1991.0</td>\n",
       "    </tr>\n",
       "    <tr>\n",
       "      <th>13</th>\n",
       "      <td>2017-01-01 00:23:41</td>\n",
       "      <td>2017-01-01 00:29:13</td>\n",
       "      <td>332</td>\n",
       "      <td>Halsted St &amp; Maxwell St</td>\n",
       "      <td>Halsted St &amp; 18th St</td>\n",
       "      <td>Subscriber</td>\n",
       "      <td>Male</td>\n",
       "      <td>1984.0</td>\n",
       "    </tr>\n",
       "    <tr>\n",
       "      <th>14</th>\n",
       "      <td>2017-01-01 00:25:47</td>\n",
       "      <td>2017-01-01 00:39:53</td>\n",
       "      <td>846</td>\n",
       "      <td>Ravenswood Ave &amp; Lawrence Ave</td>\n",
       "      <td>Clarendon Ave &amp; Gordon Ter</td>\n",
       "      <td>Subscriber</td>\n",
       "      <td>Female</td>\n",
       "      <td>1987.0</td>\n",
       "    </tr>\n",
       "    <tr>\n",
       "      <th>15</th>\n",
       "      <td>2017-01-01 00:25:47</td>\n",
       "      <td>2017-01-01 00:43:23</td>\n",
       "      <td>1056</td>\n",
       "      <td>Clark St &amp; Congress Pkwy</td>\n",
       "      <td>Wolcott Ave &amp; Polk St</td>\n",
       "      <td>Subscriber</td>\n",
       "      <td>Male</td>\n",
       "      <td>1984.0</td>\n",
       "    </tr>\n",
       "    <tr>\n",
       "      <th>16</th>\n",
       "      <td>2017-01-01 00:26:21</td>\n",
       "      <td>2017-01-01 00:39:40</td>\n",
       "      <td>799</td>\n",
       "      <td>Ravenswood Ave &amp; Lawrence Ave</td>\n",
       "      <td>Clarendon Ave &amp; Gordon Ter</td>\n",
       "      <td>Subscriber</td>\n",
       "      <td>Male</td>\n",
       "      <td>1987.0</td>\n",
       "    </tr>\n",
       "    <tr>\n",
       "      <th>17</th>\n",
       "      <td>2017-01-01 00:27:21</td>\n",
       "      <td>2017-01-01 00:42:59</td>\n",
       "      <td>938</td>\n",
       "      <td>Millennium Park</td>\n",
       "      <td>Michigan Ave &amp; 18th St</td>\n",
       "      <td>Subscriber</td>\n",
       "      <td>Male</td>\n",
       "      <td>1991.0</td>\n",
       "    </tr>\n",
       "    <tr>\n",
       "      <th>18</th>\n",
       "      <td>2017-01-01 00:27:28</td>\n",
       "      <td>2017-01-01 00:42:44</td>\n",
       "      <td>916</td>\n",
       "      <td>Millennium Park</td>\n",
       "      <td>Michigan Ave &amp; 18th St</td>\n",
       "      <td>Subscriber</td>\n",
       "      <td>Female</td>\n",
       "      <td>1990.0</td>\n",
       "    </tr>\n",
       "    <tr>\n",
       "      <th>19</th>\n",
       "      <td>2017-01-01 00:27:45</td>\n",
       "      <td>2017-01-01 00:31:13</td>\n",
       "      <td>208</td>\n",
       "      <td>Damen Ave &amp; Chicago Ave</td>\n",
       "      <td>Damen Ave &amp; Division St</td>\n",
       "      <td>Subscriber</td>\n",
       "      <td>Male</td>\n",
       "      <td>1982.0</td>\n",
       "    </tr>\n",
       "  </tbody>\n",
       "</table>\n",
       "</div>"
      ],
      "text/plain": [
       "             Start Time             End Time  Trip Duration  \\\n",
       "0   2017-01-01 00:00:36  2017-01-01 00:06:32            356   \n",
       "1   2017-01-01 00:02:54  2017-01-01 00:08:21            327   \n",
       "2   2017-01-01 00:06:06  2017-01-01 00:18:31            745   \n",
       "3   2017-01-01 00:07:28  2017-01-01 00:12:51            323   \n",
       "4   2017-01-01 00:07:57  2017-01-01 00:20:53            776   \n",
       "5   2017-01-01 00:10:44  2017-01-01 00:21:27            643   \n",
       "6   2017-01-01 00:11:34  2017-01-01 00:23:47            733   \n",
       "7   2017-01-01 00:14:57  2017-01-01 00:26:22            685   \n",
       "8   2017-01-01 00:15:03  2017-01-01 00:26:28            685   \n",
       "9   2017-01-01 00:17:01  2017-01-01 00:29:49            768   \n",
       "10  2017-01-01 00:17:13  2017-01-01 11:03:34          38781   \n",
       "11  2017-01-01 00:18:28  2017-01-01 00:31:05            757   \n",
       "12  2017-01-01 00:18:50  2017-01-01 00:21:47            177   \n",
       "13  2017-01-01 00:23:41  2017-01-01 00:29:13            332   \n",
       "14  2017-01-01 00:25:47  2017-01-01 00:39:53            846   \n",
       "15  2017-01-01 00:25:47  2017-01-01 00:43:23           1056   \n",
       "16  2017-01-01 00:26:21  2017-01-01 00:39:40            799   \n",
       "17  2017-01-01 00:27:21  2017-01-01 00:42:59            938   \n",
       "18  2017-01-01 00:27:28  2017-01-01 00:42:44            916   \n",
       "19  2017-01-01 00:27:45  2017-01-01 00:31:13            208   \n",
       "\n",
       "                           Start Station                    End Station  \\\n",
       "0                   Canal St & Taylor St       Canal St & Monroe St (*)   \n",
       "1             Larrabee St & Menomonee St   Sheffield Ave & Kingsbury St   \n",
       "2   Orleans St & Chestnut St (NEXT Apts)     Ashland Ave & Blackhawk St   \n",
       "3                Franklin St & Monroe St         Clinton St & Tilden St   \n",
       "4                   Broadway & Barry Ave        Sedgwick St & North Ave   \n",
       "5                   State St & Kinzie St             Wells St & Polk St   \n",
       "6                 Wabash Ave & Wacker Pl         Clinton St & Tilden St   \n",
       "7                     Daley Center Plaza       Canal St & Monroe St (*)   \n",
       "8                     Daley Center Plaza       Canal St & Monroe St (*)   \n",
       "9                  Dayton St & North Ave        Ogden Ave & Chicago Ave   \n",
       "10            Wilton Ave & Diversey Pkwy    Halsted St & Wrightwood Ave   \n",
       "11                 Canal St & Madison St       LaSalle St & Illinois St   \n",
       "12                   Theater on the Lake  Lakeview Ave & Fullerton Pkwy   \n",
       "13               Halsted St & Maxwell St           Halsted St & 18th St   \n",
       "14         Ravenswood Ave & Lawrence Ave     Clarendon Ave & Gordon Ter   \n",
       "15              Clark St & Congress Pkwy          Wolcott Ave & Polk St   \n",
       "16         Ravenswood Ave & Lawrence Ave     Clarendon Ave & Gordon Ter   \n",
       "17                       Millennium Park         Michigan Ave & 18th St   \n",
       "18                       Millennium Park         Michigan Ave & 18th St   \n",
       "19               Damen Ave & Chicago Ave        Damen Ave & Division St   \n",
       "\n",
       "     User Type  Gender  Birth Year  \n",
       "0     Customer     NaN         NaN  \n",
       "1   Subscriber    Male      1984.0  \n",
       "2   Subscriber    Male      1985.0  \n",
       "3   Subscriber    Male      1990.0  \n",
       "4   Subscriber    Male      1990.0  \n",
       "5   Subscriber    Male      1970.0  \n",
       "6   Subscriber    Male      1986.0  \n",
       "7     Customer     NaN         NaN  \n",
       "8     Customer     NaN         NaN  \n",
       "9     Customer     NaN         NaN  \n",
       "10  Subscriber  Female      1988.0  \n",
       "11    Customer     NaN         NaN  \n",
       "12  Subscriber    Male      1991.0  \n",
       "13  Subscriber    Male      1984.0  \n",
       "14  Subscriber  Female      1987.0  \n",
       "15  Subscriber    Male      1984.0  \n",
       "16  Subscriber    Male      1987.0  \n",
       "17  Subscriber    Male      1991.0  \n",
       "18  Subscriber  Female      1990.0  \n",
       "19  Subscriber    Male      1982.0  "
      ]
     },
     "execution_count": 3,
     "metadata": {},
     "output_type": "execute_result"
    }
   ],
   "source": [
    "# Tarefa 1: Mostre as 20 primeiras amostras (linhas) da base de dados\n",
    "df_bike.head(20)"
   ]
  },
  {
   "cell_type": "markdown",
   "metadata": {},
   "source": [
    "### Analise e ajustes"
   ]
  },
  {
   "cell_type": "code",
   "execution_count": 4,
   "metadata": {},
   "outputs": [
    {
     "name": "stdout",
     "output_type": "stream",
     "text": [
      "Nosso df possui 1551505 linhas e 8 colunas\n"
     ]
    }
   ],
   "source": [
    "print('Nosso df possui {} linhas e {} colunas'\n",
    "     .format(df_bike.shape[0],df_bike.shape[1]))"
   ]
  },
  {
   "cell_type": "code",
   "execution_count": 5,
   "metadata": {},
   "outputs": [
    {
     "name": "stdout",
     "output_type": "stream",
     "text": [
      "<class 'pandas.core.frame.DataFrame'>\n",
      "RangeIndex: 1551505 entries, 0 to 1551504\n",
      "Data columns (total 8 columns):\n",
      "Start Time       1551505 non-null object\n",
      "End Time         1551505 non-null object\n",
      "Trip Duration    1551505 non-null int64\n",
      "Start Station    1551505 non-null object\n",
      "End Station      1551505 non-null object\n",
      "User Type        1551505 non-null object\n",
      "Gender           1234638 non-null object\n",
      "Birth Year       1234822 non-null float64\n",
      "dtypes: float64(1), int64(1), object(6)\n",
      "memory usage: 94.7+ MB\n"
     ]
    }
   ],
   "source": [
    "df_bike.info()"
   ]
  },
  {
   "cell_type": "code",
   "execution_count": 6,
   "metadata": {},
   "outputs": [
    {
     "data": {
      "text/plain": [
       "Index(['Start Time', 'End Time', 'Trip Duration', 'Start Station',\n",
       "       'End Station', 'User Type', 'Gender', 'Birth Year'],\n",
       "      dtype='object')"
      ]
     },
     "execution_count": 6,
     "metadata": {},
     "output_type": "execute_result"
    }
   ],
   "source": [
    "df_bike.columns"
   ]
  },
  {
   "cell_type": "code",
   "execution_count": 7,
   "metadata": {},
   "outputs": [
    {
     "data": {
      "text/plain": [
       "Index(['start_time', 'end_time', 'trip_duration', 'start_station',\n",
       "       'end_station', 'user_type', 'gender', 'birth_year'],\n",
       "      dtype='object')"
      ]
     },
     "execution_count": 7,
     "metadata": {},
     "output_type": "execute_result"
    }
   ],
   "source": [
    "# Renomeando as colunas para facilitar o trabalho com elas\n",
    "\n",
    "for coluna in df_bike.columns:\n",
    "    n_coluna = coluna.replace(' ','_').lower()\n",
    "    df_bike.rename(columns= {coluna: n_coluna}, inplace=True)\n",
    "    \n",
    "df_bike.columns"
   ]
  },
  {
   "cell_type": "code",
   "execution_count": 8,
   "metadata": {},
   "outputs": [
    {
     "data": {
      "text/plain": [
       "start_time        object\n",
       "end_time          object\n",
       "trip_duration      int64\n",
       "start_station     object\n",
       "end_station       object\n",
       "user_type         object\n",
       "gender            object\n",
       "birth_year       float64\n",
       "dtype: object"
      ]
     },
     "execution_count": 8,
     "metadata": {},
     "output_type": "execute_result"
    }
   ],
   "source": [
    "# Verificando os tipos das colunas\n",
    "\n",
    "df_bike.dtypes"
   ]
  },
  {
   "cell_type": "code",
   "execution_count": 9,
   "metadata": {},
   "outputs": [],
   "source": [
    "# Iremos converter start_time e end_time para DATETIME\n",
    "\n",
    "df_bike['start_time'] = pd.to_datetime(df_bike['start_time'])"
   ]
  },
  {
   "cell_type": "code",
   "execution_count": 10,
   "metadata": {},
   "outputs": [],
   "source": [
    "df_bike['end_time'] = pd.to_datetime(df_bike['end_time'])"
   ]
  },
  {
   "cell_type": "code",
   "execution_count": 11,
   "metadata": {},
   "outputs": [
    {
     "data": {
      "text/plain": [
       "start_time       datetime64[ns]\n",
       "end_time         datetime64[ns]\n",
       "trip_duration             int64\n",
       "start_station            object\n",
       "end_station              object\n",
       "user_type                object\n",
       "gender                   object\n",
       "birth_year              float64\n",
       "dtype: object"
      ]
     },
     "execution_count": 11,
     "metadata": {},
     "output_type": "execute_result"
    }
   ],
   "source": [
    "df_bike.dtypes"
   ]
  },
  {
   "cell_type": "code",
   "execution_count": 12,
   "metadata": {},
   "outputs": [
    {
     "data": {
      "text/html": [
       "<div>\n",
       "<style scoped>\n",
       "    .dataframe tbody tr th:only-of-type {\n",
       "        vertical-align: middle;\n",
       "    }\n",
       "\n",
       "    .dataframe tbody tr th {\n",
       "        vertical-align: top;\n",
       "    }\n",
       "\n",
       "    .dataframe thead th {\n",
       "        text-align: right;\n",
       "    }\n",
       "</style>\n",
       "<table border=\"1\" class=\"dataframe\">\n",
       "  <thead>\n",
       "    <tr style=\"text-align: right;\">\n",
       "      <th></th>\n",
       "      <th>start_time</th>\n",
       "      <th>end_time</th>\n",
       "      <th>trip_duration</th>\n",
       "      <th>start_station</th>\n",
       "      <th>end_station</th>\n",
       "      <th>user_type</th>\n",
       "      <th>gender</th>\n",
       "      <th>birth_year</th>\n",
       "    </tr>\n",
       "  </thead>\n",
       "  <tbody>\n",
       "    <tr>\n",
       "      <th>0</th>\n",
       "      <td>2017-01-01 00:00:36</td>\n",
       "      <td>2017-01-01 00:06:32</td>\n",
       "      <td>356</td>\n",
       "      <td>Canal St &amp; Taylor St</td>\n",
       "      <td>Canal St &amp; Monroe St (*)</td>\n",
       "      <td>Customer</td>\n",
       "      <td>NaN</td>\n",
       "      <td>NaN</td>\n",
       "    </tr>\n",
       "    <tr>\n",
       "      <th>1</th>\n",
       "      <td>2017-01-01 00:02:54</td>\n",
       "      <td>2017-01-01 00:08:21</td>\n",
       "      <td>327</td>\n",
       "      <td>Larrabee St &amp; Menomonee St</td>\n",
       "      <td>Sheffield Ave &amp; Kingsbury St</td>\n",
       "      <td>Subscriber</td>\n",
       "      <td>Male</td>\n",
       "      <td>1984.0</td>\n",
       "    </tr>\n",
       "    <tr>\n",
       "      <th>2</th>\n",
       "      <td>2017-01-01 00:06:06</td>\n",
       "      <td>2017-01-01 00:18:31</td>\n",
       "      <td>745</td>\n",
       "      <td>Orleans St &amp; Chestnut St (NEXT Apts)</td>\n",
       "      <td>Ashland Ave &amp; Blackhawk St</td>\n",
       "      <td>Subscriber</td>\n",
       "      <td>Male</td>\n",
       "      <td>1985.0</td>\n",
       "    </tr>\n",
       "    <tr>\n",
       "      <th>3</th>\n",
       "      <td>2017-01-01 00:07:28</td>\n",
       "      <td>2017-01-01 00:12:51</td>\n",
       "      <td>323</td>\n",
       "      <td>Franklin St &amp; Monroe St</td>\n",
       "      <td>Clinton St &amp; Tilden St</td>\n",
       "      <td>Subscriber</td>\n",
       "      <td>Male</td>\n",
       "      <td>1990.0</td>\n",
       "    </tr>\n",
       "    <tr>\n",
       "      <th>4</th>\n",
       "      <td>2017-01-01 00:07:57</td>\n",
       "      <td>2017-01-01 00:20:53</td>\n",
       "      <td>776</td>\n",
       "      <td>Broadway &amp; Barry Ave</td>\n",
       "      <td>Sedgwick St &amp; North Ave</td>\n",
       "      <td>Subscriber</td>\n",
       "      <td>Male</td>\n",
       "      <td>1990.0</td>\n",
       "    </tr>\n",
       "  </tbody>\n",
       "</table>\n",
       "</div>"
      ],
      "text/plain": [
       "           start_time            end_time  trip_duration  \\\n",
       "0 2017-01-01 00:00:36 2017-01-01 00:06:32            356   \n",
       "1 2017-01-01 00:02:54 2017-01-01 00:08:21            327   \n",
       "2 2017-01-01 00:06:06 2017-01-01 00:18:31            745   \n",
       "3 2017-01-01 00:07:28 2017-01-01 00:12:51            323   \n",
       "4 2017-01-01 00:07:57 2017-01-01 00:20:53            776   \n",
       "\n",
       "                          start_station                   end_station  \\\n",
       "0                  Canal St & Taylor St      Canal St & Monroe St (*)   \n",
       "1            Larrabee St & Menomonee St  Sheffield Ave & Kingsbury St   \n",
       "2  Orleans St & Chestnut St (NEXT Apts)    Ashland Ave & Blackhawk St   \n",
       "3               Franklin St & Monroe St        Clinton St & Tilden St   \n",
       "4                  Broadway & Barry Ave       Sedgwick St & North Ave   \n",
       "\n",
       "    user_type gender  birth_year  \n",
       "0    Customer    NaN         NaN  \n",
       "1  Subscriber   Male      1984.0  \n",
       "2  Subscriber   Male      1985.0  \n",
       "3  Subscriber   Male      1990.0  \n",
       "4  Subscriber   Male      1990.0  "
      ]
     },
     "execution_count": 12,
     "metadata": {},
     "output_type": "execute_result"
    }
   ],
   "source": [
    "df_bike.head()"
   ]
  },
  {
   "cell_type": "code",
   "execution_count": 13,
   "metadata": {},
   "outputs": [
    {
     "data": {
      "text/plain": [
       "start_time            0\n",
       "end_time              0\n",
       "trip_duration         0\n",
       "start_station         0\n",
       "end_station           0\n",
       "user_type             0\n",
       "gender           316867\n",
       "birth_year       316683\n",
       "dtype: int64"
      ]
     },
     "execution_count": 13,
     "metadata": {},
     "output_type": "execute_result"
    }
   ],
   "source": [
    "# Campos que possuem valores nulos\n",
    "df_bike.isnull().sum()"
   ]
  },
  {
   "cell_type": "code",
   "execution_count": 14,
   "metadata": {},
   "outputs": [
    {
     "data": {
      "text/html": [
       "<div>\n",
       "<style scoped>\n",
       "    .dataframe tbody tr th:only-of-type {\n",
       "        vertical-align: middle;\n",
       "    }\n",
       "\n",
       "    .dataframe tbody tr th {\n",
       "        vertical-align: top;\n",
       "    }\n",
       "\n",
       "    .dataframe thead th {\n",
       "        text-align: right;\n",
       "    }\n",
       "</style>\n",
       "<table border=\"1\" class=\"dataframe\">\n",
       "  <thead>\n",
       "    <tr style=\"text-align: right;\">\n",
       "      <th></th>\n",
       "      <th>start_time</th>\n",
       "      <th>end_time</th>\n",
       "      <th>trip_duration</th>\n",
       "      <th>start_station</th>\n",
       "      <th>end_station</th>\n",
       "      <th>user_type</th>\n",
       "      <th>gender</th>\n",
       "      <th>birth_year</th>\n",
       "    </tr>\n",
       "  </thead>\n",
       "  <tbody>\n",
       "    <tr>\n",
       "      <th>0</th>\n",
       "      <td>2017-01-01 00:00:36</td>\n",
       "      <td>2017-01-01 00:06:32</td>\n",
       "      <td>356</td>\n",
       "      <td>Canal St &amp; Taylor St</td>\n",
       "      <td>Canal St &amp; Monroe St (*)</td>\n",
       "      <td>Customer</td>\n",
       "      <td>NaN</td>\n",
       "      <td>NaN</td>\n",
       "    </tr>\n",
       "    <tr>\n",
       "      <th>7</th>\n",
       "      <td>2017-01-01 00:14:57</td>\n",
       "      <td>2017-01-01 00:26:22</td>\n",
       "      <td>685</td>\n",
       "      <td>Daley Center Plaza</td>\n",
       "      <td>Canal St &amp; Monroe St (*)</td>\n",
       "      <td>Customer</td>\n",
       "      <td>NaN</td>\n",
       "      <td>NaN</td>\n",
       "    </tr>\n",
       "    <tr>\n",
       "      <th>8</th>\n",
       "      <td>2017-01-01 00:15:03</td>\n",
       "      <td>2017-01-01 00:26:28</td>\n",
       "      <td>685</td>\n",
       "      <td>Daley Center Plaza</td>\n",
       "      <td>Canal St &amp; Monroe St (*)</td>\n",
       "      <td>Customer</td>\n",
       "      <td>NaN</td>\n",
       "      <td>NaN</td>\n",
       "    </tr>\n",
       "    <tr>\n",
       "      <th>9</th>\n",
       "      <td>2017-01-01 00:17:01</td>\n",
       "      <td>2017-01-01 00:29:49</td>\n",
       "      <td>768</td>\n",
       "      <td>Dayton St &amp; North Ave</td>\n",
       "      <td>Ogden Ave &amp; Chicago Ave</td>\n",
       "      <td>Customer</td>\n",
       "      <td>NaN</td>\n",
       "      <td>NaN</td>\n",
       "    </tr>\n",
       "    <tr>\n",
       "      <th>11</th>\n",
       "      <td>2017-01-01 00:18:28</td>\n",
       "      <td>2017-01-01 00:31:05</td>\n",
       "      <td>757</td>\n",
       "      <td>Canal St &amp; Madison St</td>\n",
       "      <td>LaSalle St &amp; Illinois St</td>\n",
       "      <td>Customer</td>\n",
       "      <td>NaN</td>\n",
       "      <td>NaN</td>\n",
       "    </tr>\n",
       "    <tr>\n",
       "      <th>21</th>\n",
       "      <td>2017-01-01 00:30:07</td>\n",
       "      <td>2017-01-01 00:34:32</td>\n",
       "      <td>265</td>\n",
       "      <td>Wilton Ave &amp; Diversey Pkwy</td>\n",
       "      <td>Halsted St &amp; Wrightwood Ave</td>\n",
       "      <td>Customer</td>\n",
       "      <td>NaN</td>\n",
       "      <td>NaN</td>\n",
       "    </tr>\n",
       "    <tr>\n",
       "      <th>23</th>\n",
       "      <td>2017-01-01 00:32:58</td>\n",
       "      <td>2017-01-01 00:41:59</td>\n",
       "      <td>541</td>\n",
       "      <td>LaSalle St &amp; Illinois St</td>\n",
       "      <td>State St &amp; Kinzie St</td>\n",
       "      <td>Customer</td>\n",
       "      <td>NaN</td>\n",
       "      <td>NaN</td>\n",
       "    </tr>\n",
       "    <tr>\n",
       "      <th>26</th>\n",
       "      <td>2017-01-01 00:35:23</td>\n",
       "      <td>2017-01-01 01:05:22</td>\n",
       "      <td>1799</td>\n",
       "      <td>McClurg Ct &amp; Illinois St</td>\n",
       "      <td>Fairbanks Ct &amp; Grand Ave</td>\n",
       "      <td>Customer</td>\n",
       "      <td>NaN</td>\n",
       "      <td>NaN</td>\n",
       "    </tr>\n",
       "    <tr>\n",
       "      <th>29</th>\n",
       "      <td>2017-01-01 00:35:34</td>\n",
       "      <td>2017-01-01 01:05:26</td>\n",
       "      <td>1792</td>\n",
       "      <td>McClurg Ct &amp; Illinois St</td>\n",
       "      <td>Fairbanks Ct &amp; Grand Ave</td>\n",
       "      <td>Customer</td>\n",
       "      <td>NaN</td>\n",
       "      <td>NaN</td>\n",
       "    </tr>\n",
       "    <tr>\n",
       "      <th>31</th>\n",
       "      <td>2017-01-01 00:37:19</td>\n",
       "      <td>2017-01-01 01:05:22</td>\n",
       "      <td>1683</td>\n",
       "      <td>McClurg Ct &amp; Illinois St</td>\n",
       "      <td>Fairbanks Ct &amp; Grand Ave</td>\n",
       "      <td>Customer</td>\n",
       "      <td>NaN</td>\n",
       "      <td>NaN</td>\n",
       "    </tr>\n",
       "  </tbody>\n",
       "</table>\n",
       "</div>"
      ],
      "text/plain": [
       "            start_time            end_time  trip_duration  \\\n",
       "0  2017-01-01 00:00:36 2017-01-01 00:06:32            356   \n",
       "7  2017-01-01 00:14:57 2017-01-01 00:26:22            685   \n",
       "8  2017-01-01 00:15:03 2017-01-01 00:26:28            685   \n",
       "9  2017-01-01 00:17:01 2017-01-01 00:29:49            768   \n",
       "11 2017-01-01 00:18:28 2017-01-01 00:31:05            757   \n",
       "21 2017-01-01 00:30:07 2017-01-01 00:34:32            265   \n",
       "23 2017-01-01 00:32:58 2017-01-01 00:41:59            541   \n",
       "26 2017-01-01 00:35:23 2017-01-01 01:05:22           1799   \n",
       "29 2017-01-01 00:35:34 2017-01-01 01:05:26           1792   \n",
       "31 2017-01-01 00:37:19 2017-01-01 01:05:22           1683   \n",
       "\n",
       "                 start_station                  end_station user_type gender  \\\n",
       "0         Canal St & Taylor St     Canal St & Monroe St (*)  Customer    NaN   \n",
       "7           Daley Center Plaza     Canal St & Monroe St (*)  Customer    NaN   \n",
       "8           Daley Center Plaza     Canal St & Monroe St (*)  Customer    NaN   \n",
       "9        Dayton St & North Ave      Ogden Ave & Chicago Ave  Customer    NaN   \n",
       "11       Canal St & Madison St     LaSalle St & Illinois St  Customer    NaN   \n",
       "21  Wilton Ave & Diversey Pkwy  Halsted St & Wrightwood Ave  Customer    NaN   \n",
       "23    LaSalle St & Illinois St         State St & Kinzie St  Customer    NaN   \n",
       "26    McClurg Ct & Illinois St     Fairbanks Ct & Grand Ave  Customer    NaN   \n",
       "29    McClurg Ct & Illinois St     Fairbanks Ct & Grand Ave  Customer    NaN   \n",
       "31    McClurg Ct & Illinois St     Fairbanks Ct & Grand Ave  Customer    NaN   \n",
       "\n",
       "    birth_year  \n",
       "0          NaN  \n",
       "7          NaN  \n",
       "8          NaN  \n",
       "9          NaN  \n",
       "11         NaN  \n",
       "21         NaN  \n",
       "23         NaN  \n",
       "26         NaN  \n",
       "29         NaN  \n",
       "31         NaN  "
      ]
     },
     "execution_count": 14,
     "metadata": {},
     "output_type": "execute_result"
    }
   ],
   "source": [
    "df_bike[df_bike['gender'].isnull()][:10]"
   ]
  },
  {
   "cell_type": "markdown",
   "metadata": {},
   "source": [
    "Podemos observar que os usuarios do tipo __CUSTOMER__ não possuem GENDER e BIRTH_YEAR informados\n",
    "\n",
    "__Será que são apenas eles ?__"
   ]
  },
  {
   "cell_type": "code",
   "execution_count": 15,
   "metadata": {},
   "outputs": [
    {
     "data": {
      "text/html": [
       "<div>\n",
       "<style scoped>\n",
       "    .dataframe tbody tr th:only-of-type {\n",
       "        vertical-align: middle;\n",
       "    }\n",
       "\n",
       "    .dataframe tbody tr th {\n",
       "        vertical-align: top;\n",
       "    }\n",
       "\n",
       "    .dataframe thead th {\n",
       "        text-align: right;\n",
       "    }\n",
       "</style>\n",
       "<table border=\"1\" class=\"dataframe\">\n",
       "  <thead>\n",
       "    <tr style=\"text-align: right;\">\n",
       "      <th></th>\n",
       "      <th>start_time</th>\n",
       "      <th>end_time</th>\n",
       "      <th>trip_duration</th>\n",
       "      <th>start_station</th>\n",
       "      <th>end_station</th>\n",
       "      <th>gender</th>\n",
       "      <th>birth_year</th>\n",
       "    </tr>\n",
       "    <tr>\n",
       "      <th>user_type</th>\n",
       "      <th></th>\n",
       "      <th></th>\n",
       "      <th></th>\n",
       "      <th></th>\n",
       "      <th></th>\n",
       "      <th></th>\n",
       "      <th></th>\n",
       "    </tr>\n",
       "  </thead>\n",
       "  <tbody>\n",
       "    <tr>\n",
       "      <th>Customer</th>\n",
       "      <td>316683</td>\n",
       "      <td>316683</td>\n",
       "      <td>316683</td>\n",
       "      <td>316683</td>\n",
       "      <td>316683</td>\n",
       "      <td>0</td>\n",
       "      <td>0</td>\n",
       "    </tr>\n",
       "    <tr>\n",
       "      <th>Subscriber</th>\n",
       "      <td>184</td>\n",
       "      <td>184</td>\n",
       "      <td>184</td>\n",
       "      <td>184</td>\n",
       "      <td>184</td>\n",
       "      <td>0</td>\n",
       "      <td>184</td>\n",
       "    </tr>\n",
       "  </tbody>\n",
       "</table>\n",
       "</div>"
      ],
      "text/plain": [
       "            start_time  end_time  trip_duration  start_station  end_station  \\\n",
       "user_type                                                                     \n",
       "Customer        316683    316683         316683         316683       316683   \n",
       "Subscriber         184       184            184            184          184   \n",
       "\n",
       "            gender  birth_year  \n",
       "user_type                       \n",
       "Customer         0           0  \n",
       "Subscriber       0         184  "
      ]
     },
     "execution_count": 15,
     "metadata": {},
     "output_type": "execute_result"
    }
   ],
   "source": [
    "df_bike[df_bike['gender'].isnull()].groupby('user_type').count()"
   ]
  },
  {
   "cell_type": "code",
   "execution_count": 16,
   "metadata": {},
   "outputs": [
    {
     "data": {
      "text/html": [
       "<div>\n",
       "<style scoped>\n",
       "    .dataframe tbody tr th:only-of-type {\n",
       "        vertical-align: middle;\n",
       "    }\n",
       "\n",
       "    .dataframe tbody tr th {\n",
       "        vertical-align: top;\n",
       "    }\n",
       "\n",
       "    .dataframe thead th {\n",
       "        text-align: right;\n",
       "    }\n",
       "</style>\n",
       "<table border=\"1\" class=\"dataframe\">\n",
       "  <thead>\n",
       "    <tr style=\"text-align: right;\">\n",
       "      <th></th>\n",
       "      <th>start_time</th>\n",
       "      <th>end_time</th>\n",
       "      <th>trip_duration</th>\n",
       "      <th>start_station</th>\n",
       "      <th>end_station</th>\n",
       "      <th>user_type</th>\n",
       "      <th>gender</th>\n",
       "      <th>birth_year</th>\n",
       "    </tr>\n",
       "  </thead>\n",
       "  <tbody>\n",
       "    <tr>\n",
       "      <th>6137</th>\n",
       "      <td>2017-01-03 16:02:17</td>\n",
       "      <td>2017-01-03 16:09:25</td>\n",
       "      <td>428</td>\n",
       "      <td>Kedzie Ave &amp; Milwaukee Ave</td>\n",
       "      <td>Kedzie Ave &amp; Milwaukee Ave</td>\n",
       "      <td>Subscriber</td>\n",
       "      <td>NaN</td>\n",
       "      <td>1980.0</td>\n",
       "    </tr>\n",
       "    <tr>\n",
       "      <th>13984</th>\n",
       "      <td>2017-01-05 18:29:01</td>\n",
       "      <td>2017-01-05 18:30:53</td>\n",
       "      <td>112</td>\n",
       "      <td>St. Clair St &amp; Erie St</td>\n",
       "      <td>St. Clair St &amp; Erie St</td>\n",
       "      <td>Subscriber</td>\n",
       "      <td>NaN</td>\n",
       "      <td>1980.0</td>\n",
       "    </tr>\n",
       "    <tr>\n",
       "      <th>44232</th>\n",
       "      <td>2017-01-17 09:06:33</td>\n",
       "      <td>2017-01-17 09:07:52</td>\n",
       "      <td>79</td>\n",
       "      <td>Clark St &amp; Montrose Ave</td>\n",
       "      <td>Clark St &amp; Montrose Ave</td>\n",
       "      <td>Subscriber</td>\n",
       "      <td>NaN</td>\n",
       "      <td>1980.0</td>\n",
       "    </tr>\n",
       "    <tr>\n",
       "      <th>44858</th>\n",
       "      <td>2017-01-17 12:43:24</td>\n",
       "      <td>2017-01-17 12:44:54</td>\n",
       "      <td>90</td>\n",
       "      <td>Orleans St &amp; Ohio St</td>\n",
       "      <td>Orleans St &amp; Ohio St</td>\n",
       "      <td>Subscriber</td>\n",
       "      <td>NaN</td>\n",
       "      <td>1980.0</td>\n",
       "    </tr>\n",
       "    <tr>\n",
       "      <th>49457</th>\n",
       "      <td>2017-01-18 10:11:05</td>\n",
       "      <td>2017-01-18 10:12:06</td>\n",
       "      <td>61</td>\n",
       "      <td>Wells St &amp; Concord Ln</td>\n",
       "      <td>Wells St &amp; Concord Ln</td>\n",
       "      <td>Subscriber</td>\n",
       "      <td>NaN</td>\n",
       "      <td>1980.0</td>\n",
       "    </tr>\n",
       "    <tr>\n",
       "      <th>50073</th>\n",
       "      <td>2017-01-18 13:37:52</td>\n",
       "      <td>2017-01-18 13:39:43</td>\n",
       "      <td>111</td>\n",
       "      <td>Michigan Ave &amp; Lake St</td>\n",
       "      <td>Michigan Ave &amp; Lake St</td>\n",
       "      <td>Subscriber</td>\n",
       "      <td>NaN</td>\n",
       "      <td>1980.0</td>\n",
       "    </tr>\n",
       "    <tr>\n",
       "      <th>53843</th>\n",
       "      <td>2017-01-19 08:03:06</td>\n",
       "      <td>2017-01-19 08:06:31</td>\n",
       "      <td>205</td>\n",
       "      <td>Clark St &amp; Randolph St</td>\n",
       "      <td>Clark St &amp; Randolph St</td>\n",
       "      <td>Subscriber</td>\n",
       "      <td>NaN</td>\n",
       "      <td>1980.0</td>\n",
       "    </tr>\n",
       "    <tr>\n",
       "      <th>54688</th>\n",
       "      <td>2017-01-19 09:29:01</td>\n",
       "      <td>2017-01-19 09:30:11</td>\n",
       "      <td>70</td>\n",
       "      <td>Emerald Ave &amp; 31st St</td>\n",
       "      <td>Emerald Ave &amp; 31st St</td>\n",
       "      <td>Subscriber</td>\n",
       "      <td>NaN</td>\n",
       "      <td>1980.0</td>\n",
       "    </tr>\n",
       "    <tr>\n",
       "      <th>57289</th>\n",
       "      <td>2017-01-19 20:32:39</td>\n",
       "      <td>2017-01-19 20:52:49</td>\n",
       "      <td>1210</td>\n",
       "      <td>Jeffery Blvd &amp; 71st St</td>\n",
       "      <td>Stony Island Ave &amp; 71st St</td>\n",
       "      <td>Subscriber</td>\n",
       "      <td>NaN</td>\n",
       "      <td>1980.0</td>\n",
       "    </tr>\n",
       "    <tr>\n",
       "      <th>65501</th>\n",
       "      <td>2017-01-21 14:01:23</td>\n",
       "      <td>2017-01-21 14:03:29</td>\n",
       "      <td>126</td>\n",
       "      <td>Wells St &amp; Elm St</td>\n",
       "      <td>Wells St &amp; Elm St</td>\n",
       "      <td>Subscriber</td>\n",
       "      <td>NaN</td>\n",
       "      <td>1980.0</td>\n",
       "    </tr>\n",
       "  </tbody>\n",
       "</table>\n",
       "</div>"
      ],
      "text/plain": [
       "               start_time            end_time  trip_duration  \\\n",
       "6137  2017-01-03 16:02:17 2017-01-03 16:09:25            428   \n",
       "13984 2017-01-05 18:29:01 2017-01-05 18:30:53            112   \n",
       "44232 2017-01-17 09:06:33 2017-01-17 09:07:52             79   \n",
       "44858 2017-01-17 12:43:24 2017-01-17 12:44:54             90   \n",
       "49457 2017-01-18 10:11:05 2017-01-18 10:12:06             61   \n",
       "50073 2017-01-18 13:37:52 2017-01-18 13:39:43            111   \n",
       "53843 2017-01-19 08:03:06 2017-01-19 08:06:31            205   \n",
       "54688 2017-01-19 09:29:01 2017-01-19 09:30:11             70   \n",
       "57289 2017-01-19 20:32:39 2017-01-19 20:52:49           1210   \n",
       "65501 2017-01-21 14:01:23 2017-01-21 14:03:29            126   \n",
       "\n",
       "                    start_station                 end_station   user_type  \\\n",
       "6137   Kedzie Ave & Milwaukee Ave  Kedzie Ave & Milwaukee Ave  Subscriber   \n",
       "13984      St. Clair St & Erie St      St. Clair St & Erie St  Subscriber   \n",
       "44232     Clark St & Montrose Ave     Clark St & Montrose Ave  Subscriber   \n",
       "44858        Orleans St & Ohio St        Orleans St & Ohio St  Subscriber   \n",
       "49457       Wells St & Concord Ln       Wells St & Concord Ln  Subscriber   \n",
       "50073      Michigan Ave & Lake St      Michigan Ave & Lake St  Subscriber   \n",
       "53843      Clark St & Randolph St      Clark St & Randolph St  Subscriber   \n",
       "54688       Emerald Ave & 31st St       Emerald Ave & 31st St  Subscriber   \n",
       "57289      Jeffery Blvd & 71st St  Stony Island Ave & 71st St  Subscriber   \n",
       "65501           Wells St & Elm St           Wells St & Elm St  Subscriber   \n",
       "\n",
       "      gender  birth_year  \n",
       "6137     NaN      1980.0  \n",
       "13984    NaN      1980.0  \n",
       "44232    NaN      1980.0  \n",
       "44858    NaN      1980.0  \n",
       "49457    NaN      1980.0  \n",
       "50073    NaN      1980.0  \n",
       "53843    NaN      1980.0  \n",
       "54688    NaN      1980.0  \n",
       "57289    NaN      1980.0  \n",
       "65501    NaN      1980.0  "
      ]
     },
     "execution_count": 16,
     "metadata": {},
     "output_type": "execute_result"
    }
   ],
   "source": [
    "df_bike[df_bike['gender'].isnull()].query('user_type == \"Subscriber\"')[:10]"
   ]
  },
  {
   "cell_type": "markdown",
   "metadata": {},
   "source": [
    "Temos alguns __ASSINATES__ com o campo GENDER não informado"
   ]
  },
  {
   "cell_type": "code",
   "execution_count": 17,
   "metadata": {},
   "outputs": [
    {
     "data": {
      "text/html": [
       "<div>\n",
       "<style scoped>\n",
       "    .dataframe tbody tr th:only-of-type {\n",
       "        vertical-align: middle;\n",
       "    }\n",
       "\n",
       "    .dataframe tbody tr th {\n",
       "        vertical-align: top;\n",
       "    }\n",
       "\n",
       "    .dataframe thead th {\n",
       "        text-align: right;\n",
       "    }\n",
       "</style>\n",
       "<table border=\"1\" class=\"dataframe\">\n",
       "  <thead>\n",
       "    <tr style=\"text-align: right;\">\n",
       "      <th></th>\n",
       "      <th>start_time</th>\n",
       "      <th>end_time</th>\n",
       "      <th>trip_duration</th>\n",
       "      <th>start_station</th>\n",
       "      <th>end_station</th>\n",
       "      <th>gender</th>\n",
       "      <th>birth_year</th>\n",
       "    </tr>\n",
       "    <tr>\n",
       "      <th>user_type</th>\n",
       "      <th></th>\n",
       "      <th></th>\n",
       "      <th></th>\n",
       "      <th></th>\n",
       "      <th></th>\n",
       "      <th></th>\n",
       "      <th></th>\n",
       "    </tr>\n",
       "  </thead>\n",
       "  <tbody>\n",
       "    <tr>\n",
       "      <th>Customer</th>\n",
       "      <td>316683</td>\n",
       "      <td>316683</td>\n",
       "      <td>316683</td>\n",
       "      <td>316683</td>\n",
       "      <td>316683</td>\n",
       "      <td>0</td>\n",
       "      <td>0</td>\n",
       "    </tr>\n",
       "  </tbody>\n",
       "</table>\n",
       "</div>"
      ],
      "text/plain": [
       "           start_time  end_time  trip_duration  start_station  end_station  \\\n",
       "user_type                                                                    \n",
       "Customer       316683    316683         316683         316683       316683   \n",
       "\n",
       "           gender  birth_year  \n",
       "user_type                      \n",
       "Customer        0           0  "
      ]
     },
     "execution_count": 17,
     "metadata": {},
     "output_type": "execute_result"
    }
   ],
   "source": [
    "df_bike[df_bike['birth_year'].isnull()].groupby('user_type').count()"
   ]
  },
  {
   "cell_type": "code",
   "execution_count": 18,
   "metadata": {},
   "outputs": [
    {
     "data": {
      "text/plain": [
       "Subscriber    1234339\n",
       "Customer       317162\n",
       "Dependent           4\n",
       "Name: user_type, dtype: int64"
      ]
     },
     "execution_count": 18,
     "metadata": {},
     "output_type": "execute_result"
    }
   ],
   "source": [
    "df_bike['user_type'].value_counts()"
   ]
  },
  {
   "cell_type": "markdown",
   "metadata": {},
   "source": [
    "Mas apenas os usuarios do tipo __Customer__ possuem BIRTH_YEAR não informado"
   ]
  },
  {
   "cell_type": "markdown",
   "metadata": {},
   "source": [
    "### Funções"
   ]
  },
  {
   "cell_type": "code",
   "execution_count": 19,
   "metadata": {},
   "outputs": [],
   "source": [
    "def conta_info(coluna):\n",
    "    \"\"\"\n",
    "    Descrição:\n",
    "    Retorna os tipos unicos e suas quantidades.\n",
    "    Utilização:\n",
    "      funcao(coluna)\n",
    "\n",
    "    Parâmetros:\n",
    "      coluna\n",
    "        Coluna que será manipulada na função\n",
    "    \n",
    "    Retorna:\n",
    "        dados unicos e suas quantidades\n",
    "    \"\"\"\n",
    "    return df_bike[coluna].value_counts()"
   ]
  },
  {
   "cell_type": "code",
   "execution_count": 20,
   "metadata": {},
   "outputs": [],
   "source": [
    "def coluna_lista(coluna):\n",
    "    \"\"\"\n",
    "    Descrição:\n",
    "    Retorna a coluna indicada em uma lista\n",
    "    Utilização:\n",
    "        funcao(coluna)\n",
    "    \n",
    "    Parâmetros:\n",
    "        coluna\n",
    "            Coluna que será manipulada na função\n",
    "            \n",
    "    Retorna:\n",
    "        Lista com dados unicos e lista com a quantidade de ocorrências    \n",
    "    \"\"\"\n",
    "    itens_lista = list(set(df_bike[coluna]))\n",
    "    qtde_itens = [0 for _ in itens_lista]\n",
    "    for item in df_bike[coluna]:\n",
    "        index = itens_lista.index(item)\n",
    "        qtde_itens[index] += 1\n",
    "    return itens_lista, qtde_itens"
   ]
  },
  {
   "cell_type": "code",
   "execution_count": 21,
   "metadata": {},
   "outputs": [],
   "source": [
    "def conta_lista(lista):\n",
    "    \"\"\"\n",
    "    Descrição:\n",
    "    Retorna uma lista de dados unicos e suas quantidades\n",
    "    Utilização:\n",
    "        funcao(lista)\n",
    "    \n",
    "    Parâmetros:\n",
    "        lista\n",
    "            Lista que será manipulada na função\n",
    "            \n",
    "    Retorna:\n",
    "        Lista com dados unicos e lista com a quantidade de ocorrências    \n",
    "    \"\"\"\n",
    "    itens = list(set(lista))\n",
    "    qtde_itens = [0 for _ in itens]\n",
    "    for item in lista:\n",
    "        index = itens.index(item)\n",
    "        qtde_itens[index] += 1\n",
    "    return itens, qtde_itens"
   ]
  },
  {
   "cell_type": "code",
   "execution_count": 22,
   "metadata": {},
   "outputs": [
    {
     "data": {
      "text/plain": [
       "Subscriber    1234339\n",
       "Customer       317162\n",
       "Dependent           4\n",
       "Name: user_type, dtype: int64"
      ]
     },
     "execution_count": 22,
     "metadata": {},
     "output_type": "execute_result"
    }
   ],
   "source": [
    "# Testando a função\n",
    "conta_info('user_type')"
   ]
  },
  {
   "cell_type": "code",
   "execution_count": 23,
   "metadata": {},
   "outputs": [
    {
     "data": {
      "text/plain": [
       "(['Subscriber', 'Customer', 'Dependent'], [1234339, 317162, 4])"
      ]
     },
     "execution_count": 23,
     "metadata": {},
     "output_type": "execute_result"
    }
   ],
   "source": [
    "coluna_lista('user_type')"
   ]
  },
  {
   "cell_type": "code",
   "execution_count": 24,
   "metadata": {},
   "outputs": [
    {
     "data": {
      "text/plain": [
       "(['b', 1, 'a', 'c'], [1, 1, 4, 1])"
      ]
     },
     "execution_count": 24,
     "metadata": {},
     "output_type": "execute_result"
    }
   ],
   "source": [
    "lista_tst = ['a','a','b',1,'c','a','a']\n",
    "conta_lista(lista_tst)"
   ]
  },
  {
   "cell_type": "markdown",
   "metadata": {},
   "source": [
    "### Analises que iremos realizar"
   ]
  },
  {
   "cell_type": "markdown",
   "metadata": {},
   "source": [
    " - Genero dos usuarios\n",
    " - Quantidade de tipos de usuarios\n",
    " - Idade dos usuarios\n",
    " - Tempo das viagens\n",
    " - Estações com mais RETIRADAS\n",
    " - Estações com menos RETIRADAS\n",
    " - Trajetos mais realizados\n",
    " - Trajetos menos realizados\n",
    " - Utilização por dia da semana\n",
    " - Utilização por mês do ano"
   ]
  },
  {
   "cell_type": "code",
   "execution_count": 25,
   "metadata": {},
   "outputs": [
    {
     "name": "stdout",
     "output_type": "stream",
     "text": [
      "Temos em nossa base:\n",
      " 935854 homens\n",
      " 298784 mulheres\n"
     ]
    }
   ],
   "source": [
    "genero = conta_info('gender')\n",
    "print('Temos em nossa base:\\n {} homens\\n {} mulheres'\n",
    "     .format(genero['Male'],genero['Female']))"
   ]
  },
  {
   "cell_type": "code",
   "execution_count": 26,
   "metadata": {},
   "outputs": [
    {
     "data": {
      "text/plain": [
       "Homens      935854\n",
       "Mulheres    298784\n",
       "Name: gender, dtype: int64"
      ]
     },
     "execution_count": 26,
     "metadata": {},
     "output_type": "execute_result"
    }
   ],
   "source": [
    "generos = ['Homens','Mulheres']\n",
    "genero.index = generos\n",
    "genero"
   ]
  },
  {
   "cell_type": "code",
   "execution_count": 27,
   "metadata": {},
   "outputs": [
    {
     "data": {
      "image/png": "[encoded data removed]",
      "text/plain": [
       "<Figure size 432x288 with 1 Axes>"
      ]
     },
     "metadata": {
      "needs_background": "light"
     },
     "output_type": "display_data"
    }
   ],
   "source": [
    "# Plotando um gráfico dos generos\n",
    "plt.bar(genero.index,genero, tick_label=generos, color=('Gray','Pink'))\n",
    "plt.title('Usuarios por genero')\n",
    "plt.ylabel('Quantidade');"
   ]
  },
  {
   "cell_type": "markdown",
   "metadata": {},
   "source": [
    "Podemos observar uma grande diferença entre o genero dos usuarios."
   ]
  },
  {
   "cell_type": "code",
   "execution_count": 28,
   "metadata": {},
   "outputs": [
    {
     "name": "stdout",
     "output_type": "stream",
     "text": [
      "Temos em nossa base:\n",
      "Subscriber - 1234339\n",
      "Customer - 317162\n",
      "Dependent - 4\n"
     ]
    }
   ],
   "source": [
    "# Quantidade de tipos de usuarios\n",
    "\n",
    "usuarios = conta_info('user_type')\n",
    "print('Temos em nossa base:')\n",
    "for registro in range(len(usuarios)):\n",
    "    print(usuarios.index[registro], '-', usuarios[registro])"
   ]
  },
  {
   "cell_type": "code",
   "execution_count": 29,
   "metadata": {},
   "outputs": [
    {
     "data": {
      "image/png": "[encoded data removed]",
      "text/plain": [
       "<Figure size 432x288 with 1 Axes>"
      ]
     },
     "metadata": {
      "needs_background": "light"
     },
     "output_type": "display_data"
    }
   ],
   "source": [
    "# Plotando um gráfico com os tipos de usuarios\n",
    "\n",
    "plt.bar(usuarios.index,usuarios, color=('Blue','Brown','Red'))\n",
    "plt.title('Usuarios')\n",
    "plt.ylabel('Quantidade');"
   ]
  },
  {
   "cell_type": "markdown",
   "metadata": {},
   "source": [
    "Podemos observar uma grande quantidade de assinantes, um pequeno valor de usuarios e praticamente não vemos no gráfico a quantidade de dependentes devido ao seu pequeno numero (apenas 4)"
   ]
  },
  {
   "cell_type": "code",
   "execution_count": 30,
   "metadata": {},
   "outputs": [],
   "source": [
    "# Idade dos usuarios\n",
    "\n",
    "ano = datetime.now().year #ano atual\n",
    "idade = [] #criando uma ista para inserir as idades dos usuarios\n",
    "df_bike['idade'] = [0 for x in df_bike['start_time']]"
   ]
  },
  {
   "cell_type": "code",
   "execution_count": 31,
   "metadata": {},
   "outputs": [],
   "source": [
    "idade = []\n",
    "for nasc in df_bike['birth_year']:\n",
    "    idade.append(ano - nasc)\n",
    "    \n",
    "df_bike['idade'] = idade"
   ]
  },
  {
   "cell_type": "code",
   "execution_count": 32,
   "metadata": {},
   "outputs": [
    {
     "name": "stdout",
     "output_type": "stream",
     "text": [
      "\n",
      "A maior idade registrada em nossa base é de 119 anos e a menor é de 2 anos\n"
     ]
    }
   ],
   "source": [
    "maior_idade = int(df_bike['idade'].max())\n",
    "menor_idade = int(df_bike['idade'].min())\n",
    "\n",
    "print('\\nA maior idade registrada em nossa base é de {} anos e a menor é de {} anos'\n",
    "     .format(maior_idade,menor_idade))"
   ]
  },
  {
   "cell_type": "markdown",
   "metadata": {},
   "source": [
    "Por não termos um identificador unico de cada usuario, não é possível calcular a idade média"
   ]
  },
  {
   "cell_type": "code",
   "execution_count": 33,
   "metadata": {},
   "outputs": [],
   "source": [
    "# Tempo das viagens\n",
    "\n",
    "media_tempo = df_bike['trip_duration'].mean()\n",
    "maior_tempo = df_bike['trip_duration'].max()\n",
    "menor_tempo = df_bike['trip_duration'].min()"
   ]
  },
  {
   "cell_type": "code",
   "execution_count": 34,
   "metadata": {},
   "outputs": [],
   "source": [
    "# Adequando valores para apresentação\n",
    "# Função para converter tempo\n",
    "def converte_tempo(tempo):\n",
    "    \"\"\"\n",
    "    Função que converte o tempo de segundos para minutos, horas e dias de acordo com o valor\n",
    "    Utilização: funcao(tempo)\n",
    "    Parametros: tempo que será convertido\n",
    "    Retorna: o tempo convertido e a medida\n",
    "    \n",
    "    \"\"\"\n",
    "    \n",
    "    if tempo < 60:\n",
    "        medida = 'segundo(s)'\n",
    "    elif tempo < 3600:\n",
    "        medida = 'minuto(s)'\n",
    "        tempo = tempo / 60\n",
    "    elif tempo < 86400:\n",
    "        medida = 'hora(s)'\n",
    "        tempo = (tempo / 60) / 60\n",
    "    else:\n",
    "        medida = 'dia(s)'\n",
    "        tempo = ((tempo / 60) / 60) / 24\n",
    "    return tempo, medida"
   ]
  },
  {
   "cell_type": "code",
   "execution_count": 35,
   "metadata": {},
   "outputs": [
    {
     "data": {
      "text/plain": [
       "(15.662962650243903, 'minuto(s)')"
      ]
     },
     "execution_count": 35,
     "metadata": {},
     "output_type": "execute_result"
    }
   ],
   "source": [
    "# Testando a função\n",
    "converte_tempo(media_tempo)"
   ]
  },
  {
   "cell_type": "code",
   "execution_count": 36,
   "metadata": {},
   "outputs": [
    {
     "name": "stdout",
     "output_type": "stream",
     "text": [
      "O tempo médio das viagens é de 15.7 minuto(s)\n",
      "\n",
      "O maior tempo de viagem foi de 24.0 hora(s) e o menor tempo 1.0 minuto(s)\n"
     ]
    }
   ],
   "source": [
    "print('O tempo médio das viagens é de {:.1f} {}\\n\\nO maior tempo de viagem foi de {:.1f} {} e o menor tempo {:.1f} {}'\n",
    "     .format(converte_tempo(media_tempo)[0],converte_tempo(media_tempo)[1],\n",
    "             converte_tempo(maior_tempo)[0],converte_tempo(maior_tempo)[1],\n",
    "             converte_tempo(menor_tempo)[0],converte_tempo(menor_tempo)[1]))"
   ]
  },
  {
   "cell_type": "code",
   "execution_count": 37,
   "metadata": {},
   "outputs": [
    {
     "name": "stdout",
     "output_type": "stream",
     "text": [
      "Temos:\n",
      " 517685 viagens com duração acima da média\n",
      " 1033820 viagens abaixo da media\n"
     ]
    }
   ],
   "source": [
    "print('Temos:\\n {} viagens com duração acima da média\\n {} viagens abaixo da media'\n",
    "     .format(df_bike[df_bike['trip_duration'] > media_tempo]['trip_duration'].count(),\n",
    "            df_bike[df_bike['trip_duration'] < media_tempo]['trip_duration'].count()))"
   ]
  },
  {
   "cell_type": "code",
   "execution_count": 38,
   "metadata": {},
   "outputs": [
    {
     "name": "stdout",
     "output_type": "stream",
     "text": [
      "O registro com maior duração de viagem:\n"
     ]
    },
    {
     "data": {
      "text/html": [
       "<div>\n",
       "<style scoped>\n",
       "    .dataframe tbody tr th:only-of-type {\n",
       "        vertical-align: middle;\n",
       "    }\n",
       "\n",
       "    .dataframe tbody tr th {\n",
       "        vertical-align: top;\n",
       "    }\n",
       "\n",
       "    .dataframe thead th {\n",
       "        text-align: right;\n",
       "    }\n",
       "</style>\n",
       "<table border=\"1\" class=\"dataframe\">\n",
       "  <thead>\n",
       "    <tr style=\"text-align: right;\">\n",
       "      <th></th>\n",
       "      <th>start_time</th>\n",
       "      <th>end_time</th>\n",
       "      <th>trip_duration</th>\n",
       "      <th>start_station</th>\n",
       "      <th>end_station</th>\n",
       "      <th>user_type</th>\n",
       "      <th>gender</th>\n",
       "      <th>birth_year</th>\n",
       "      <th>idade</th>\n",
       "    </tr>\n",
       "  </thead>\n",
       "  <tbody>\n",
       "    <tr>\n",
       "      <th>401711</th>\n",
       "      <td>2017-03-26 08:07:43</td>\n",
       "      <td>2017-03-27 08:06:41</td>\n",
       "      <td>86338</td>\n",
       "      <td>Clark St &amp; Elm St</td>\n",
       "      <td>Halsted St &amp; Blackhawk St (*)</td>\n",
       "      <td>Customer</td>\n",
       "      <td>NaN</td>\n",
       "      <td>NaN</td>\n",
       "      <td>NaN</td>\n",
       "    </tr>\n",
       "  </tbody>\n",
       "</table>\n",
       "</div>"
      ],
      "text/plain": [
       "                start_time            end_time  trip_duration  \\\n",
       "401711 2017-03-26 08:07:43 2017-03-27 08:06:41          86338   \n",
       "\n",
       "            start_station                    end_station user_type gender  \\\n",
       "401711  Clark St & Elm St  Halsted St & Blackhawk St (*)  Customer    NaN   \n",
       "\n",
       "        birth_year  idade  \n",
       "401711         NaN    NaN  "
      ]
     },
     "execution_count": 38,
     "metadata": {},
     "output_type": "execute_result"
    }
   ],
   "source": [
    "print('O registro com maior duração de viagem:')\n",
    "df_bike[df_bike['trip_duration'] == maior_tempo]"
   ]
  },
  {
   "cell_type": "code",
   "execution_count": 39,
   "metadata": {},
   "outputs": [
    {
     "name": "stdout",
     "output_type": "stream",
     "text": [
      "O registro com menor duração de viagem:\n"
     ]
    },
    {
     "data": {
      "text/html": [
       "<div>\n",
       "<style scoped>\n",
       "    .dataframe tbody tr th:only-of-type {\n",
       "        vertical-align: middle;\n",
       "    }\n",
       "\n",
       "    .dataframe tbody tr th {\n",
       "        vertical-align: top;\n",
       "    }\n",
       "\n",
       "    .dataframe thead th {\n",
       "        text-align: right;\n",
       "    }\n",
       "</style>\n",
       "<table border=\"1\" class=\"dataframe\">\n",
       "  <thead>\n",
       "    <tr style=\"text-align: right;\">\n",
       "      <th></th>\n",
       "      <th>start_time</th>\n",
       "      <th>end_time</th>\n",
       "      <th>trip_duration</th>\n",
       "      <th>start_station</th>\n",
       "      <th>end_station</th>\n",
       "      <th>user_type</th>\n",
       "      <th>gender</th>\n",
       "      <th>birth_year</th>\n",
       "      <th>idade</th>\n",
       "    </tr>\n",
       "  </thead>\n",
       "  <tbody>\n",
       "    <tr>\n",
       "      <th>22807</th>\n",
       "      <td>2017-01-09 18:34:04</td>\n",
       "      <td>2017-01-09 18:35:04</td>\n",
       "      <td>60</td>\n",
       "      <td>Wood St &amp; Taylor St</td>\n",
       "      <td>Wood St &amp; Taylor St</td>\n",
       "      <td>Subscriber</td>\n",
       "      <td>Male</td>\n",
       "      <td>1981.0</td>\n",
       "      <td>37.0</td>\n",
       "    </tr>\n",
       "    <tr>\n",
       "      <th>57031</th>\n",
       "      <td>2017-01-19 18:08:47</td>\n",
       "      <td>2017-01-19 18:09:47</td>\n",
       "      <td>60</td>\n",
       "      <td>Cityfront Plaza Dr &amp; Pioneer Ct</td>\n",
       "      <td>Cityfront Plaza Dr &amp; Pioneer Ct</td>\n",
       "      <td>Subscriber</td>\n",
       "      <td>Female</td>\n",
       "      <td>1965.0</td>\n",
       "      <td>53.0</td>\n",
       "    </tr>\n",
       "    <tr>\n",
       "      <th>67177</th>\n",
       "      <td>2017-01-21 15:49:37</td>\n",
       "      <td>2017-01-21 15:50:37</td>\n",
       "      <td>60</td>\n",
       "      <td>Western Ave &amp; Winnebago Ave</td>\n",
       "      <td>Western Ave &amp; Winnebago Ave</td>\n",
       "      <td>Subscriber</td>\n",
       "      <td>NaN</td>\n",
       "      <td>1980.0</td>\n",
       "      <td>38.0</td>\n",
       "    </tr>\n",
       "    <tr>\n",
       "      <th>69240</th>\n",
       "      <td>2017-01-21 20:24:11</td>\n",
       "      <td>2017-01-21 20:25:11</td>\n",
       "      <td>60</td>\n",
       "      <td>Ada St &amp; Washington Blvd</td>\n",
       "      <td>Ada St &amp; Washington Blvd</td>\n",
       "      <td>Subscriber</td>\n",
       "      <td>Female</td>\n",
       "      <td>1988.0</td>\n",
       "      <td>30.0</td>\n",
       "    </tr>\n",
       "    <tr>\n",
       "      <th>77369</th>\n",
       "      <td>2017-01-23 18:00:16</td>\n",
       "      <td>2017-01-23 18:01:16</td>\n",
       "      <td>60</td>\n",
       "      <td>Kingsbury St &amp; Kinzie St</td>\n",
       "      <td>Kingsbury St &amp; Kinzie St</td>\n",
       "      <td>Customer</td>\n",
       "      <td>NaN</td>\n",
       "      <td>NaN</td>\n",
       "      <td>NaN</td>\n",
       "    </tr>\n",
       "    <tr>\n",
       "      <th>99820</th>\n",
       "      <td>2017-01-28 14:42:01</td>\n",
       "      <td>2017-01-28 14:43:01</td>\n",
       "      <td>60</td>\n",
       "      <td>Clinton St &amp; Washington Blvd</td>\n",
       "      <td>Canal St &amp; Madison St</td>\n",
       "      <td>Subscriber</td>\n",
       "      <td>Male</td>\n",
       "      <td>1983.0</td>\n",
       "      <td>35.0</td>\n",
       "    </tr>\n",
       "    <tr>\n",
       "      <th>104080</th>\n",
       "      <td>2017-01-30 11:58:04</td>\n",
       "      <td>2017-01-30 11:59:04</td>\n",
       "      <td>60</td>\n",
       "      <td>Ashland Ave &amp; 21st St</td>\n",
       "      <td>Ashland Ave &amp; 21st St</td>\n",
       "      <td>Subscriber</td>\n",
       "      <td>Male</td>\n",
       "      <td>1949.0</td>\n",
       "      <td>69.0</td>\n",
       "    </tr>\n",
       "    <tr>\n",
       "      <th>109372</th>\n",
       "      <td>2017-01-31 15:21:47</td>\n",
       "      <td>2017-01-31 15:22:47</td>\n",
       "      <td>60</td>\n",
       "      <td>Orleans St &amp; Merchandise Mart Plaza</td>\n",
       "      <td>Orleans St &amp; Merchandise Mart Plaza</td>\n",
       "      <td>Subscriber</td>\n",
       "      <td>Male</td>\n",
       "      <td>1965.0</td>\n",
       "      <td>53.0</td>\n",
       "    </tr>\n",
       "  </tbody>\n",
       "</table>\n",
       "</div>"
      ],
      "text/plain": [
       "                start_time            end_time  trip_duration  \\\n",
       "22807  2017-01-09 18:34:04 2017-01-09 18:35:04             60   \n",
       "57031  2017-01-19 18:08:47 2017-01-19 18:09:47             60   \n",
       "67177  2017-01-21 15:49:37 2017-01-21 15:50:37             60   \n",
       "69240  2017-01-21 20:24:11 2017-01-21 20:25:11             60   \n",
       "77369  2017-01-23 18:00:16 2017-01-23 18:01:16             60   \n",
       "99820  2017-01-28 14:42:01 2017-01-28 14:43:01             60   \n",
       "104080 2017-01-30 11:58:04 2017-01-30 11:59:04             60   \n",
       "109372 2017-01-31 15:21:47 2017-01-31 15:22:47             60   \n",
       "\n",
       "                              start_station  \\\n",
       "22807                   Wood St & Taylor St   \n",
       "57031       Cityfront Plaza Dr & Pioneer Ct   \n",
       "67177           Western Ave & Winnebago Ave   \n",
       "69240              Ada St & Washington Blvd   \n",
       "77369              Kingsbury St & Kinzie St   \n",
       "99820          Clinton St & Washington Blvd   \n",
       "104080                Ashland Ave & 21st St   \n",
       "109372  Orleans St & Merchandise Mart Plaza   \n",
       "\n",
       "                                end_station   user_type  gender  birth_year  \\\n",
       "22807                   Wood St & Taylor St  Subscriber    Male      1981.0   \n",
       "57031       Cityfront Plaza Dr & Pioneer Ct  Subscriber  Female      1965.0   \n",
       "67177           Western Ave & Winnebago Ave  Subscriber     NaN      1980.0   \n",
       "69240              Ada St & Washington Blvd  Subscriber  Female      1988.0   \n",
       "77369              Kingsbury St & Kinzie St    Customer     NaN         NaN   \n",
       "99820                 Canal St & Madison St  Subscriber    Male      1983.0   \n",
       "104080                Ashland Ave & 21st St  Subscriber    Male      1949.0   \n",
       "109372  Orleans St & Merchandise Mart Plaza  Subscriber    Male      1965.0   \n",
       "\n",
       "        idade  \n",
       "22807    37.0  \n",
       "57031    53.0  \n",
       "67177    38.0  \n",
       "69240    30.0  \n",
       "77369     NaN  \n",
       "99820    35.0  \n",
       "104080   69.0  \n",
       "109372   53.0  "
      ]
     },
     "execution_count": 39,
     "metadata": {},
     "output_type": "execute_result"
    }
   ],
   "source": [
    "print('O registro com menor duração de viagem:')\n",
    "df_bike[df_bike['trip_duration'] == menor_tempo][:8]"
   ]
  },
  {
   "cell_type": "markdown",
   "metadata": {},
   "source": [
    "Como podemos ver, foi considerado o menor tempo de viagem os usuarios que retiraram e bicicleta e já devolveram na estação, vamos ignorar os casos onde a estação de inicio e fim são iguais, mas manteremos o valor do menor tempo."
   ]
  },
  {
   "cell_type": "code",
   "execution_count": 40,
   "metadata": {},
   "outputs": [
    {
     "name": "stdout",
     "output_type": "stream",
     "text": [
      "Os registros com menor duração de viagem:\n"
     ]
    },
    {
     "data": {
      "text/html": [
       "<div>\n",
       "<style scoped>\n",
       "    .dataframe tbody tr th:only-of-type {\n",
       "        vertical-align: middle;\n",
       "    }\n",
       "\n",
       "    .dataframe tbody tr th {\n",
       "        vertical-align: top;\n",
       "    }\n",
       "\n",
       "    .dataframe thead th {\n",
       "        text-align: right;\n",
       "    }\n",
       "</style>\n",
       "<table border=\"1\" class=\"dataframe\">\n",
       "  <thead>\n",
       "    <tr style=\"text-align: right;\">\n",
       "      <th></th>\n",
       "      <th>start_time</th>\n",
       "      <th>end_time</th>\n",
       "      <th>trip_duration</th>\n",
       "      <th>start_station</th>\n",
       "      <th>end_station</th>\n",
       "      <th>user_type</th>\n",
       "      <th>gender</th>\n",
       "      <th>birth_year</th>\n",
       "      <th>idade</th>\n",
       "    </tr>\n",
       "  </thead>\n",
       "  <tbody>\n",
       "    <tr>\n",
       "      <th>99820</th>\n",
       "      <td>2017-01-28 14:42:01</td>\n",
       "      <td>2017-01-28 14:43:01</td>\n",
       "      <td>60</td>\n",
       "      <td>Clinton St &amp; Washington Blvd</td>\n",
       "      <td>Canal St &amp; Madison St</td>\n",
       "      <td>Subscriber</td>\n",
       "      <td>Male</td>\n",
       "      <td>1983.0</td>\n",
       "      <td>35.0</td>\n",
       "    </tr>\n",
       "    <tr>\n",
       "      <th>124303</th>\n",
       "      <td>2017-02-03 16:53:51</td>\n",
       "      <td>2017-02-03 16:54:51</td>\n",
       "      <td>60</td>\n",
       "      <td>Clinton St &amp; Jackson Blvd</td>\n",
       "      <td>Canal St &amp; Adams St</td>\n",
       "      <td>Subscriber</td>\n",
       "      <td>Male</td>\n",
       "      <td>1964.0</td>\n",
       "      <td>54.0</td>\n",
       "    </tr>\n",
       "    <tr>\n",
       "      <th>252925</th>\n",
       "      <td>2017-02-23 14:38:25</td>\n",
       "      <td>2017-02-23 14:39:25</td>\n",
       "      <td>60</td>\n",
       "      <td>Clinton St &amp; Madison St</td>\n",
       "      <td>Clinton St &amp; Washington Blvd</td>\n",
       "      <td>Subscriber</td>\n",
       "      <td>Male</td>\n",
       "      <td>1949.0</td>\n",
       "      <td>69.0</td>\n",
       "    </tr>\n",
       "    <tr>\n",
       "      <th>314465</th>\n",
       "      <td>2017-03-07 17:53:59</td>\n",
       "      <td>2017-03-07 17:54:59</td>\n",
       "      <td>60</td>\n",
       "      <td>Clinton St &amp; Washington Blvd</td>\n",
       "      <td>Clinton St &amp; Madison St</td>\n",
       "      <td>Subscriber</td>\n",
       "      <td>Male</td>\n",
       "      <td>1982.0</td>\n",
       "      <td>36.0</td>\n",
       "    </tr>\n",
       "    <tr>\n",
       "      <th>351224</th>\n",
       "      <td>2017-03-16 19:08:18</td>\n",
       "      <td>2017-03-16 19:09:18</td>\n",
       "      <td>60</td>\n",
       "      <td>Canal St &amp; Madison St</td>\n",
       "      <td>Clinton St &amp; Madison St</td>\n",
       "      <td>Subscriber</td>\n",
       "      <td>Male</td>\n",
       "      <td>1953.0</td>\n",
       "      <td>65.0</td>\n",
       "    </tr>\n",
       "    <tr>\n",
       "      <th>732844</th>\n",
       "      <td>2017-05-04 21:12:06</td>\n",
       "      <td>2017-05-04 21:13:06</td>\n",
       "      <td>60</td>\n",
       "      <td>Rush St &amp; Hubbard St</td>\n",
       "      <td>State St &amp; Kinzie St</td>\n",
       "      <td>Subscriber</td>\n",
       "      <td>Male</td>\n",
       "      <td>1987.0</td>\n",
       "      <td>31.0</td>\n",
       "    </tr>\n",
       "    <tr>\n",
       "      <th>916422</th>\n",
       "      <td>2017-05-22 07:37:50</td>\n",
       "      <td>2017-05-22 07:38:50</td>\n",
       "      <td>60</td>\n",
       "      <td>Canal St &amp; Monroe St (*)</td>\n",
       "      <td>Canal St &amp; Madison St</td>\n",
       "      <td>Subscriber</td>\n",
       "      <td>Male</td>\n",
       "      <td>1990.0</td>\n",
       "      <td>28.0</td>\n",
       "    </tr>\n",
       "    <tr>\n",
       "      <th>941406</th>\n",
       "      <td>2017-05-24 15:19:58</td>\n",
       "      <td>2017-05-24 15:20:58</td>\n",
       "      <td>60</td>\n",
       "      <td>Clinton St &amp; Madison St</td>\n",
       "      <td>Clinton St &amp; Washington Blvd</td>\n",
       "      <td>Subscriber</td>\n",
       "      <td>Female</td>\n",
       "      <td>1991.0</td>\n",
       "      <td>27.0</td>\n",
       "    </tr>\n",
       "    <tr>\n",
       "      <th>1399109</th>\n",
       "      <td>2017-06-21 22:24:54</td>\n",
       "      <td>2017-06-21 22:25:54</td>\n",
       "      <td>60</td>\n",
       "      <td>Clinton St &amp; Washington Blvd</td>\n",
       "      <td>Clinton St &amp; Madison St</td>\n",
       "      <td>Subscriber</td>\n",
       "      <td>Male</td>\n",
       "      <td>1955.0</td>\n",
       "      <td>63.0</td>\n",
       "    </tr>\n",
       "  </tbody>\n",
       "</table>\n",
       "</div>"
      ],
      "text/plain": [
       "                 start_time            end_time  trip_duration  \\\n",
       "99820   2017-01-28 14:42:01 2017-01-28 14:43:01             60   \n",
       "124303  2017-02-03 16:53:51 2017-02-03 16:54:51             60   \n",
       "252925  2017-02-23 14:38:25 2017-02-23 14:39:25             60   \n",
       "314465  2017-03-07 17:53:59 2017-03-07 17:54:59             60   \n",
       "351224  2017-03-16 19:08:18 2017-03-16 19:09:18             60   \n",
       "732844  2017-05-04 21:12:06 2017-05-04 21:13:06             60   \n",
       "916422  2017-05-22 07:37:50 2017-05-22 07:38:50             60   \n",
       "941406  2017-05-24 15:19:58 2017-05-24 15:20:58             60   \n",
       "1399109 2017-06-21 22:24:54 2017-06-21 22:25:54             60   \n",
       "\n",
       "                        start_station                   end_station  \\\n",
       "99820    Clinton St & Washington Blvd         Canal St & Madison St   \n",
       "124303      Clinton St & Jackson Blvd           Canal St & Adams St   \n",
       "252925        Clinton St & Madison St  Clinton St & Washington Blvd   \n",
       "314465   Clinton St & Washington Blvd       Clinton St & Madison St   \n",
       "351224          Canal St & Madison St       Clinton St & Madison St   \n",
       "732844           Rush St & Hubbard St          State St & Kinzie St   \n",
       "916422       Canal St & Monroe St (*)         Canal St & Madison St   \n",
       "941406        Clinton St & Madison St  Clinton St & Washington Blvd   \n",
       "1399109  Clinton St & Washington Blvd       Clinton St & Madison St   \n",
       "\n",
       "          user_type  gender  birth_year  idade  \n",
       "99820    Subscriber    Male      1983.0   35.0  \n",
       "124303   Subscriber    Male      1964.0   54.0  \n",
       "252925   Subscriber    Male      1949.0   69.0  \n",
       "314465   Subscriber    Male      1982.0   36.0  \n",
       "351224   Subscriber    Male      1953.0   65.0  \n",
       "732844   Subscriber    Male      1987.0   31.0  \n",
       "916422   Subscriber    Male      1990.0   28.0  \n",
       "941406   Subscriber  Female      1991.0   27.0  \n",
       "1399109  Subscriber    Male      1955.0   63.0  "
      ]
     },
     "execution_count": 40,
     "metadata": {},
     "output_type": "execute_result"
    }
   ],
   "source": [
    "print('Os registros com menor duração de viagem:')\n",
    "df_bike[(df_bike['trip_duration'] == menor_tempo) & (df_bike['start_station'] != df_bike['end_station'])]"
   ]
  },
  {
   "cell_type": "code",
   "execution_count": 41,
   "metadata": {},
   "outputs": [],
   "source": [
    "# Estações\n",
    "#estacao, quantidade = coluna_lista('start_station')\n",
    "estacoes = conta_info('start_station')"
   ]
  },
  {
   "cell_type": "code",
   "execution_count": 42,
   "metadata": {},
   "outputs": [
    {
     "name": "stdout",
     "output_type": "stream",
     "text": [
      "Temos um total de 582 estações em nossa base\n"
     ]
    }
   ],
   "source": [
    "print('Temos um total de {} estações em nossa base'\n",
    "     .format(len(estacoes)))"
   ]
  },
  {
   "cell_type": "code",
   "execution_count": 43,
   "metadata": {},
   "outputs": [
    {
     "name": "stdout",
     "output_type": "stream",
     "text": [
      "A estação com maior numero de registros possui 36686 e a menor 1\n"
     ]
    }
   ],
   "source": [
    "mais_reg = estacoes.max()\n",
    "menos_reg = estacoes.min()\n",
    "print('A estação com maior numero de registros possui {} e a menor {}'\n",
    "      .format(mais_reg,menos_reg))"
   ]
  },
  {
   "cell_type": "code",
   "execution_count": 44,
   "metadata": {},
   "outputs": [
    {
     "name": "stdout",
     "output_type": "stream",
     "text": [
      "Estações com maior numero de registro:\n",
      "- Streeter Dr & Grand Ave\n"
     ]
    }
   ],
   "source": [
    "print('Estações com maior numero de registro:')\n",
    "pos = 0\n",
    "for estacao in estacoes:\n",
    "    if estacao == mais_reg:\n",
    "        print('-',estacoes.index[pos])\n",
    "    pos += 1"
   ]
  },
  {
   "cell_type": "code",
   "execution_count": 45,
   "metadata": {},
   "outputs": [
    {
     "name": "stdout",
     "output_type": "stream",
     "text": [
      "Estações com menor numero de registro:\n",
      "- Ashland Ave & Garfield Blvd\n"
     ]
    }
   ],
   "source": [
    "print('Estações com menor numero de registro:')\n",
    "pos = 0\n",
    "for estacao in estacoes:\n",
    "    if estacao == menos_reg:\n",
    "        print('-',estacoes.index[pos])\n",
    "    pos += 1"
   ]
  },
  {
   "cell_type": "code",
   "execution_count": 46,
   "metadata": {},
   "outputs": [],
   "source": [
    "# Movimentação por dia da semana\n",
    "\n",
    "day = df_bike['start_time'].dt.day_name() #criando uma lista com os dias da semana\n",
    "df_bike['day'] = day #criando uma coluna do df e inserindo os dias da semana"
   ]
  },
  {
   "cell_type": "code",
   "execution_count": 47,
   "metadata": {},
   "outputs": [
    {
     "data": {
      "text/html": [
       "<div>\n",
       "<style scoped>\n",
       "    .dataframe tbody tr th:only-of-type {\n",
       "        vertical-align: middle;\n",
       "    }\n",
       "\n",
       "    .dataframe tbody tr th {\n",
       "        vertical-align: top;\n",
       "    }\n",
       "\n",
       "    .dataframe thead th {\n",
       "        text-align: right;\n",
       "    }\n",
       "</style>\n",
       "<table border=\"1\" class=\"dataframe\">\n",
       "  <thead>\n",
       "    <tr style=\"text-align: right;\">\n",
       "      <th></th>\n",
       "      <th>start_time</th>\n",
       "      <th>end_time</th>\n",
       "      <th>trip_duration</th>\n",
       "      <th>start_station</th>\n",
       "      <th>end_station</th>\n",
       "      <th>user_type</th>\n",
       "      <th>gender</th>\n",
       "      <th>birth_year</th>\n",
       "      <th>idade</th>\n",
       "      <th>day</th>\n",
       "    </tr>\n",
       "  </thead>\n",
       "  <tbody>\n",
       "    <tr>\n",
       "      <th>0</th>\n",
       "      <td>2017-01-01 00:00:36</td>\n",
       "      <td>2017-01-01 00:06:32</td>\n",
       "      <td>356</td>\n",
       "      <td>Canal St &amp; Taylor St</td>\n",
       "      <td>Canal St &amp; Monroe St (*)</td>\n",
       "      <td>Customer</td>\n",
       "      <td>NaN</td>\n",
       "      <td>NaN</td>\n",
       "      <td>NaN</td>\n",
       "      <td>Sunday</td>\n",
       "    </tr>\n",
       "    <tr>\n",
       "      <th>1</th>\n",
       "      <td>2017-01-01 00:02:54</td>\n",
       "      <td>2017-01-01 00:08:21</td>\n",
       "      <td>327</td>\n",
       "      <td>Larrabee St &amp; Menomonee St</td>\n",
       "      <td>Sheffield Ave &amp; Kingsbury St</td>\n",
       "      <td>Subscriber</td>\n",
       "      <td>Male</td>\n",
       "      <td>1984.0</td>\n",
       "      <td>34.0</td>\n",
       "      <td>Sunday</td>\n",
       "    </tr>\n",
       "    <tr>\n",
       "      <th>2</th>\n",
       "      <td>2017-01-01 00:06:06</td>\n",
       "      <td>2017-01-01 00:18:31</td>\n",
       "      <td>745</td>\n",
       "      <td>Orleans St &amp; Chestnut St (NEXT Apts)</td>\n",
       "      <td>Ashland Ave &amp; Blackhawk St</td>\n",
       "      <td>Subscriber</td>\n",
       "      <td>Male</td>\n",
       "      <td>1985.0</td>\n",
       "      <td>33.0</td>\n",
       "      <td>Sunday</td>\n",
       "    </tr>\n",
       "    <tr>\n",
       "      <th>3</th>\n",
       "      <td>2017-01-01 00:07:28</td>\n",
       "      <td>2017-01-01 00:12:51</td>\n",
       "      <td>323</td>\n",
       "      <td>Franklin St &amp; Monroe St</td>\n",
       "      <td>Clinton St &amp; Tilden St</td>\n",
       "      <td>Subscriber</td>\n",
       "      <td>Male</td>\n",
       "      <td>1990.0</td>\n",
       "      <td>28.0</td>\n",
       "      <td>Sunday</td>\n",
       "    </tr>\n",
       "    <tr>\n",
       "      <th>4</th>\n",
       "      <td>2017-01-01 00:07:57</td>\n",
       "      <td>2017-01-01 00:20:53</td>\n",
       "      <td>776</td>\n",
       "      <td>Broadway &amp; Barry Ave</td>\n",
       "      <td>Sedgwick St &amp; North Ave</td>\n",
       "      <td>Subscriber</td>\n",
       "      <td>Male</td>\n",
       "      <td>1990.0</td>\n",
       "      <td>28.0</td>\n",
       "      <td>Sunday</td>\n",
       "    </tr>\n",
       "  </tbody>\n",
       "</table>\n",
       "</div>"
      ],
      "text/plain": [
       "           start_time            end_time  trip_duration  \\\n",
       "0 2017-01-01 00:00:36 2017-01-01 00:06:32            356   \n",
       "1 2017-01-01 00:02:54 2017-01-01 00:08:21            327   \n",
       "2 2017-01-01 00:06:06 2017-01-01 00:18:31            745   \n",
       "3 2017-01-01 00:07:28 2017-01-01 00:12:51            323   \n",
       "4 2017-01-01 00:07:57 2017-01-01 00:20:53            776   \n",
       "\n",
       "                          start_station                   end_station  \\\n",
       "0                  Canal St & Taylor St      Canal St & Monroe St (*)   \n",
       "1            Larrabee St & Menomonee St  Sheffield Ave & Kingsbury St   \n",
       "2  Orleans St & Chestnut St (NEXT Apts)    Ashland Ave & Blackhawk St   \n",
       "3               Franklin St & Monroe St        Clinton St & Tilden St   \n",
       "4                  Broadway & Barry Ave       Sedgwick St & North Ave   \n",
       "\n",
       "    user_type gender  birth_year  idade     day  \n",
       "0    Customer    NaN         NaN    NaN  Sunday  \n",
       "1  Subscriber   Male      1984.0   34.0  Sunday  \n",
       "2  Subscriber   Male      1985.0   33.0  Sunday  \n",
       "3  Subscriber   Male      1990.0   28.0  Sunday  \n",
       "4  Subscriber   Male      1990.0   28.0  Sunday  "
      ]
     },
     "execution_count": 47,
     "metadata": {},
     "output_type": "execute_result"
    }
   ],
   "source": [
    "df_bike.head()"
   ]
  },
  {
   "cell_type": "code",
   "execution_count": 48,
   "metadata": {},
   "outputs": [],
   "source": [
    "cont_day = conta_info('day') #contando a qtde de ocorrencias para cada dia da semana"
   ]
  },
  {
   "cell_type": "code",
   "execution_count": 49,
   "metadata": {},
   "outputs": [
    {
     "data": {
      "text/plain": [
       "Tuesday      237586\n",
       "Monday       231477\n",
       "Friday       226840\n",
       "Thursday     223114\n",
       "Wednesday    220217\n",
       "Saturday     212003\n",
       "Sunday       200268\n",
       "Name: day, dtype: int64"
      ]
     },
     "execution_count": 49,
     "metadata": {},
     "output_type": "execute_result"
    }
   ],
   "source": [
    "cont_day #conferindo o resultado"
   ]
  },
  {
   "cell_type": "code",
   "execution_count": 50,
   "metadata": {},
   "outputs": [],
   "source": [
    "# Reordenando os dias, seguindo o calendário\n",
    "\n",
    "nindex = ['Sunday','Tuesday','Wednesday','Thursday','Friday','Saturday','Monday']\n",
    "cont_day = cont_day.reindex(index = nindex)"
   ]
  },
  {
   "cell_type": "code",
   "execution_count": 51,
   "metadata": {},
   "outputs": [
    {
     "data": {
      "text/plain": [
       "(180000, 240000)"
      ]
     },
     "execution_count": 51,
     "metadata": {},
     "output_type": "execute_result"
    },
    {
     "data": {
      "image/png": "[encoded data removed]",
      "text/plain": [
       "<Figure size 720x360 with 1 Axes>"
      ]
     },
     "metadata": {
      "needs_background": "light"
     },
     "output_type": "display_data"
    }
   ],
   "source": [
    "# Plotando um gráfico com os registros por dia da semana\n",
    "\n",
    "#plt.bar(cont_day.index,cont_day)\n",
    "#plt.title('Contagem de registros por dia da semana')\n",
    "#plt.xticks(rotation = 50);\n",
    "cont_day.plot(kind='bar', title=\"Contagem de registros por dia da semana\", rot=45, figsize=(10,5));\n",
    "plt.ylabel('Quantidade')\n",
    "plt.ylim(180000,240000)"
   ]
  },
  {
   "cell_type": "markdown",
   "metadata": {},
   "source": [
    "Podemos observar que a segunda-feira é o dia de menos movimentação e a terça-feira o dia de maior movimentação"
   ]
  },
  {
   "cell_type": "code",
   "execution_count": 52,
   "metadata": {},
   "outputs": [],
   "source": [
    "# Movimentação por mês\n",
    "\n",
    "mes = []\n",
    "mes = df_bike['start_time'].dt.month\n",
    "df_bike['month'] = mes"
   ]
  },
  {
   "cell_type": "code",
   "execution_count": 53,
   "metadata": {},
   "outputs": [],
   "source": [
    "cont_mes = conta_info('month')"
   ]
  },
  {
   "cell_type": "code",
   "execution_count": 54,
   "metadata": {},
   "outputs": [
    {
     "data": {
      "text/plain": [
       "6    505164\n",
       "5    345988\n",
       "4    268662\n",
       "2    166343\n",
       "3    153406\n",
       "1    111942\n",
       "Name: month, dtype: int64"
      ]
     },
     "execution_count": 54,
     "metadata": {},
     "output_type": "execute_result"
    }
   ],
   "source": [
    "cont_mes"
   ]
  },
  {
   "cell_type": "code",
   "execution_count": 55,
   "metadata": {},
   "outputs": [],
   "source": [
    "# Reordenando o index para corresponder a ordem dos meses\n",
    "nindex = [1,2,3,4,5,6]\n",
    "cont_mes = cont_mes.reindex(index = nindex)\n",
    "meses = ['Janeiro','Fevereiro','Março','Abril','Maio','Junho']\n",
    "cont_mes.index = meses"
   ]
  },
  {
   "cell_type": "code",
   "execution_count": 56,
   "metadata": {},
   "outputs": [
    {
     "data": {
      "image/png": "[encoded data removed]",
      "text/plain": [
       "<Figure size 432x288 with 1 Axes>"
      ]
     },
     "metadata": {
      "needs_background": "light"
     },
     "output_type": "display_data"
    }
   ],
   "source": [
    "# Plotando um grafico com a movimentação por mês\n",
    "\n",
    "plt.plot(cont_mes)\n",
    "plt.title('Movimentação por mês')\n",
    "plt.ylabel('Quantidade');"
   ]
  },
  {
   "cell_type": "markdown",
   "metadata": {},
   "source": [
    "Podemos observa no gráfico que a movimentação foi crescente a partir do mês de __janeiro__ até __junho__"
   ]
  },
  {
   "cell_type": "markdown",
   "metadata": {},
   "source": [
    "A seguir iremos mesclar as estações de INICIO e FIM do trajeto, afim de termos os trajetos para analise"
   ]
  },
  {
   "cell_type": "code",
   "execution_count": 57,
   "metadata": {},
   "outputs": [],
   "source": [
    "#Criando um df apenas com as estações de partida e fim\n",
    "\n",
    "df_trajetos = df_bike[['start_station','end_station']]"
   ]
  },
  {
   "cell_type": "code",
   "execution_count": 58,
   "metadata": {},
   "outputs": [
    {
     "data": {
      "text/html": [
       "<div>\n",
       "<style scoped>\n",
       "    .dataframe tbody tr th:only-of-type {\n",
       "        vertical-align: middle;\n",
       "    }\n",
       "\n",
       "    .dataframe tbody tr th {\n",
       "        vertical-align: top;\n",
       "    }\n",
       "\n",
       "    .dataframe thead th {\n",
       "        text-align: right;\n",
       "    }\n",
       "</style>\n",
       "<table border=\"1\" class=\"dataframe\">\n",
       "  <thead>\n",
       "    <tr style=\"text-align: right;\">\n",
       "      <th></th>\n",
       "      <th>start_station</th>\n",
       "      <th>end_station</th>\n",
       "    </tr>\n",
       "  </thead>\n",
       "  <tbody>\n",
       "    <tr>\n",
       "      <th>0</th>\n",
       "      <td>Canal St &amp; Taylor St</td>\n",
       "      <td>Canal St &amp; Monroe St (*)</td>\n",
       "    </tr>\n",
       "    <tr>\n",
       "      <th>1</th>\n",
       "      <td>Larrabee St &amp; Menomonee St</td>\n",
       "      <td>Sheffield Ave &amp; Kingsbury St</td>\n",
       "    </tr>\n",
       "    <tr>\n",
       "      <th>2</th>\n",
       "      <td>Orleans St &amp; Chestnut St (NEXT Apts)</td>\n",
       "      <td>Ashland Ave &amp; Blackhawk St</td>\n",
       "    </tr>\n",
       "    <tr>\n",
       "      <th>3</th>\n",
       "      <td>Franklin St &amp; Monroe St</td>\n",
       "      <td>Clinton St &amp; Tilden St</td>\n",
       "    </tr>\n",
       "    <tr>\n",
       "      <th>4</th>\n",
       "      <td>Broadway &amp; Barry Ave</td>\n",
       "      <td>Sedgwick St &amp; North Ave</td>\n",
       "    </tr>\n",
       "  </tbody>\n",
       "</table>\n",
       "</div>"
      ],
      "text/plain": [
       "                          start_station                   end_station\n",
       "0                  Canal St & Taylor St      Canal St & Monroe St (*)\n",
       "1            Larrabee St & Menomonee St  Sheffield Ave & Kingsbury St\n",
       "2  Orleans St & Chestnut St (NEXT Apts)    Ashland Ave & Blackhawk St\n",
       "3               Franklin St & Monroe St        Clinton St & Tilden St\n",
       "4                  Broadway & Barry Ave       Sedgwick St & North Ave"
      ]
     },
     "execution_count": 58,
     "metadata": {},
     "output_type": "execute_result"
    }
   ],
   "source": [
    "df_trajetos.head()"
   ]
  },
  {
   "cell_type": "code",
   "execution_count": 59,
   "metadata": {},
   "outputs": [],
   "source": [
    "# Mesclando as estações e inserindo em uma lista\n",
    "trajetos = []\n",
    "pos = 0\n",
    "for registro in range(df_trajetos.shape[0]):\n",
    "    t1 = df_trajetos.loc[pos, 'start_station'] + ' , ' + df_trajetos.loc[pos, 'end_station']\n",
    "    trajetos.append(t1)\n",
    "    pos += 1"
   ]
  },
  {
   "cell_type": "code",
   "execution_count": 60,
   "metadata": {},
   "outputs": [
    {
     "data": {
      "text/plain": [
       "['Canal St & Taylor St , Canal St & Monroe St (*)',\n",
       " 'Larrabee St & Menomonee St , Sheffield Ave & Kingsbury St',\n",
       " 'Orleans St & Chestnut St (NEXT Apts) , Ashland Ave & Blackhawk St',\n",
       " 'Franklin St & Monroe St , Clinton St & Tilden St',\n",
       " 'Broadway & Barry Ave , Sedgwick St & North Ave',\n",
       " 'State St & Kinzie St , Wells St & Polk St',\n",
       " 'Wabash Ave & Wacker Pl , Clinton St & Tilden St',\n",
       " 'Daley Center Plaza , Canal St & Monroe St (*)',\n",
       " 'Daley Center Plaza , Canal St & Monroe St (*)',\n",
       " 'Dayton St & North Ave , Ogden Ave & Chicago Ave']"
      ]
     },
     "execution_count": 60,
     "metadata": {},
     "output_type": "execute_result"
    }
   ],
   "source": [
    "trajetos[:10]"
   ]
  },
  {
   "cell_type": "code",
   "execution_count": 61,
   "metadata": {},
   "outputs": [
    {
     "name": "stderr",
     "output_type": "stream",
     "text": [
      "C:\\Anaconda3\\lib\\site-packages\\ipykernel_launcher.py:1: SettingWithCopyWarning: \n",
      "A value is trying to be set on a copy of a slice from a DataFrame.\n",
      "Try using .loc[row_indexer,col_indexer] = value instead\n",
      "\n",
      "See the caveats in the documentation: http://pandas.pydata.org/pandas-docs/stable/indexing.html#indexing-view-versus-copy\n",
      "  \"\"\"Entry point for launching an IPython kernel.\n"
     ]
    }
   ],
   "source": [
    "df_trajetos['trajeto'] = trajetos"
   ]
  },
  {
   "cell_type": "code",
   "execution_count": 62,
   "metadata": {},
   "outputs": [
    {
     "data": {
      "text/html": [
       "<div>\n",
       "<style scoped>\n",
       "    .dataframe tbody tr th:only-of-type {\n",
       "        vertical-align: middle;\n",
       "    }\n",
       "\n",
       "    .dataframe tbody tr th {\n",
       "        vertical-align: top;\n",
       "    }\n",
       "\n",
       "    .dataframe thead th {\n",
       "        text-align: right;\n",
       "    }\n",
       "</style>\n",
       "<table border=\"1\" class=\"dataframe\">\n",
       "  <thead>\n",
       "    <tr style=\"text-align: right;\">\n",
       "      <th></th>\n",
       "      <th>start_station</th>\n",
       "      <th>end_station</th>\n",
       "      <th>trajeto</th>\n",
       "    </tr>\n",
       "  </thead>\n",
       "  <tbody>\n",
       "    <tr>\n",
       "      <th>0</th>\n",
       "      <td>Canal St &amp; Taylor St</td>\n",
       "      <td>Canal St &amp; Monroe St (*)</td>\n",
       "      <td>Canal St &amp; Taylor St , Canal St &amp; Monroe St (*)</td>\n",
       "    </tr>\n",
       "    <tr>\n",
       "      <th>1</th>\n",
       "      <td>Larrabee St &amp; Menomonee St</td>\n",
       "      <td>Sheffield Ave &amp; Kingsbury St</td>\n",
       "      <td>Larrabee St &amp; Menomonee St , Sheffield Ave &amp; K...</td>\n",
       "    </tr>\n",
       "    <tr>\n",
       "      <th>2</th>\n",
       "      <td>Orleans St &amp; Chestnut St (NEXT Apts)</td>\n",
       "      <td>Ashland Ave &amp; Blackhawk St</td>\n",
       "      <td>Orleans St &amp; Chestnut St (NEXT Apts) , Ashland...</td>\n",
       "    </tr>\n",
       "    <tr>\n",
       "      <th>3</th>\n",
       "      <td>Franklin St &amp; Monroe St</td>\n",
       "      <td>Clinton St &amp; Tilden St</td>\n",
       "      <td>Franklin St &amp; Monroe St , Clinton St &amp; Tilden St</td>\n",
       "    </tr>\n",
       "    <tr>\n",
       "      <th>4</th>\n",
       "      <td>Broadway &amp; Barry Ave</td>\n",
       "      <td>Sedgwick St &amp; North Ave</td>\n",
       "      <td>Broadway &amp; Barry Ave , Sedgwick St &amp; North Ave</td>\n",
       "    </tr>\n",
       "  </tbody>\n",
       "</table>\n",
       "</div>"
      ],
      "text/plain": [
       "                          start_station                   end_station  \\\n",
       "0                  Canal St & Taylor St      Canal St & Monroe St (*)   \n",
       "1            Larrabee St & Menomonee St  Sheffield Ave & Kingsbury St   \n",
       "2  Orleans St & Chestnut St (NEXT Apts)    Ashland Ave & Blackhawk St   \n",
       "3               Franklin St & Monroe St        Clinton St & Tilden St   \n",
       "4                  Broadway & Barry Ave       Sedgwick St & North Ave   \n",
       "\n",
       "                                             trajeto  \n",
       "0    Canal St & Taylor St , Canal St & Monroe St (*)  \n",
       "1  Larrabee St & Menomonee St , Sheffield Ave & K...  \n",
       "2  Orleans St & Chestnut St (NEXT Apts) , Ashland...  \n",
       "3   Franklin St & Monroe St , Clinton St & Tilden St  \n",
       "4     Broadway & Barry Ave , Sedgwick St & North Ave  "
      ]
     },
     "execution_count": 62,
     "metadata": {},
     "output_type": "execute_result"
    }
   ],
   "source": [
    "df_trajetos.head()"
   ]
  },
  {
   "cell_type": "code",
   "execution_count": 63,
   "metadata": {},
   "outputs": [
    {
     "data": {
      "text/html": [
       "<div>\n",
       "<style scoped>\n",
       "    .dataframe tbody tr th:only-of-type {\n",
       "        vertical-align: middle;\n",
       "    }\n",
       "\n",
       "    .dataframe tbody tr th {\n",
       "        vertical-align: top;\n",
       "    }\n",
       "\n",
       "    .dataframe thead th {\n",
       "        text-align: right;\n",
       "    }\n",
       "</style>\n",
       "<table border=\"1\" class=\"dataframe\">\n",
       "  <thead>\n",
       "    <tr style=\"text-align: right;\">\n",
       "      <th></th>\n",
       "      <th>start_station</th>\n",
       "      <th>end_station</th>\n",
       "      <th>trajeto</th>\n",
       "    </tr>\n",
       "  </thead>\n",
       "  <tbody>\n",
       "    <tr>\n",
       "      <th>1551500</th>\n",
       "      <td>Damen Ave &amp; Division St</td>\n",
       "      <td>Halsted St &amp; Blackhawk St (*)</td>\n",
       "      <td>Damen Ave &amp; Division St , Halsted St &amp; Blackha...</td>\n",
       "    </tr>\n",
       "    <tr>\n",
       "      <th>1551501</th>\n",
       "      <td>Canal St &amp; Adams St</td>\n",
       "      <td>LaSalle St &amp; Adams St</td>\n",
       "      <td>Canal St &amp; Adams St , LaSalle St &amp; Adams St</td>\n",
       "    </tr>\n",
       "    <tr>\n",
       "      <th>1551502</th>\n",
       "      <td>Sheffield Ave &amp; Webster Ave</td>\n",
       "      <td>Sheffield Ave &amp; Webster Ave</td>\n",
       "      <td>Sheffield Ave &amp; Webster Ave , Sheffield Ave &amp; ...</td>\n",
       "    </tr>\n",
       "    <tr>\n",
       "      <th>1551503</th>\n",
       "      <td>Clark St &amp; Grace St</td>\n",
       "      <td>Clark St &amp; Montrose Ave</td>\n",
       "      <td>Clark St &amp; Grace St , Clark St &amp; Montrose Ave</td>\n",
       "    </tr>\n",
       "    <tr>\n",
       "      <th>1551504</th>\n",
       "      <td>Desplaines St &amp; Jackson Blvd</td>\n",
       "      <td>Desplaines St &amp; Kinzie St</td>\n",
       "      <td>Desplaines St &amp; Jackson Blvd , Desplaines St &amp;...</td>\n",
       "    </tr>\n",
       "  </tbody>\n",
       "</table>\n",
       "</div>"
      ],
      "text/plain": [
       "                        start_station                    end_station  \\\n",
       "1551500       Damen Ave & Division St  Halsted St & Blackhawk St (*)   \n",
       "1551501           Canal St & Adams St          LaSalle St & Adams St   \n",
       "1551502   Sheffield Ave & Webster Ave    Sheffield Ave & Webster Ave   \n",
       "1551503           Clark St & Grace St        Clark St & Montrose Ave   \n",
       "1551504  Desplaines St & Jackson Blvd      Desplaines St & Kinzie St   \n",
       "\n",
       "                                                   trajeto  \n",
       "1551500  Damen Ave & Division St , Halsted St & Blackha...  \n",
       "1551501        Canal St & Adams St , LaSalle St & Adams St  \n",
       "1551502  Sheffield Ave & Webster Ave , Sheffield Ave & ...  \n",
       "1551503      Clark St & Grace St , Clark St & Montrose Ave  \n",
       "1551504  Desplaines St & Jackson Blvd , Desplaines St &...  "
      ]
     },
     "execution_count": 63,
     "metadata": {},
     "output_type": "execute_result"
    }
   ],
   "source": [
    "df_trajetos.tail()"
   ]
  },
  {
   "cell_type": "code",
   "execution_count": 64,
   "metadata": {},
   "outputs": [],
   "source": [
    "# Criando um df e armazendo os valores\n",
    "cont_trajetos = pd.DataFrame()\n",
    "cont_trajetos['trajeto'] = df_trajetos['trajeto'].value_counts().index\n",
    "cont_trajetos['qtde'] = df_trajetos['trajeto'].value_counts().values"
   ]
  },
  {
   "cell_type": "code",
   "execution_count": 65,
   "metadata": {},
   "outputs": [
    {
     "data": {
      "text/html": [
       "<div>\n",
       "<style scoped>\n",
       "    .dataframe tbody tr th:only-of-type {\n",
       "        vertical-align: middle;\n",
       "    }\n",
       "\n",
       "    .dataframe tbody tr th {\n",
       "        vertical-align: top;\n",
       "    }\n",
       "\n",
       "    .dataframe thead th {\n",
       "        text-align: right;\n",
       "    }\n",
       "</style>\n",
       "<table border=\"1\" class=\"dataframe\">\n",
       "  <thead>\n",
       "    <tr style=\"text-align: right;\">\n",
       "      <th></th>\n",
       "      <th>trajeto</th>\n",
       "      <th>qtde</th>\n",
       "    </tr>\n",
       "  </thead>\n",
       "  <tbody>\n",
       "    <tr>\n",
       "      <th>0</th>\n",
       "      <td>Lake Shore Dr &amp; Monroe St , Streeter Dr &amp; Gran...</td>\n",
       "      <td>4647</td>\n",
       "    </tr>\n",
       "    <tr>\n",
       "      <th>1</th>\n",
       "      <td>Streeter Dr &amp; Grand Ave , Streeter Dr &amp; Grand Ave</td>\n",
       "      <td>3853</td>\n",
       "    </tr>\n",
       "    <tr>\n",
       "      <th>2</th>\n",
       "      <td>Streeter Dr &amp; Grand Ave , Theater on the Lake</td>\n",
       "      <td>2933</td>\n",
       "    </tr>\n",
       "    <tr>\n",
       "      <th>3</th>\n",
       "      <td>Streeter Dr &amp; Grand Ave , Lake Shore Dr &amp; Nort...</td>\n",
       "      <td>2900</td>\n",
       "    </tr>\n",
       "    <tr>\n",
       "      <th>4</th>\n",
       "      <td>Streeter Dr &amp; Grand Ave , Lake Shore Dr &amp; Monr...</td>\n",
       "      <td>2825</td>\n",
       "    </tr>\n",
       "  </tbody>\n",
       "</table>\n",
       "</div>"
      ],
      "text/plain": [
       "                                             trajeto  qtde\n",
       "0  Lake Shore Dr & Monroe St , Streeter Dr & Gran...  4647\n",
       "1  Streeter Dr & Grand Ave , Streeter Dr & Grand Ave  3853\n",
       "2      Streeter Dr & Grand Ave , Theater on the Lake  2933\n",
       "3  Streeter Dr & Grand Ave , Lake Shore Dr & Nort...  2900\n",
       "4  Streeter Dr & Grand Ave , Lake Shore Dr & Monr...  2825"
      ]
     },
     "execution_count": 65,
     "metadata": {},
     "output_type": "execute_result"
    }
   ],
   "source": [
    "cont_trajetos.head()"
   ]
  },
  {
   "cell_type": "code",
   "execution_count": 66,
   "metadata": {},
   "outputs": [
    {
     "data": {
      "text/html": [
       "<div>\n",
       "<style scoped>\n",
       "    .dataframe tbody tr th:only-of-type {\n",
       "        vertical-align: middle;\n",
       "    }\n",
       "\n",
       "    .dataframe tbody tr th {\n",
       "        vertical-align: top;\n",
       "    }\n",
       "\n",
       "    .dataframe thead th {\n",
       "        text-align: right;\n",
       "    }\n",
       "</style>\n",
       "<table border=\"1\" class=\"dataframe\">\n",
       "  <thead>\n",
       "    <tr style=\"text-align: right;\">\n",
       "      <th></th>\n",
       "      <th>trajeto</th>\n",
       "      <th>qtde</th>\n",
       "    </tr>\n",
       "  </thead>\n",
       "  <tbody>\n",
       "    <tr>\n",
       "      <th>75408</th>\n",
       "      <td>Dayton St &amp; North Ave , Kedzie Ave &amp; Leland Ave</td>\n",
       "      <td>1</td>\n",
       "    </tr>\n",
       "    <tr>\n",
       "      <th>75409</th>\n",
       "      <td>Morgan St &amp; Polk St , Sedgwick St &amp; Webster Ave</td>\n",
       "      <td>1</td>\n",
       "    </tr>\n",
       "    <tr>\n",
       "      <th>75410</th>\n",
       "      <td>Stony Island Ave &amp; 71st St , Stony Island Ave ...</td>\n",
       "      <td>1</td>\n",
       "    </tr>\n",
       "    <tr>\n",
       "      <th>75411</th>\n",
       "      <td>Morgan St &amp; 18th St , Calumet Ave &amp; 35th St</td>\n",
       "      <td>1</td>\n",
       "    </tr>\n",
       "    <tr>\n",
       "      <th>75412</th>\n",
       "      <td>Sedgwick St &amp; North Ave , Ashland Ave &amp; Harris...</td>\n",
       "      <td>1</td>\n",
       "    </tr>\n",
       "  </tbody>\n",
       "</table>\n",
       "</div>"
      ],
      "text/plain": [
       "                                                 trajeto  qtde\n",
       "75408    Dayton St & North Ave , Kedzie Ave & Leland Ave     1\n",
       "75409    Morgan St & Polk St , Sedgwick St & Webster Ave     1\n",
       "75410  Stony Island Ave & 71st St , Stony Island Ave ...     1\n",
       "75411        Morgan St & 18th St , Calumet Ave & 35th St     1\n",
       "75412  Sedgwick St & North Ave , Ashland Ave & Harris...     1"
      ]
     },
     "execution_count": 66,
     "metadata": {},
     "output_type": "execute_result"
    }
   ],
   "source": [
    "cont_trajetos.tail()"
   ]
  },
  {
   "cell_type": "code",
   "execution_count": 67,
   "metadata": {},
   "outputs": [
    {
     "name": "stdout",
     "output_type": "stream",
     "text": [
      "Os trajetos com maior numero de ocorrencias são\n"
     ]
    },
    {
     "data": {
      "text/html": [
       "<div>\n",
       "<style scoped>\n",
       "    .dataframe tbody tr th:only-of-type {\n",
       "        vertical-align: middle;\n",
       "    }\n",
       "\n",
       "    .dataframe tbody tr th {\n",
       "        vertical-align: top;\n",
       "    }\n",
       "\n",
       "    .dataframe thead th {\n",
       "        text-align: right;\n",
       "    }\n",
       "</style>\n",
       "<table border=\"1\" class=\"dataframe\">\n",
       "  <thead>\n",
       "    <tr style=\"text-align: right;\">\n",
       "      <th></th>\n",
       "      <th>trajeto</th>\n",
       "      <th>qtde</th>\n",
       "    </tr>\n",
       "  </thead>\n",
       "  <tbody>\n",
       "    <tr>\n",
       "      <th>0</th>\n",
       "      <td>Lake Shore Dr &amp; Monroe St , Streeter Dr &amp; Gran...</td>\n",
       "      <td>4647</td>\n",
       "    </tr>\n",
       "  </tbody>\n",
       "</table>\n",
       "</div>"
      ],
      "text/plain": [
       "                                             trajeto  qtde\n",
       "0  Lake Shore Dr & Monroe St , Streeter Dr & Gran...  4647"
      ]
     },
     "execution_count": 67,
     "metadata": {},
     "output_type": "execute_result"
    }
   ],
   "source": [
    "print('Os trajetos com maior numero de ocorrencias são')\n",
    "cont_trajetos[cont_trajetos['qtde'] == cont_trajetos['qtde'].max()]"
   ]
  },
  {
   "cell_type": "code",
   "execution_count": 68,
   "metadata": {},
   "outputs": [
    {
     "name": "stdout",
     "output_type": "stream",
     "text": [
      "A quantidade de trajetos que possuem o menor valor (1) é de 16612 trajeto(s)\n"
     ]
    }
   ],
   "source": [
    "print('A quantidade de trajetos que possuem o menor valor ({}) é de {} trajeto(s)'\n",
    "      .format(cont_trajetos['qtde'].min(),cont_trajetos[cont_trajetos['qtde'] == cont_trajetos['qtde'].min()]['trajeto'].count()))"
   ]
  },
  {
   "cell_type": "code",
   "execution_count": 69,
   "metadata": {},
   "outputs": [],
   "source": [
    "# Calculo de porcentagens para conclusão\n",
    "# Usuarios\n",
    "total = len(df_bike)\n",
    "perc_usuarios = (usuarios * 100) / total\n",
    "perc_genero = (genero * 100) / total"
   ]
  },
  {
   "cell_type": "markdown",
   "metadata": {},
   "source": [
    "### Conclusão"
   ]
  },
  {
   "cell_type": "code",
   "execution_count": 70,
   "metadata": {},
   "outputs": [
    {
     "name": "stdout",
     "output_type": "stream",
     "text": [
      "Do nosso total de 1551505 registros de viagens, temos 79.6% de assinantes, 20.4% de usuarios\n"
     ]
    }
   ],
   "source": [
    "print('Do nosso total de {} registros de viagens, temos {:.1f}% de assinantes, {:.1f}% de usuarios'\n",
    "      .format(total, perc_usuarios['Subscriber'],perc_usuarios['Customer']))"
   ]
  },
  {
   "cell_type": "code",
   "execution_count": 71,
   "metadata": {},
   "outputs": [
    {
     "name": "stdout",
     "output_type": "stream",
     "text": [
      "A grande maioria dos usuarios são homens, representando 60.3% e 19.3% são de mulheres\n"
     ]
    }
   ],
   "source": [
    "print('A grande maioria dos usuarios são homens, representando {:.1f}% e {:.1f}% são de mulheres'\n",
    "     .format(perc_genero['Homens'],perc_genero['Mulheres']))"
   ]
  },
  {
   "cell_type": "code",
   "execution_count": 72,
   "metadata": {},
   "outputs": [
    {
     "name": "stdout",
     "output_type": "stream",
     "text": [
      "O dia de maior movimento é Tuesday com 237586 registros\n",
      "O dia de menor movimento é Sunday com 200268 registros\n"
     ]
    }
   ],
   "source": [
    "print('O dia de maior movimento é {} com {} registros\\nO dia de menor movimento é {} com {} registros'\n",
    "     .format(cont_day.idxmax(),cont_day.max(),cont_day.idxmin(),cont_day.min()))"
   ]
  },
  {
   "cell_type": "code",
   "execution_count": 73,
   "metadata": {},
   "outputs": [
    {
     "name": "stdout",
     "output_type": "stream",
     "text": [
      "O dia de maior movimento é Junho com 505164 registros\n",
      "O dia de menor movimento é Janeiro com 111942 registros\n"
     ]
    }
   ],
   "source": [
    "print('O dia de maior movimento é {} com {} registros\\nO dia de menor movimento é {} com {} registros'\n",
    "     .format(cont_mes.idxmax(),cont_mes.max(),cont_mes.idxmin(),cont_mes.min()))"
   ]
  },
  {
   "cell_type": "code",
   "execution_count": 74,
   "metadata": {},
   "outputs": [
    {
     "name": "stdout",
     "output_type": "stream",
     "text": [
      "O trajeto mais utilizado é:\n"
     ]
    },
    {
     "data": {
      "text/plain": [
       "0    Lake Shore Dr & Monroe St , Streeter Dr & Gran...\n",
       "Name: trajeto, dtype: object"
      ]
     },
     "execution_count": 74,
     "metadata": {},
     "output_type": "execute_result"
    }
   ],
   "source": [
    "print('O trajeto mais utilizado é:')\n",
    "cont_trajetos[cont_trajetos['qtde'] == cont_trajetos['qtde'].max()]['trajeto']"
   ]
  },
  {
   "cell_type": "code",
   "execution_count": 75,
   "metadata": {},
   "outputs": [
    {
     "name": "stdout",
     "output_type": "stream",
     "text": [
      "E temos 16612 trajetos com a menor quantidade registrada que é de 1 registro(s)\n"
     ]
    }
   ],
   "source": [
    "print('E temos {} trajetos com a menor quantidade registrada que é de {} registro(s)'\n",
    "      .format(cont_trajetos[cont_trajetos['qtde'] == cont_trajetos['qtde'].min()]['trajeto'].count(),cont_trajetos['qtde'].min()))"
   ]
  },
  {
   "cell_type": "markdown",
   "metadata": {},
   "source": [
    "### Limitadores"
   ]
  },
  {
   "cell_type": "markdown",
   "metadata": {},
   "source": [
    "Durante nossa analise dos dados nos deparamos com colunas que precisam ter seus tipos ajustados para dar-mos sequencia nos trabalhos, sendo elas __start_time__ e __end_time__ , alêm de colunas com dados ausentes __gender__, __birth_year__.\n",
    "\n",
    "__Tipagem:__\n",
    "\n",
    "    start_time e end_time: tiveram seus tipos alterados para datetime, o que nos permitiu identicair dia da semana e mês\n",
    "    \n",
    "__Dados ausentes:__\n",
    "\n",
    "    gender e birth_year: as linhas com dados ausentes não foram alteradas, alguns registros de assinantes possuem ambas em branco, e apenas os usuarios possuem birth_year em branco\n",
    "    \n",
    "_Devido a ausência de uma coluna que identifica-se os usuarios, não foi possui verificar os maiores e menores utilizadores, bem como dia de uso, etc_"
   ]
  },
  {
   "cell_type": "markdown",
   "metadata": {},
   "source": [
    "Fabiano Lima - 04/12/2018"
   ]
  }
 ],
 "metadata": {
  "kernelspec": {
   "display_name": "Python 3",
   "language": "python",
   "name": "python3"
  },
  "language_info": {
   "codemirror_mode": {
    "name": "ipython",
    "version": 3
   },
   "file_extension": ".py",
   "mimetype": "text/x-python",
   "name": "python",
   "nbconvert_exporter": "python",
   "pygments_lexer": "ipython3",
   "version": "3.7.0"
  }
 },
 "nbformat": 4,
 "nbformat_minor": 2
}
