{
 "cells": [
  {
   "cell_type": "markdown",
   "metadata": {},
   "source": [
    "### Projeto - Analise da Cota Parlamentar\n",
    "\n",
    "Utilizando dados disponibilizados pela [Câmara dos Deputados](http://www2.camara.leg.br/transparencia/cota-para-exercicio-da-atividade-parlamentar/dados-abertos-cota-parlamentar)"
   ]
  },
  {
   "cell_type": "markdown",
   "metadata": {},
   "source": [
    "Iremos analisar os dados de 2009 à 2017.\n",
    "\n",
    "A atividade será divida em duas partes:\n",
    "\n",
    "__1ª parte:__\n",
    "\n",
    "Fazendo uso de gráficos, tabelas e/ou métricas estatísticas, responder as seguintes questões:\n",
    "- a. Como se comportam os gastos com cotas parlamentares ao longo do tempo? Existe alguma tendência de aumento ou redução desse custo? Existe sazonalidade?\n",
    "- b. Quais foram os parlamentares que mais consumiram recursos durante o mandato 2011-2014? E quais foram os que menos consumiram recursos?\n",
    "- c. Quais são as categorias de despesas mais onerosas dentre os recursos destinados às cotas parlamentares?\n",
    "- d. Qual é o custo per capita de um parlamentar em cada unidade da federação? (considerando somente as despesas de cota parlamentar)\n",
    "\n",
    "__2ª parte:__\n",
    "\n",
    "Essa parte é livre, ficando a cargo do candidato realizar análises e responder suas próprias questões.\n",
    "Neste caso, responderei as seguintes questões:\n",
    "- a. Qual partido mais consumiu recursos ?\n",
    "- b. Qual candidato gastou mais em combustível no período x ?\n"
   ]
  },
  {
   "cell_type": "markdown",
   "metadata": {},
   "source": [
    "### Etapas do projeto:\n",
    "\n",
    "- Leitura dos arquivos\n",
    "- Analise superficial dos dados\n",
    "- Limpeza do DataFrame\n",
    "- Analise e resposta das questões levantadas\n",
    "- Conclusão\n",
    "- Limitações"
   ]
  },
  {
   "cell_type": "markdown",
   "metadata": {},
   "source": [
    "### Etapa 1 - Leitura dos arquivos"
   ]
  },
  {
   "cell_type": "code",
   "execution_count": 1,
   "metadata": {},
   "outputs": [],
   "source": [
    "# Importando as bibliotecas que serão utilizadas\n",
    "\n",
    "import pandas as pd\n",
    "import numpy as np\n",
    "import matplotlib.pyplot as plt\n",
    "import seaborn as sns\n",
    "\n",
    "%matplotlib inline"
   ]
  },
  {
   "cell_type": "markdown",
   "metadata": {},
   "source": [
    "Os dados estão separados em arquivos por _ANO_ iremos utilizar um laço de repetição for para carregar todos os arquivos e adiciona-los a um unico dataframe, iremos também filtrar as colunas carregadas para ignorar as que não serão uteis em nossas analises. A descrição das colunas pode ser vista [aqui](http://www2.camara.leg.br/transparencia/cota-para-exercicio-da-atividade-parlamentar/explicacoes-sobre-o-formato-dos-arquivos-xml)"
   ]
  },
  {
   "cell_type": "code",
   "execution_count": 2,
   "metadata": {},
   "outputs": [],
   "source": [
    "# Colunas que serão utilizadas\n",
    "colunas = [0,4,5,8,9,10,11,15,18,19,20,22,23]"
   ]
  },
  {
   "cell_type": "code",
   "execution_count": 3,
   "metadata": {},
   "outputs": [],
   "source": [
    "# Carregando um arquivo para teste\n",
    "\n",
    "df_temp = pd.read_csv('Ano-2009.csv', sep=';', usecols=colunas)\n",
    "df_temp['ano'] = [2009 for _ in range(len(df_temp))]\n",
    "df_temp2 = pd.read_csv('Ano-2010.csv', sep=';', usecols=colunas)\n",
    "df_temp2['ano'] = [2010 for _ in range(len(df_temp2))]\n",
    "\n",
    "dfs = [df_temp,df_temp2]\n",
    "df_temps = pd.concat(dfs, ignore_index=True)"
   ]
  },
  {
   "cell_type": "code",
   "execution_count": 4,
   "metadata": {},
   "outputs": [
    {
     "data": {
      "text/html": [
       "<div>\n",
       "<style scoped>\n",
       "    .dataframe tbody tr th:only-of-type {\n",
       "        vertical-align: middle;\n",
       "    }\n",
       "\n",
       "    .dataframe tbody tr th {\n",
       "        vertical-align: top;\n",
       "    }\n",
       "\n",
       "    .dataframe thead th {\n",
       "        text-align: right;\n",
       "    }\n",
       "</style>\n",
       "<table border=\"1\" class=\"dataframe\">\n",
       "  <thead>\n",
       "    <tr style=\"text-align: right;\">\n",
       "      <th></th>\n",
       "      <th>txNomeParlamentar</th>\n",
       "      <th>sgUF</th>\n",
       "      <th>sgPartido</th>\n",
       "      <th>txtDescricao</th>\n",
       "      <th>numEspecificacaoSubCota</th>\n",
       "      <th>txtDescricaoEspecificacao</th>\n",
       "      <th>txtFornecedor</th>\n",
       "      <th>datEmissao</th>\n",
       "      <th>vlrLiquido</th>\n",
       "      <th>numMes</th>\n",
       "      <th>numAno</th>\n",
       "      <th>txtPassageiro</th>\n",
       "      <th>txtTrecho</th>\n",
       "      <th>ano</th>\n",
       "    </tr>\n",
       "  </thead>\n",
       "  <tbody>\n",
       "    <tr>\n",
       "      <th>0</th>\n",
       "      <td>ABELARDO CAMARINHA</td>\n",
       "      <td>SP</td>\n",
       "      <td>PSB</td>\n",
       "      <td>MANUTENÇÃO DE ESCRITÓRIO DE APOIO À ATIVIDADE ...</td>\n",
       "      <td>0</td>\n",
       "      <td>NaN</td>\n",
       "      <td>TIM CELULAR S/A</td>\n",
       "      <td>2009-05-19 00:00:00</td>\n",
       "      <td>411,51</td>\n",
       "      <td>5</td>\n",
       "      <td>2009</td>\n",
       "      <td>NaN</td>\n",
       "      <td>NaN</td>\n",
       "      <td>2009</td>\n",
       "    </tr>\n",
       "    <tr>\n",
       "      <th>1</th>\n",
       "      <td>ABELARDO CAMARINHA</td>\n",
       "      <td>SP</td>\n",
       "      <td>PSB</td>\n",
       "      <td>MANUTENÇÃO DE ESCRITÓRIO DE APOIO À ATIVIDADE ...</td>\n",
       "      <td>0</td>\n",
       "      <td>NaN</td>\n",
       "      <td>TIM CELULAR S/A</td>\n",
       "      <td>2009-05-19 00:00:00</td>\n",
       "      <td>429,09</td>\n",
       "      <td>5</td>\n",
       "      <td>2009</td>\n",
       "      <td>NaN</td>\n",
       "      <td>NaN</td>\n",
       "      <td>2009</td>\n",
       "    </tr>\n",
       "    <tr>\n",
       "      <th>2</th>\n",
       "      <td>ABELARDO CAMARINHA</td>\n",
       "      <td>SP</td>\n",
       "      <td>PSB</td>\n",
       "      <td>MANUTENÇÃO DE ESCRITÓRIO DE APOIO À ATIVIDADE ...</td>\n",
       "      <td>0</td>\n",
       "      <td>NaN</td>\n",
       "      <td>TIM CELULAR S/A</td>\n",
       "      <td>2009-05-19 00:00:00</td>\n",
       "      <td>109,79</td>\n",
       "      <td>5</td>\n",
       "      <td>2009</td>\n",
       "      <td>NaN</td>\n",
       "      <td>NaN</td>\n",
       "      <td>2009</td>\n",
       "    </tr>\n",
       "    <tr>\n",
       "      <th>3</th>\n",
       "      <td>ABELARDO CAMARINHA</td>\n",
       "      <td>SP</td>\n",
       "      <td>PSB</td>\n",
       "      <td>MANUTENÇÃO DE ESCRITÓRIO DE APOIO À ATIVIDADE ...</td>\n",
       "      <td>0</td>\n",
       "      <td>NaN</td>\n",
       "      <td>TIM CELULAR S/A</td>\n",
       "      <td>2009-05-19 00:00:00</td>\n",
       "      <td>68,14</td>\n",
       "      <td>5</td>\n",
       "      <td>2009</td>\n",
       "      <td>NaN</td>\n",
       "      <td>NaN</td>\n",
       "      <td>2009</td>\n",
       "    </tr>\n",
       "    <tr>\n",
       "      <th>4</th>\n",
       "      <td>ABELARDO CAMARINHA</td>\n",
       "      <td>SP</td>\n",
       "      <td>PSB</td>\n",
       "      <td>COMBUSTÍVEIS E LUBRIFICANTES.</td>\n",
       "      <td>1</td>\n",
       "      <td>Veículos Automotores</td>\n",
       "      <td>AUTO POSTO ALVORADA</td>\n",
       "      <td>2009-09-25 00:00:00</td>\n",
       "      <td>4395,36</td>\n",
       "      <td>9</td>\n",
       "      <td>2009</td>\n",
       "      <td>NaN</td>\n",
       "      <td>NaN</td>\n",
       "      <td>2009</td>\n",
       "    </tr>\n",
       "  </tbody>\n",
       "</table>\n",
       "</div>"
      ],
      "text/plain": [
       "    txNomeParlamentar sgUF sgPartido  \\\n",
       "0  ABELARDO CAMARINHA   SP       PSB   \n",
       "1  ABELARDO CAMARINHA   SP       PSB   \n",
       "2  ABELARDO CAMARINHA   SP       PSB   \n",
       "3  ABELARDO CAMARINHA   SP       PSB   \n",
       "4  ABELARDO CAMARINHA   SP       PSB   \n",
       "\n",
       "                                        txtDescricao  numEspecificacaoSubCota  \\\n",
       "0  MANUTENÇÃO DE ESCRITÓRIO DE APOIO À ATIVIDADE ...                        0   \n",
       "1  MANUTENÇÃO DE ESCRITÓRIO DE APOIO À ATIVIDADE ...                        0   \n",
       "2  MANUTENÇÃO DE ESCRITÓRIO DE APOIO À ATIVIDADE ...                        0   \n",
       "3  MANUTENÇÃO DE ESCRITÓRIO DE APOIO À ATIVIDADE ...                        0   \n",
       "4                      COMBUSTÍVEIS E LUBRIFICANTES.                        1   \n",
       "\n",
       "  txtDescricaoEspecificacao        txtFornecedor           datEmissao  \\\n",
       "0                       NaN      TIM CELULAR S/A  2009-05-19 00:00:00   \n",
       "1                       NaN      TIM CELULAR S/A  2009-05-19 00:00:00   \n",
       "2                       NaN      TIM CELULAR S/A  2009-05-19 00:00:00   \n",
       "3                       NaN      TIM CELULAR S/A  2009-05-19 00:00:00   \n",
       "4      Veículos Automotores  AUTO POSTO ALVORADA  2009-09-25 00:00:00   \n",
       "\n",
       "  vlrLiquido  numMes  numAno txtPassageiro txtTrecho   ano  \n",
       "0     411,51       5    2009           NaN       NaN  2009  \n",
       "1     429,09       5    2009           NaN       NaN  2009  \n",
       "2     109,79       5    2009           NaN       NaN  2009  \n",
       "3      68,14       5    2009           NaN       NaN  2009  \n",
       "4    4395,36       9    2009           NaN       NaN  2009  "
      ]
     },
     "execution_count": 4,
     "metadata": {},
     "output_type": "execute_result"
    }
   ],
   "source": [
    "df_temps.head()"
   ]
  },
  {
   "cell_type": "code",
   "execution_count": 5,
   "metadata": {},
   "outputs": [
    {
     "name": "stderr",
     "output_type": "stream",
     "text": [
      "C:\\Anaconda3\\lib\\site-packages\\IPython\\core\\interactiveshell.py:2785: DtypeWarning: Columns (10) have mixed types. Specify dtype option on import or set low_memory=False.\n",
      "  interactivity=interactivity, compiler=compiler, result=result)\n"
     ]
    }
   ],
   "source": [
    "# Utilizando for para carregar os dados dos arquivos\n",
    "\n",
    "ano = 2009\n",
    "df = []\n",
    "for conta in range(9):\n",
    "    df_temp = pd.read_csv('Ano-{}.csv'.format(ano), sep=';', usecols=colunas)\n",
    "    df.append(df_temp)\n",
    "    ano += 1"
   ]
  },
  {
   "cell_type": "code",
   "execution_count": 6,
   "metadata": {},
   "outputs": [],
   "source": [
    "df_cotas = pd.concat(df, ignore_index=False)"
   ]
  },
  {
   "cell_type": "code",
   "execution_count": 7,
   "metadata": {},
   "outputs": [
    {
     "data": {
      "text/html": [
       "<div>\n",
       "<style scoped>\n",
       "    .dataframe tbody tr th:only-of-type {\n",
       "        vertical-align: middle;\n",
       "    }\n",
       "\n",
       "    .dataframe tbody tr th {\n",
       "        vertical-align: top;\n",
       "    }\n",
       "\n",
       "    .dataframe thead th {\n",
       "        text-align: right;\n",
       "    }\n",
       "</style>\n",
       "<table border=\"1\" class=\"dataframe\">\n",
       "  <thead>\n",
       "    <tr style=\"text-align: right;\">\n",
       "      <th></th>\n",
       "      <th>txNomeParlamentar</th>\n",
       "      <th>sgUF</th>\n",
       "      <th>sgPartido</th>\n",
       "      <th>txtDescricao</th>\n",
       "      <th>numEspecificacaoSubCota</th>\n",
       "      <th>txtDescricaoEspecificacao</th>\n",
       "      <th>txtFornecedor</th>\n",
       "      <th>datEmissao</th>\n",
       "      <th>vlrLiquido</th>\n",
       "      <th>numMes</th>\n",
       "      <th>numAno</th>\n",
       "      <th>txtPassageiro</th>\n",
       "      <th>txtTrecho</th>\n",
       "    </tr>\n",
       "  </thead>\n",
       "  <tbody>\n",
       "    <tr>\n",
       "      <th>0</th>\n",
       "      <td>ABELARDO CAMARINHA</td>\n",
       "      <td>SP</td>\n",
       "      <td>PSB</td>\n",
       "      <td>MANUTENÇÃO DE ESCRITÓRIO DE APOIO À ATIVIDADE ...</td>\n",
       "      <td>0</td>\n",
       "      <td>NaN</td>\n",
       "      <td>TIM CELULAR S/A</td>\n",
       "      <td>2009-05-19 00:00:00</td>\n",
       "      <td>411,51</td>\n",
       "      <td>5</td>\n",
       "      <td>2009</td>\n",
       "      <td>NaN</td>\n",
       "      <td>NaN</td>\n",
       "    </tr>\n",
       "    <tr>\n",
       "      <th>1</th>\n",
       "      <td>ABELARDO CAMARINHA</td>\n",
       "      <td>SP</td>\n",
       "      <td>PSB</td>\n",
       "      <td>MANUTENÇÃO DE ESCRITÓRIO DE APOIO À ATIVIDADE ...</td>\n",
       "      <td>0</td>\n",
       "      <td>NaN</td>\n",
       "      <td>TIM CELULAR S/A</td>\n",
       "      <td>2009-05-19 00:00:00</td>\n",
       "      <td>429,09</td>\n",
       "      <td>5</td>\n",
       "      <td>2009</td>\n",
       "      <td>NaN</td>\n",
       "      <td>NaN</td>\n",
       "    </tr>\n",
       "    <tr>\n",
       "      <th>2</th>\n",
       "      <td>ABELARDO CAMARINHA</td>\n",
       "      <td>SP</td>\n",
       "      <td>PSB</td>\n",
       "      <td>MANUTENÇÃO DE ESCRITÓRIO DE APOIO À ATIVIDADE ...</td>\n",
       "      <td>0</td>\n",
       "      <td>NaN</td>\n",
       "      <td>TIM CELULAR S/A</td>\n",
       "      <td>2009-05-19 00:00:00</td>\n",
       "      <td>109,79</td>\n",
       "      <td>5</td>\n",
       "      <td>2009</td>\n",
       "      <td>NaN</td>\n",
       "      <td>NaN</td>\n",
       "    </tr>\n",
       "    <tr>\n",
       "      <th>3</th>\n",
       "      <td>ABELARDO CAMARINHA</td>\n",
       "      <td>SP</td>\n",
       "      <td>PSB</td>\n",
       "      <td>MANUTENÇÃO DE ESCRITÓRIO DE APOIO À ATIVIDADE ...</td>\n",
       "      <td>0</td>\n",
       "      <td>NaN</td>\n",
       "      <td>TIM CELULAR S/A</td>\n",
       "      <td>2009-05-19 00:00:00</td>\n",
       "      <td>68,14</td>\n",
       "      <td>5</td>\n",
       "      <td>2009</td>\n",
       "      <td>NaN</td>\n",
       "      <td>NaN</td>\n",
       "    </tr>\n",
       "    <tr>\n",
       "      <th>4</th>\n",
       "      <td>ABELARDO CAMARINHA</td>\n",
       "      <td>SP</td>\n",
       "      <td>PSB</td>\n",
       "      <td>COMBUSTÍVEIS E LUBRIFICANTES.</td>\n",
       "      <td>1</td>\n",
       "      <td>Veículos Automotores</td>\n",
       "      <td>AUTO POSTO ALVORADA</td>\n",
       "      <td>2009-09-25 00:00:00</td>\n",
       "      <td>4395,36</td>\n",
       "      <td>9</td>\n",
       "      <td>2009</td>\n",
       "      <td>NaN</td>\n",
       "      <td>NaN</td>\n",
       "    </tr>\n",
       "  </tbody>\n",
       "</table>\n",
       "</div>"
      ],
      "text/plain": [
       "    txNomeParlamentar sgUF sgPartido  \\\n",
       "0  ABELARDO CAMARINHA   SP       PSB   \n",
       "1  ABELARDO CAMARINHA   SP       PSB   \n",
       "2  ABELARDO CAMARINHA   SP       PSB   \n",
       "3  ABELARDO CAMARINHA   SP       PSB   \n",
       "4  ABELARDO CAMARINHA   SP       PSB   \n",
       "\n",
       "                                        txtDescricao  numEspecificacaoSubCota  \\\n",
       "0  MANUTENÇÃO DE ESCRITÓRIO DE APOIO À ATIVIDADE ...                        0   \n",
       "1  MANUTENÇÃO DE ESCRITÓRIO DE APOIO À ATIVIDADE ...                        0   \n",
       "2  MANUTENÇÃO DE ESCRITÓRIO DE APOIO À ATIVIDADE ...                        0   \n",
       "3  MANUTENÇÃO DE ESCRITÓRIO DE APOIO À ATIVIDADE ...                        0   \n",
       "4                      COMBUSTÍVEIS E LUBRIFICANTES.                        1   \n",
       "\n",
       "  txtDescricaoEspecificacao        txtFornecedor           datEmissao  \\\n",
       "0                       NaN      TIM CELULAR S/A  2009-05-19 00:00:00   \n",
       "1                       NaN      TIM CELULAR S/A  2009-05-19 00:00:00   \n",
       "2                       NaN      TIM CELULAR S/A  2009-05-19 00:00:00   \n",
       "3                       NaN      TIM CELULAR S/A  2009-05-19 00:00:00   \n",
       "4      Veículos Automotores  AUTO POSTO ALVORADA  2009-09-25 00:00:00   \n",
       "\n",
       "  vlrLiquido  numMes  numAno txtPassageiro txtTrecho  \n",
       "0     411,51       5    2009           NaN       NaN  \n",
       "1     429,09       5    2009           NaN       NaN  \n",
       "2     109,79       5    2009           NaN       NaN  \n",
       "3      68,14       5    2009           NaN       NaN  \n",
       "4    4395,36       9    2009           NaN       NaN  "
      ]
     },
     "execution_count": 7,
     "metadata": {},
     "output_type": "execute_result"
    }
   ],
   "source": [
    "df_cotas.head()"
   ]
  },
  {
   "cell_type": "code",
   "execution_count": 8,
   "metadata": {},
   "outputs": [
    {
     "data": {
      "text/plain": [
       "(3105148, 13)"
      ]
     },
     "execution_count": 8,
     "metadata": {},
     "output_type": "execute_result"
    }
   ],
   "source": [
    "df_cotas.shape"
   ]
  },
  {
   "cell_type": "code",
   "execution_count": 9,
   "metadata": {},
   "outputs": [
    {
     "name": "stdout",
     "output_type": "stream",
     "text": [
      "<class 'pandas.core.frame.DataFrame'>\n",
      "Int64Index: 3105148 entries, 0 to 341512\n",
      "Data columns (total 13 columns):\n",
      "txNomeParlamentar            object\n",
      "sgUF                         object\n",
      "sgPartido                    object\n",
      "txtDescricao                 object\n",
      "numEspecificacaoSubCota      int64\n",
      "txtDescricaoEspecificacao    object\n",
      "txtFornecedor                object\n",
      "datEmissao                   object\n",
      "vlrLiquido                   object\n",
      "numMes                       int64\n",
      "numAno                       int64\n",
      "txtPassageiro                object\n",
      "txtTrecho                    object\n",
      "dtypes: int64(3), object(10)\n",
      "memory usage: 331.7+ MB\n"
     ]
    }
   ],
   "source": [
    "df_cotas.info()"
   ]
  },
  {
   "cell_type": "markdown",
   "metadata": {},
   "source": [
    "Ao analisar a tipagem das colunas, podemos observar que _datEmissao_ não esta no formato datetime e portanto teremos que converter e também a coluna _vlrLiquido_ não esta no formato float."
   ]
  },
  {
   "cell_type": "markdown",
   "metadata": {},
   "source": [
    "#### Conversão da coluna datEmissao\n",
    "Como temos a coluna que indica o MES e ANO, iremos converter a coluna datEmissao para apresentar o DIA"
   ]
  },
  {
   "cell_type": "code",
   "execution_count": 10,
   "metadata": {},
   "outputs": [
    {
     "data": {
      "text/plain": [
       "0    19\n",
       "1    19\n",
       "2    19\n",
       "3    19\n",
       "4    25\n",
       "Name: datEmissao, dtype: object"
      ]
     },
     "execution_count": 10,
     "metadata": {},
     "output_type": "execute_result"
    }
   ],
   "source": [
    "dia = df_cotas['datEmissao'].str[8:10] #pegando valor da posição 8 até 10, sendo o ultimo exclusivo\n",
    "dia.head()"
   ]
  },
  {
   "cell_type": "code",
   "execution_count": 11,
   "metadata": {},
   "outputs": [],
   "source": [
    "df_cotas['datEmissao'] = dia"
   ]
  },
  {
   "cell_type": "code",
   "execution_count": 12,
   "metadata": {},
   "outputs": [],
   "source": [
    "df_cotas.rename(columns={'datEmissao':'numDia'}, inplace=True)"
   ]
  },
  {
   "cell_type": "code",
   "execution_count": 13,
   "metadata": {},
   "outputs": [
    {
     "data": {
      "text/plain": [
       "Index(['txNomeParlamentar', 'sgUF', 'sgPartido', 'txtDescricao',\n",
       "       'numEspecificacaoSubCota', 'txtDescricaoEspecificacao', 'txtFornecedor',\n",
       "       'numDia', 'vlrLiquido', 'numMes', 'numAno', 'txtPassageiro',\n",
       "       'txtTrecho'],\n",
       "      dtype='object')"
      ]
     },
     "execution_count": 13,
     "metadata": {},
     "output_type": "execute_result"
    }
   ],
   "source": [
    "df_cotas.columns"
   ]
  },
  {
   "cell_type": "markdown",
   "metadata": {},
   "source": [
    "#### Conversão da coluna vlrLiquido\n",
    "Iremos converter a coluna para float"
   ]
  },
  {
   "cell_type": "code",
   "execution_count": 14,
   "metadata": {},
   "outputs": [
    {
     "data": {
      "text/plain": [
       "0     411.51\n",
       "1     429.09\n",
       "2     109.79\n",
       "3      68.14\n",
       "4    4395.36\n",
       "Name: vlrLiquido, dtype: float64"
      ]
     },
     "execution_count": 14,
     "metadata": {},
     "output_type": "execute_result"
    }
   ],
   "source": [
    "valor = df_cotas['vlrLiquido'] #carregando os dados da coluna em uma variavel para conversão\n",
    "valor = valor.str.replace(\",\",\".\").astype(float) #trocando a , por . e convertendo para float\n",
    "valor.head() #conferindo a conversão"
   ]
  },
  {
   "cell_type": "code",
   "execution_count": 15,
   "metadata": {},
   "outputs": [],
   "source": [
    "df_cotas['vlrLiquido'] = valor #atualizando os valores com a variavel tratada"
   ]
  },
  {
   "cell_type": "code",
   "execution_count": 16,
   "metadata": {},
   "outputs": [
    {
     "name": "stdout",
     "output_type": "stream",
     "text": [
      "<class 'pandas.core.frame.DataFrame'>\n",
      "Int64Index: 3105148 entries, 0 to 341512\n",
      "Data columns (total 13 columns):\n",
      "txNomeParlamentar            object\n",
      "sgUF                         object\n",
      "sgPartido                    object\n",
      "txtDescricao                 object\n",
      "numEspecificacaoSubCota      int64\n",
      "txtDescricaoEspecificacao    object\n",
      "txtFornecedor                object\n",
      "numDia                       object\n",
      "vlrLiquido                   float64\n",
      "numMes                       int64\n",
      "numAno                       int64\n",
      "txtPassageiro                object\n",
      "txtTrecho                    object\n",
      "dtypes: float64(1), int64(3), object(9)\n",
      "memory usage: 331.7+ MB\n"
     ]
    }
   ],
   "source": [
    "df_cotas.info()"
   ]
  },
  {
   "cell_type": "markdown",
   "metadata": {},
   "source": [
    "#### Verificação de dados NULO"
   ]
  },
  {
   "cell_type": "code",
   "execution_count": 17,
   "metadata": {},
   "outputs": [
    {
     "data": {
      "text/plain": [
       "(3105148, 13)"
      ]
     },
     "execution_count": 17,
     "metadata": {},
     "output_type": "execute_result"
    }
   ],
   "source": [
    "df_cotas.shape"
   ]
  },
  {
   "cell_type": "code",
   "execution_count": 18,
   "metadata": {
    "scrolled": true
   },
   "outputs": [
    {
     "data": {
      "text/plain": [
       "txNomeParlamentar                  0\n",
       "sgUF                            3786\n",
       "sgPartido                       3786\n",
       "txtDescricao                       0\n",
       "numEspecificacaoSubCota            0\n",
       "txtDescricaoEspecificacao    2453948\n",
       "txtFornecedor                      0\n",
       "numDia                         44454\n",
       "vlrLiquido                         0\n",
       "numMes                             0\n",
       "numAno                             0\n",
       "txtPassageiro                2286481\n",
       "txtTrecho                    2273045\n",
       "dtype: int64"
      ]
     },
     "execution_count": 18,
     "metadata": {},
     "output_type": "execute_result"
    }
   ],
   "source": [
    "df_cotas.isnull().sum()"
   ]
  },
  {
   "cell_type": "markdown",
   "metadata": {},
   "source": [
    "Podemos verificar a existencia de dados nulos nas colunas:\n",
    "- sgUF e sgPartido, possuem mesmo numero de dados nulos, o que indica estarem associados\n",
    "- txtDescricaoEspecificacao\n",
    "- numDia\n",
    "- txtPassageiro\n",
    "- txtTrecho\n",
    "\n",
    "Iremos analisar cada uma delas para verificar qual ação mais indicada"
   ]
  },
  {
   "cell_type": "code",
   "execution_count": 19,
   "metadata": {},
   "outputs": [
    {
     "data": {
      "text/html": [
       "<div>\n",
       "<style scoped>\n",
       "    .dataframe tbody tr th:only-of-type {\n",
       "        vertical-align: middle;\n",
       "    }\n",
       "\n",
       "    .dataframe tbody tr th {\n",
       "        vertical-align: top;\n",
       "    }\n",
       "\n",
       "    .dataframe thead th {\n",
       "        text-align: right;\n",
       "    }\n",
       "</style>\n",
       "<table border=\"1\" class=\"dataframe\">\n",
       "  <thead>\n",
       "    <tr style=\"text-align: right;\">\n",
       "      <th></th>\n",
       "      <th>txNomeParlamentar</th>\n",
       "      <th>sgUF</th>\n",
       "      <th>sgPartido</th>\n",
       "      <th>txtDescricao</th>\n",
       "      <th>numEspecificacaoSubCota</th>\n",
       "      <th>txtDescricaoEspecificacao</th>\n",
       "      <th>txtFornecedor</th>\n",
       "      <th>numDia</th>\n",
       "      <th>vlrLiquido</th>\n",
       "      <th>numMes</th>\n",
       "      <th>numAno</th>\n",
       "      <th>txtPassageiro</th>\n",
       "      <th>txtTrecho</th>\n",
       "    </tr>\n",
       "  </thead>\n",
       "  <tbody>\n",
       "    <tr>\n",
       "      <th>25412</th>\n",
       "      <td>ATHOS AVELINO</td>\n",
       "      <td>NaN</td>\n",
       "      <td>NaN</td>\n",
       "      <td>Emissão Bilhete Aéreo</td>\n",
       "      <td>0</td>\n",
       "      <td>NaN</td>\n",
       "      <td>Cia Aérea - GOL</td>\n",
       "      <td>25</td>\n",
       "      <td>-334.42</td>\n",
       "      <td>7</td>\n",
       "      <td>2009</td>\n",
       "      <td>PEREIRA/ATHOS</td>\n",
       "      <td>CANCELAMENTO</td>\n",
       "    </tr>\n",
       "    <tr>\n",
       "      <th>83815</th>\n",
       "      <td>FERNANDO ESTIMA</td>\n",
       "      <td>NaN</td>\n",
       "      <td>NaN</td>\n",
       "      <td>Emissão Bilhete Aéreo</td>\n",
       "      <td>0</td>\n",
       "      <td>NaN</td>\n",
       "      <td>Cia Aérea - GOL</td>\n",
       "      <td>07</td>\n",
       "      <td>539.04</td>\n",
       "      <td>7</td>\n",
       "      <td>2009</td>\n",
       "      <td>ESTIMA/FERNANDO</td>\n",
       "      <td>CGHG3SDUG3CGH</td>\n",
       "    </tr>\n",
       "    <tr>\n",
       "      <th>117164</th>\n",
       "      <td>JOÃO FONTES</td>\n",
       "      <td>NaN</td>\n",
       "      <td>NaN</td>\n",
       "      <td>Emissão Bilhete Aéreo</td>\n",
       "      <td>0</td>\n",
       "      <td>NaN</td>\n",
       "      <td>Cia Aérea - GOL</td>\n",
       "      <td>15</td>\n",
       "      <td>-149.62</td>\n",
       "      <td>10</td>\n",
       "      <td>2009</td>\n",
       "      <td>FONTES/FERNANDES</td>\n",
       "      <td>CANCELAMENTO</td>\n",
       "    </tr>\n",
       "    <tr>\n",
       "      <th>154597</th>\n",
       "      <td>LUIZ MOREIRA</td>\n",
       "      <td>NaN</td>\n",
       "      <td>NaN</td>\n",
       "      <td>Emissão Bilhete Aéreo</td>\n",
       "      <td>0</td>\n",
       "      <td>NaN</td>\n",
       "      <td>Cia Aérea - GOL</td>\n",
       "      <td>14</td>\n",
       "      <td>398.62</td>\n",
       "      <td>8</td>\n",
       "      <td>2009</td>\n",
       "      <td>SILVA/LUIZ</td>\n",
       "      <td>SSAG3GRU</td>\n",
       "    </tr>\n",
       "    <tr>\n",
       "      <th>154598</th>\n",
       "      <td>LUIZ MOREIRA</td>\n",
       "      <td>NaN</td>\n",
       "      <td>NaN</td>\n",
       "      <td>Emissão Bilhete Aéreo</td>\n",
       "      <td>0</td>\n",
       "      <td>NaN</td>\n",
       "      <td>Cia Aérea - GOL</td>\n",
       "      <td>14</td>\n",
       "      <td>678.62</td>\n",
       "      <td>8</td>\n",
       "      <td>2009</td>\n",
       "      <td>SILVA/LUIZ</td>\n",
       "      <td>CGHG3SSA</td>\n",
       "    </tr>\n",
       "    <tr>\n",
       "      <th>209868</th>\n",
       "      <td>PROFESSOR LUIZINHO</td>\n",
       "      <td>NaN</td>\n",
       "      <td>NaN</td>\n",
       "      <td>Emissão Bilhete Aéreo</td>\n",
       "      <td>0</td>\n",
       "      <td>NaN</td>\n",
       "      <td>Cia Aérea - GOL</td>\n",
       "      <td>18</td>\n",
       "      <td>1105.74</td>\n",
       "      <td>10</td>\n",
       "      <td>2009</td>\n",
       "      <td>DA SILVA/LUIZ</td>\n",
       "      <td>CGHG3BSBG3CGH</td>\n",
       "    </tr>\n",
       "    <tr>\n",
       "      <th>209869</th>\n",
       "      <td>PROFESSOR LUIZINHO</td>\n",
       "      <td>NaN</td>\n",
       "      <td>NaN</td>\n",
       "      <td>Emissão Bilhete Aéreo</td>\n",
       "      <td>0</td>\n",
       "      <td>NaN</td>\n",
       "      <td>Cia Aérea - GOL</td>\n",
       "      <td>22</td>\n",
       "      <td>-4.50</td>\n",
       "      <td>10</td>\n",
       "      <td>2009</td>\n",
       "      <td>DA SILVA/LUIZ</td>\n",
       "      <td>CANCELAMENTO</td>\n",
       "    </tr>\n",
       "    <tr>\n",
       "      <th>216363</th>\n",
       "      <td>LIDERANÇA DO PSDB</td>\n",
       "      <td>NaN</td>\n",
       "      <td>NaN</td>\n",
       "      <td>MANUTENÇÃO DE ESCRITÓRIO DE APOIO À ATIVIDADE ...</td>\n",
       "      <td>0</td>\n",
       "      <td>NaN</td>\n",
       "      <td>AGENCIA ESTADO LTDA</td>\n",
       "      <td>26</td>\n",
       "      <td>8275.08</td>\n",
       "      <td>12</td>\n",
       "      <td>2011</td>\n",
       "      <td>NaN</td>\n",
       "      <td>NaN</td>\n",
       "    </tr>\n",
       "    <tr>\n",
       "      <th>216364</th>\n",
       "      <td>LIDERANÇA DO PSDB</td>\n",
       "      <td>NaN</td>\n",
       "      <td>NaN</td>\n",
       "      <td>MANUTENÇÃO DE ESCRITÓRIO DE APOIO À ATIVIDADE ...</td>\n",
       "      <td>0</td>\n",
       "      <td>NaN</td>\n",
       "      <td>AGENCIA ESTADO LTDA.</td>\n",
       "      <td>26</td>\n",
       "      <td>9432.00</td>\n",
       "      <td>12</td>\n",
       "      <td>2011</td>\n",
       "      <td>NaN</td>\n",
       "      <td>NaN</td>\n",
       "    </tr>\n",
       "    <tr>\n",
       "      <th>216365</th>\n",
       "      <td>LIDERANÇA DO PSDB</td>\n",
       "      <td>NaN</td>\n",
       "      <td>NaN</td>\n",
       "      <td>MANUTENÇÃO DE ESCRITÓRIO DE APOIO À ATIVIDADE ...</td>\n",
       "      <td>0</td>\n",
       "      <td>NaN</td>\n",
       "      <td>CRC TECNOLOGIA DA INFOMAÇÃO LTDA</td>\n",
       "      <td>27</td>\n",
       "      <td>5112.00</td>\n",
       "      <td>9</td>\n",
       "      <td>2011</td>\n",
       "      <td>NaN</td>\n",
       "      <td>NaN</td>\n",
       "    </tr>\n",
       "  </tbody>\n",
       "</table>\n",
       "</div>"
      ],
      "text/plain": [
       "         txNomeParlamentar sgUF sgPartido  \\\n",
       "25412        ATHOS AVELINO  NaN       NaN   \n",
       "83815      FERNANDO ESTIMA  NaN       NaN   \n",
       "117164         JOÃO FONTES  NaN       NaN   \n",
       "154597        LUIZ MOREIRA  NaN       NaN   \n",
       "154598        LUIZ MOREIRA  NaN       NaN   \n",
       "209868  PROFESSOR LUIZINHO  NaN       NaN   \n",
       "209869  PROFESSOR LUIZINHO  NaN       NaN   \n",
       "216363   LIDERANÇA DO PSDB  NaN       NaN   \n",
       "216364   LIDERANÇA DO PSDB  NaN       NaN   \n",
       "216365   LIDERANÇA DO PSDB  NaN       NaN   \n",
       "\n",
       "                                             txtDescricao  \\\n",
       "25412                               Emissão Bilhete Aéreo   \n",
       "83815                               Emissão Bilhete Aéreo   \n",
       "117164                              Emissão Bilhete Aéreo   \n",
       "154597                              Emissão Bilhete Aéreo   \n",
       "154598                              Emissão Bilhete Aéreo   \n",
       "209868                              Emissão Bilhete Aéreo   \n",
       "209869                              Emissão Bilhete Aéreo   \n",
       "216363  MANUTENÇÃO DE ESCRITÓRIO DE APOIO À ATIVIDADE ...   \n",
       "216364  MANUTENÇÃO DE ESCRITÓRIO DE APOIO À ATIVIDADE ...   \n",
       "216365  MANUTENÇÃO DE ESCRITÓRIO DE APOIO À ATIVIDADE ...   \n",
       "\n",
       "        numEspecificacaoSubCota txtDescricaoEspecificacao  \\\n",
       "25412                         0                       NaN   \n",
       "83815                         0                       NaN   \n",
       "117164                        0                       NaN   \n",
       "154597                        0                       NaN   \n",
       "154598                        0                       NaN   \n",
       "209868                        0                       NaN   \n",
       "209869                        0                       NaN   \n",
       "216363                        0                       NaN   \n",
       "216364                        0                       NaN   \n",
       "216365                        0                       NaN   \n",
       "\n",
       "                           txtFornecedor numDia  vlrLiquido  numMes  numAno  \\\n",
       "25412                    Cia Aérea - GOL     25     -334.42       7    2009   \n",
       "83815                    Cia Aérea - GOL     07      539.04       7    2009   \n",
       "117164                   Cia Aérea - GOL     15     -149.62      10    2009   \n",
       "154597                   Cia Aérea - GOL     14      398.62       8    2009   \n",
       "154598                   Cia Aérea - GOL     14      678.62       8    2009   \n",
       "209868                   Cia Aérea - GOL     18     1105.74      10    2009   \n",
       "209869                   Cia Aérea - GOL     22       -4.50      10    2009   \n",
       "216363               AGENCIA ESTADO LTDA     26     8275.08      12    2011   \n",
       "216364              AGENCIA ESTADO LTDA.     26     9432.00      12    2011   \n",
       "216365  CRC TECNOLOGIA DA INFOMAÇÃO LTDA     27     5112.00       9    2011   \n",
       "\n",
       "           txtPassageiro      txtTrecho  \n",
       "25412      PEREIRA/ATHOS   CANCELAMENTO  \n",
       "83815    ESTIMA/FERNANDO  CGHG3SDUG3CGH  \n",
       "117164  FONTES/FERNANDES   CANCELAMENTO  \n",
       "154597        SILVA/LUIZ       SSAG3GRU  \n",
       "154598        SILVA/LUIZ       CGHG3SSA  \n",
       "209868     DA SILVA/LUIZ  CGHG3BSBG3CGH  \n",
       "209869     DA SILVA/LUIZ   CANCELAMENTO  \n",
       "216363               NaN            NaN  \n",
       "216364               NaN            NaN  \n",
       "216365               NaN            NaN  "
      ]
     },
     "execution_count": 19,
     "metadata": {},
     "output_type": "execute_result"
    }
   ],
   "source": [
    "# Analisando os valores nulos de sgUF e sgPartido\n",
    "df_cotas[df_cotas['sgUF'].isnull()][:10]"
   ]
  },
  {
   "cell_type": "markdown",
   "metadata": {},
   "source": [
    "Podemos observar que _sgUF_ e _sgPartido_ estão conectadas, sua ausência nessas linhas não irá impactar em nossas analises, portanto não iremos remove-las do df"
   ]
  },
  {
   "cell_type": "code",
   "execution_count": 20,
   "metadata": {},
   "outputs": [
    {
     "data": {
      "text/plain": [
       "txtDescricaoEspecificacao  txtDescricao                 \n",
       "Aeronaves                  COMBUSTÍVEIS E LUBRIFICANTES.      2062\n",
       "Embarcações                COMBUSTÍVEIS E LUBRIFICANTES.       514\n",
       "Sem especificações         COMBUSTÍVEIS E LUBRIFICANTES.     20009\n",
       "Veículos Automotores       COMBUSTÍVEIS E LUBRIFICANTES.    628615\n",
       "Name: txtDescricaoEspecificacao, dtype: int64"
      ]
     },
     "execution_count": 20,
     "metadata": {},
     "output_type": "execute_result"
    }
   ],
   "source": [
    "# Analisando valores nulos de txtDescricaoEspecificacao\n",
    "\n",
    "df_cotas.groupby(['txtDescricaoEspecificacao','txtDescricao'])['txtDescricaoEspecificacao'].count()"
   ]
  },
  {
   "cell_type": "markdown",
   "metadata": {},
   "source": [
    "Podemos verificar que a coluna _txtDescricaoEspecificacao_ esta preenchida apenas quando a coluna _txtDescriao_ possui valor __COMBUSTÍVEIS E LUBRIFICANTES__, seus campos _nulos_ não irão interferir em nossa analise"
   ]
  },
  {
   "cell_type": "code",
   "execution_count": 21,
   "metadata": {},
   "outputs": [
    {
     "data": {
      "text/html": [
       "<div>\n",
       "<style scoped>\n",
       "    .dataframe tbody tr th:only-of-type {\n",
       "        vertical-align: middle;\n",
       "    }\n",
       "\n",
       "    .dataframe tbody tr th {\n",
       "        vertical-align: top;\n",
       "    }\n",
       "\n",
       "    .dataframe thead th {\n",
       "        text-align: right;\n",
       "    }\n",
       "</style>\n",
       "<table border=\"1\" class=\"dataframe\">\n",
       "  <thead>\n",
       "    <tr style=\"text-align: right;\">\n",
       "      <th></th>\n",
       "      <th>txNomeParlamentar</th>\n",
       "      <th>sgUF</th>\n",
       "      <th>sgPartido</th>\n",
       "      <th>numEspecificacaoSubCota</th>\n",
       "      <th>txtDescricaoEspecificacao</th>\n",
       "      <th>txtFornecedor</th>\n",
       "      <th>numDia</th>\n",
       "      <th>vlrLiquido</th>\n",
       "      <th>numMes</th>\n",
       "      <th>numAno</th>\n",
       "      <th>txtPassageiro</th>\n",
       "      <th>txtTrecho</th>\n",
       "    </tr>\n",
       "    <tr>\n",
       "      <th>txtDescricao</th>\n",
       "      <th></th>\n",
       "      <th></th>\n",
       "      <th></th>\n",
       "      <th></th>\n",
       "      <th></th>\n",
       "      <th></th>\n",
       "      <th></th>\n",
       "      <th></th>\n",
       "      <th></th>\n",
       "      <th></th>\n",
       "      <th></th>\n",
       "      <th></th>\n",
       "    </tr>\n",
       "  </thead>\n",
       "  <tbody>\n",
       "    <tr>\n",
       "      <th>TELEFONIA</th>\n",
       "      <td>44454</td>\n",
       "      <td>44454</td>\n",
       "      <td>44454</td>\n",
       "      <td>44454</td>\n",
       "      <td>0</td>\n",
       "      <td>44454</td>\n",
       "      <td>0</td>\n",
       "      <td>44454</td>\n",
       "      <td>44454</td>\n",
       "      <td>44454</td>\n",
       "      <td>0</td>\n",
       "      <td>0</td>\n",
       "    </tr>\n",
       "  </tbody>\n",
       "</table>\n",
       "</div>"
      ],
      "text/plain": [
       "              txNomeParlamentar   sgUF  sgPartido  numEspecificacaoSubCota  \\\n",
       "txtDescricao                                                                 \n",
       "TELEFONIA                 44454  44454      44454                    44454   \n",
       "\n",
       "              txtDescricaoEspecificacao  txtFornecedor  numDia  vlrLiquido  \\\n",
       "txtDescricao                                                                 \n",
       "TELEFONIA                             0          44454       0       44454   \n",
       "\n",
       "              numMes  numAno  txtPassageiro  txtTrecho  \n",
       "txtDescricao                                            \n",
       "TELEFONIA      44454   44454              0          0  "
      ]
     },
     "execution_count": 21,
     "metadata": {},
     "output_type": "execute_result"
    }
   ],
   "source": [
    "# Analisando valores nulos de numDia\n",
    "\n",
    "df_cotas[df_cotas['numDia'].isnull()].groupby('txtDescricao').count()"
   ]
  },
  {
   "cell_type": "markdown",
   "metadata": {},
   "source": [
    "Os lançamentos referentes a telefonia não possuem a informação de _numDia_ pois são referentes ao __mês__, os campos nulos não irão influenciar em nossas analises"
   ]
  },
  {
   "cell_type": "code",
   "execution_count": 22,
   "metadata": {},
   "outputs": [
    {
     "data": {
      "text/html": [
       "<div>\n",
       "<style scoped>\n",
       "    .dataframe tbody tr th:only-of-type {\n",
       "        vertical-align: middle;\n",
       "    }\n",
       "\n",
       "    .dataframe tbody tr th {\n",
       "        vertical-align: top;\n",
       "    }\n",
       "\n",
       "    .dataframe thead th {\n",
       "        text-align: right;\n",
       "    }\n",
       "</style>\n",
       "<table border=\"1\" class=\"dataframe\">\n",
       "  <thead>\n",
       "    <tr style=\"text-align: right;\">\n",
       "      <th></th>\n",
       "      <th>txNomeParlamentar</th>\n",
       "      <th>sgUF</th>\n",
       "      <th>sgPartido</th>\n",
       "      <th>numEspecificacaoSubCota</th>\n",
       "      <th>txtDescricaoEspecificacao</th>\n",
       "      <th>txtFornecedor</th>\n",
       "      <th>numDia</th>\n",
       "      <th>vlrLiquido</th>\n",
       "      <th>numMes</th>\n",
       "      <th>numAno</th>\n",
       "      <th>txtPassageiro</th>\n",
       "      <th>txtTrecho</th>\n",
       "    </tr>\n",
       "    <tr>\n",
       "      <th>txtDescricao</th>\n",
       "      <th></th>\n",
       "      <th></th>\n",
       "      <th></th>\n",
       "      <th></th>\n",
       "      <th></th>\n",
       "      <th></th>\n",
       "      <th></th>\n",
       "      <th></th>\n",
       "      <th></th>\n",
       "      <th></th>\n",
       "      <th></th>\n",
       "      <th></th>\n",
       "    </tr>\n",
       "  </thead>\n",
       "  <tbody>\n",
       "    <tr>\n",
       "      <th>Emissão Bilhete Aéreo</th>\n",
       "      <td>812550</td>\n",
       "      <td>812543</td>\n",
       "      <td>812543</td>\n",
       "      <td>812550</td>\n",
       "      <td>0</td>\n",
       "      <td>812550</td>\n",
       "      <td>812550</td>\n",
       "      <td>812550</td>\n",
       "      <td>812550</td>\n",
       "      <td>812550</td>\n",
       "      <td>812550</td>\n",
       "      <td>812545</td>\n",
       "    </tr>\n",
       "    <tr>\n",
       "      <th>PASSAGENS AÉREAS</th>\n",
       "      <td>6117</td>\n",
       "      <td>5937</td>\n",
       "      <td>5937</td>\n",
       "      <td>6117</td>\n",
       "      <td>0</td>\n",
       "      <td>6117</td>\n",
       "      <td>6117</td>\n",
       "      <td>6117</td>\n",
       "      <td>6117</td>\n",
       "      <td>6117</td>\n",
       "      <td>6117</td>\n",
       "      <td>6101</td>\n",
       "    </tr>\n",
       "  </tbody>\n",
       "</table>\n",
       "</div>"
      ],
      "text/plain": [
       "                       txNomeParlamentar    sgUF  sgPartido  \\\n",
       "txtDescricao                                                  \n",
       "Emissão Bilhete Aéreo             812550  812543     812543   \n",
       "PASSAGENS AÉREAS                    6117    5937       5937   \n",
       "\n",
       "                       numEspecificacaoSubCota  txtDescricaoEspecificacao  \\\n",
       "txtDescricao                                                                \n",
       "Emissão Bilhete Aéreo                   812550                          0   \n",
       "PASSAGENS AÉREAS                          6117                          0   \n",
       "\n",
       "                       txtFornecedor  numDia  vlrLiquido  numMes  numAno  \\\n",
       "txtDescricao                                                               \n",
       "Emissão Bilhete Aéreo         812550  812550      812550  812550  812550   \n",
       "PASSAGENS AÉREAS                6117    6117        6117    6117    6117   \n",
       "\n",
       "                       txtPassageiro  txtTrecho  \n",
       "txtDescricao                                     \n",
       "Emissão Bilhete Aéreo         812550     812545  \n",
       "PASSAGENS AÉREAS                6117       6101  "
      ]
     },
     "execution_count": 22,
     "metadata": {},
     "output_type": "execute_result"
    }
   ],
   "source": [
    "# Analisando valores nulos de txtPassageiro\n",
    "\n",
    "df_cotas[df_cotas['txtPassageiro'].notnull()].groupby('txtDescricao').count()"
   ]
  },
  {
   "cell_type": "markdown",
   "metadata": {},
   "source": [
    "Apenas lançamentos referentes a _Emissão Bilhete Aéreo_ e _PASSAGENS AÉREAS_ possuem a coluna __txtPassageiro__ preenchidas, os campos nulos não irão influenciar em nossas analises"
   ]
  },
  {
   "cell_type": "code",
   "execution_count": 23,
   "metadata": {},
   "outputs": [
    {
     "data": {
      "text/html": [
       "<div>\n",
       "<style scoped>\n",
       "    .dataframe tbody tr th:only-of-type {\n",
       "        vertical-align: middle;\n",
       "    }\n",
       "\n",
       "    .dataframe tbody tr th {\n",
       "        vertical-align: top;\n",
       "    }\n",
       "\n",
       "    .dataframe thead th {\n",
       "        text-align: right;\n",
       "    }\n",
       "</style>\n",
       "<table border=\"1\" class=\"dataframe\">\n",
       "  <thead>\n",
       "    <tr style=\"text-align: right;\">\n",
       "      <th></th>\n",
       "      <th>txNomeParlamentar</th>\n",
       "      <th>sgUF</th>\n",
       "      <th>sgPartido</th>\n",
       "      <th>numEspecificacaoSubCota</th>\n",
       "      <th>txtDescricaoEspecificacao</th>\n",
       "      <th>txtFornecedor</th>\n",
       "      <th>numDia</th>\n",
       "      <th>vlrLiquido</th>\n",
       "      <th>numMes</th>\n",
       "      <th>numAno</th>\n",
       "      <th>txtPassageiro</th>\n",
       "      <th>txtTrecho</th>\n",
       "    </tr>\n",
       "    <tr>\n",
       "      <th>txtDescricao</th>\n",
       "      <th></th>\n",
       "      <th></th>\n",
       "      <th></th>\n",
       "      <th></th>\n",
       "      <th></th>\n",
       "      <th></th>\n",
       "      <th></th>\n",
       "      <th></th>\n",
       "      <th></th>\n",
       "      <th></th>\n",
       "      <th></th>\n",
       "      <th></th>\n",
       "    </tr>\n",
       "  </thead>\n",
       "  <tbody>\n",
       "    <tr>\n",
       "      <th>Emissão Bilhete Aéreo</th>\n",
       "      <td>812545</td>\n",
       "      <td>812538</td>\n",
       "      <td>812538</td>\n",
       "      <td>812545</td>\n",
       "      <td>0</td>\n",
       "      <td>812545</td>\n",
       "      <td>812545</td>\n",
       "      <td>812545</td>\n",
       "      <td>812545</td>\n",
       "      <td>812545</td>\n",
       "      <td>812545</td>\n",
       "      <td>812545</td>\n",
       "    </tr>\n",
       "    <tr>\n",
       "      <th>PASSAGENS AÉREAS</th>\n",
       "      <td>19558</td>\n",
       "      <td>19161</td>\n",
       "      <td>19161</td>\n",
       "      <td>19558</td>\n",
       "      <td>0</td>\n",
       "      <td>19558</td>\n",
       "      <td>19558</td>\n",
       "      <td>19558</td>\n",
       "      <td>19558</td>\n",
       "      <td>19558</td>\n",
       "      <td>6101</td>\n",
       "      <td>19558</td>\n",
       "    </tr>\n",
       "  </tbody>\n",
       "</table>\n",
       "</div>"
      ],
      "text/plain": [
       "                       txNomeParlamentar    sgUF  sgPartido  \\\n",
       "txtDescricao                                                  \n",
       "Emissão Bilhete Aéreo             812545  812538     812538   \n",
       "PASSAGENS AÉREAS                   19558   19161      19161   \n",
       "\n",
       "                       numEspecificacaoSubCota  txtDescricaoEspecificacao  \\\n",
       "txtDescricao                                                                \n",
       "Emissão Bilhete Aéreo                   812545                          0   \n",
       "PASSAGENS AÉREAS                         19558                          0   \n",
       "\n",
       "                       txtFornecedor  numDia  vlrLiquido  numMes  numAno  \\\n",
       "txtDescricao                                                               \n",
       "Emissão Bilhete Aéreo         812545  812545      812545  812545  812545   \n",
       "PASSAGENS AÉREAS               19558   19558       19558   19558   19558   \n",
       "\n",
       "                       txtPassageiro  txtTrecho  \n",
       "txtDescricao                                     \n",
       "Emissão Bilhete Aéreo         812545     812545  \n",
       "PASSAGENS AÉREAS                6101      19558  "
      ]
     },
     "execution_count": 23,
     "metadata": {},
     "output_type": "execute_result"
    }
   ],
   "source": [
    "# Analisando valores nulos de txtTrecho\n",
    "\n",
    "df_cotas[df_cotas['txtTrecho'].notnull()].groupby('txtDescricao').count()"
   ]
  },
  {
   "cell_type": "markdown",
   "metadata": {},
   "source": [
    "Assim como em _txtPassageiro_ os valores de __txtTrecho__ apenas estão preenchidos para lançamentos referentes a _Emissão Bilhete Aéreo_ e _PASSAGENS AÉREAS_, os campos nulos não irão influenciar em nossas analises"
   ]
  },
  {
   "cell_type": "markdown",
   "metadata": {},
   "source": [
    "### Salvando nosso df em um arquivo csv\n",
    "Após realizar o processo inicial de analise e limpeza do DF, iremos salva-lo em um novo arquivo csv"
   ]
  },
  {
   "cell_type": "code",
   "execution_count": 24,
   "metadata": {},
   "outputs": [],
   "source": [
    "df_cotas.to_csv('df_cotas.csv', index=False)"
   ]
  },
  {
   "cell_type": "markdown",
   "metadata": {},
   "source": [
    "#### Continuar\n",
    "Caso seja necessário fechar e depois reabrir o notebook para dar andamento, podemos carregar o arquivo de cotas e continuar a partir deste ponto, sem a necessidade de rodar novamente todos os processos de ajuste do df"
   ]
  },
  {
   "cell_type": "code",
   "execution_count": 25,
   "metadata": {},
   "outputs": [
    {
     "data": {
      "text/html": [
       "<div>\n",
       "<style scoped>\n",
       "    .dataframe tbody tr th:only-of-type {\n",
       "        vertical-align: middle;\n",
       "    }\n",
       "\n",
       "    .dataframe tbody tr th {\n",
       "        vertical-align: top;\n",
       "    }\n",
       "\n",
       "    .dataframe thead th {\n",
       "        text-align: right;\n",
       "    }\n",
       "</style>\n",
       "<table border=\"1\" class=\"dataframe\">\n",
       "  <thead>\n",
       "    <tr style=\"text-align: right;\">\n",
       "      <th></th>\n",
       "      <th>txNomeParlamentar</th>\n",
       "      <th>sgUF</th>\n",
       "      <th>sgPartido</th>\n",
       "      <th>txtDescricao</th>\n",
       "      <th>numEspecificacaoSubCota</th>\n",
       "      <th>txtDescricaoEspecificacao</th>\n",
       "      <th>txtFornecedor</th>\n",
       "      <th>numDia</th>\n",
       "      <th>vlrLiquido</th>\n",
       "      <th>numMes</th>\n",
       "      <th>numAno</th>\n",
       "      <th>txtPassageiro</th>\n",
       "      <th>txtTrecho</th>\n",
       "    </tr>\n",
       "  </thead>\n",
       "  <tbody>\n",
       "    <tr>\n",
       "      <th>0</th>\n",
       "      <td>ABELARDO CAMARINHA</td>\n",
       "      <td>SP</td>\n",
       "      <td>PSB</td>\n",
       "      <td>MANUTENÇÃO DE ESCRITÓRIO DE APOIO À ATIVIDADE ...</td>\n",
       "      <td>0</td>\n",
       "      <td>NaN</td>\n",
       "      <td>TIM CELULAR S/A</td>\n",
       "      <td>19.0</td>\n",
       "      <td>411.51</td>\n",
       "      <td>5</td>\n",
       "      <td>2009</td>\n",
       "      <td>NaN</td>\n",
       "      <td>NaN</td>\n",
       "    </tr>\n",
       "    <tr>\n",
       "      <th>1</th>\n",
       "      <td>ABELARDO CAMARINHA</td>\n",
       "      <td>SP</td>\n",
       "      <td>PSB</td>\n",
       "      <td>MANUTENÇÃO DE ESCRITÓRIO DE APOIO À ATIVIDADE ...</td>\n",
       "      <td>0</td>\n",
       "      <td>NaN</td>\n",
       "      <td>TIM CELULAR S/A</td>\n",
       "      <td>19.0</td>\n",
       "      <td>429.09</td>\n",
       "      <td>5</td>\n",
       "      <td>2009</td>\n",
       "      <td>NaN</td>\n",
       "      <td>NaN</td>\n",
       "    </tr>\n",
       "    <tr>\n",
       "      <th>2</th>\n",
       "      <td>ABELARDO CAMARINHA</td>\n",
       "      <td>SP</td>\n",
       "      <td>PSB</td>\n",
       "      <td>MANUTENÇÃO DE ESCRITÓRIO DE APOIO À ATIVIDADE ...</td>\n",
       "      <td>0</td>\n",
       "      <td>NaN</td>\n",
       "      <td>TIM CELULAR S/A</td>\n",
       "      <td>19.0</td>\n",
       "      <td>109.79</td>\n",
       "      <td>5</td>\n",
       "      <td>2009</td>\n",
       "      <td>NaN</td>\n",
       "      <td>NaN</td>\n",
       "    </tr>\n",
       "    <tr>\n",
       "      <th>3</th>\n",
       "      <td>ABELARDO CAMARINHA</td>\n",
       "      <td>SP</td>\n",
       "      <td>PSB</td>\n",
       "      <td>MANUTENÇÃO DE ESCRITÓRIO DE APOIO À ATIVIDADE ...</td>\n",
       "      <td>0</td>\n",
       "      <td>NaN</td>\n",
       "      <td>TIM CELULAR S/A</td>\n",
       "      <td>19.0</td>\n",
       "      <td>68.14</td>\n",
       "      <td>5</td>\n",
       "      <td>2009</td>\n",
       "      <td>NaN</td>\n",
       "      <td>NaN</td>\n",
       "    </tr>\n",
       "    <tr>\n",
       "      <th>4</th>\n",
       "      <td>ABELARDO CAMARINHA</td>\n",
       "      <td>SP</td>\n",
       "      <td>PSB</td>\n",
       "      <td>COMBUSTÍVEIS E LUBRIFICANTES.</td>\n",
       "      <td>1</td>\n",
       "      <td>Veículos Automotores</td>\n",
       "      <td>AUTO POSTO ALVORADA</td>\n",
       "      <td>25.0</td>\n",
       "      <td>4395.36</td>\n",
       "      <td>9</td>\n",
       "      <td>2009</td>\n",
       "      <td>NaN</td>\n",
       "      <td>NaN</td>\n",
       "    </tr>\n",
       "  </tbody>\n",
       "</table>\n",
       "</div>"
      ],
      "text/plain": [
       "    txNomeParlamentar sgUF sgPartido  \\\n",
       "0  ABELARDO CAMARINHA   SP       PSB   \n",
       "1  ABELARDO CAMARINHA   SP       PSB   \n",
       "2  ABELARDO CAMARINHA   SP       PSB   \n",
       "3  ABELARDO CAMARINHA   SP       PSB   \n",
       "4  ABELARDO CAMARINHA   SP       PSB   \n",
       "\n",
       "                                        txtDescricao  numEspecificacaoSubCota  \\\n",
       "0  MANUTENÇÃO DE ESCRITÓRIO DE APOIO À ATIVIDADE ...                        0   \n",
       "1  MANUTENÇÃO DE ESCRITÓRIO DE APOIO À ATIVIDADE ...                        0   \n",
       "2  MANUTENÇÃO DE ESCRITÓRIO DE APOIO À ATIVIDADE ...                        0   \n",
       "3  MANUTENÇÃO DE ESCRITÓRIO DE APOIO À ATIVIDADE ...                        0   \n",
       "4                      COMBUSTÍVEIS E LUBRIFICANTES.                        1   \n",
       "\n",
       "  txtDescricaoEspecificacao        txtFornecedor  numDia  vlrLiquido  numMes  \\\n",
       "0                       NaN      TIM CELULAR S/A    19.0      411.51       5   \n",
       "1                       NaN      TIM CELULAR S/A    19.0      429.09       5   \n",
       "2                       NaN      TIM CELULAR S/A    19.0      109.79       5   \n",
       "3                       NaN      TIM CELULAR S/A    19.0       68.14       5   \n",
       "4      Veículos Automotores  AUTO POSTO ALVORADA    25.0     4395.36       9   \n",
       "\n",
       "   numAno txtPassageiro txtTrecho  \n",
       "0    2009           NaN       NaN  \n",
       "1    2009           NaN       NaN  \n",
       "2    2009           NaN       NaN  \n",
       "3    2009           NaN       NaN  \n",
       "4    2009           NaN       NaN  "
      ]
     },
     "execution_count": 25,
     "metadata": {},
     "output_type": "execute_result"
    }
   ],
   "source": [
    "df_cotas = pd.read_csv('df_cotas.csv')\n",
    "df_cotas.head()"
   ]
  },
  {
   "cell_type": "code",
   "execution_count": 26,
   "metadata": {},
   "outputs": [],
   "source": [
    "### Funções"
   ]
  },
  {
   "cell_type": "markdown",
   "metadata": {},
   "source": [
    "### Inicio da analise e resposta das questões apontadas"
   ]
  },
  {
   "cell_type": "markdown",
   "metadata": {},
   "source": [
    "### a. Como se comportam os gastos com cotas parlamentares ao longo do tempo?\n",
    "- Existe alguma tendência de aumento ou redução desse custo?\n",
    "- Existe sazonalidade?"
   ]
  },
  {
   "cell_type": "code",
   "execution_count": 27,
   "metadata": {},
   "outputs": [],
   "source": [
    "total_ano = df_cotas.groupby('numAno')['vlrLiquido'].sum()"
   ]
  },
  {
   "cell_type": "code",
   "execution_count": 28,
   "metadata": {},
   "outputs": [
    {
     "data": {
      "text/plain": [
       "numAno\n",
       "2009    1.154050e+08\n",
       "2010    1.543915e+08\n",
       "2011    1.718497e+08\n",
       "2012    1.704545e+08\n",
       "2013    1.889306e+08\n",
       "2014    1.960612e+08\n",
       "2015    2.140510e+08\n",
       "2016    2.210740e+08\n",
       "2017    2.259053e+08\n",
       "Name: vlrLiquido, dtype: float64"
      ]
     },
     "execution_count": 28,
     "metadata": {},
     "output_type": "execute_result"
    }
   ],
   "source": [
    "total_ano"
   ]
  },
  {
   "cell_type": "code",
   "execution_count": 29,
   "metadata": {},
   "outputs": [
    {
     "data": {
      "image/png": "[encoded data removed]",
      "text/plain": [
       "<Figure size 432x288 with 1 Axes>"
      ]
     },
     "metadata": {
      "needs_background": "light"
     },
     "output_type": "display_data"
    }
   ],
   "source": [
    "total_ano.plot()\n",
    "plt.title('Gasto total por Ano')\n",
    "plt.ylabel('Valor total');\n",
    "plt.xlabel('');"
   ]
  },
  {
   "cell_type": "code",
   "execution_count": 30,
   "metadata": {},
   "outputs": [],
   "source": [
    "dif_ano = ((total_ano[2017] - total_ano[2009]) * 100) / total_ano[2009]"
   ]
  },
  {
   "cell_type": "code",
   "execution_count": 31,
   "metadata": {},
   "outputs": [
    {
     "name": "stdout",
     "output_type": "stream",
     "text": [
      "Podemos observar no grático um constante crescimento no valor total gasto por ano, uma diferença de 95.75% entre 2009 e 2017\n"
     ]
    }
   ],
   "source": [
    "print('Podemos observar no grático um constante crescimento no valor total gasto por ano, uma diferença de {:.2f}% entre 2009 e 2017'\n",
    "     .format(dif_ano))"
   ]
  },
  {
   "cell_type": "code",
   "execution_count": 32,
   "metadata": {},
   "outputs": [],
   "source": [
    "# Analizando sazonalidade\n",
    "\n",
    "total_mes = df_cotas.groupby('numMes')['numMes'].count()"
   ]
  },
  {
   "cell_type": "code",
   "execution_count": 33,
   "metadata": {},
   "outputs": [
    {
     "data": {
      "image/png": "[encoded data removed]",
      "text/plain": [
       "<Figure size 432x288 with 1 Axes>"
      ]
     },
     "metadata": {
      "needs_background": "light"
     },
     "output_type": "display_data"
    }
   ],
   "source": [
    "# Plotando gráfico para analisar as informações\n",
    "\n",
    "plt.plot(total_mes)\n",
    "plt.title('Total gasto por mês')\n",
    "plt.xlabel('Mês')\n",
    "plt.ylabel('Valor gasto');"
   ]
  },
  {
   "cell_type": "markdown",
   "metadata": {},
   "source": [
    "Podemos observar a existência de uma [sazonalidade](https://www.significados.com.br/sazonal/) nos meses inicias e finais de ano.\n",
    "\n",
    "Segundo o [site da Câmara dos Deputados](http://www2.camara.leg.br/comunicacao/assessoria-de-imprensa/recesso-dos-deputados): __Recesso dos Deputados:__ O número de dias de recesso parlamentar é de cerca de 50 dias. A sessão legislativa é realizada de 2 de fevereiro a 17 de julho e de 1º de agosto a 22 de dezembro (art. 57 da Constituição Federal)."
   ]
  },
  {
   "cell_type": "markdown",
   "metadata": {},
   "source": [
    "### b. Quais foram os parlamentares que mais consumiram recursos durante o mandato 2011-2014?\n",
    "- E quais foram os que menos consumiram recursos?"
   ]
  },
  {
   "cell_type": "markdown",
   "metadata": {},
   "source": [
    "Definindo o ano de inicio e fim de mandato, para alterar o periodo de mandato a analisar, basta atualizar estes valores"
   ]
  },
  {
   "cell_type": "code",
   "execution_count": 34,
   "metadata": {},
   "outputs": [],
   "source": [
    "inicio = 2011\n",
    "fim = 2014"
   ]
  },
  {
   "cell_type": "code",
   "execution_count": 35,
   "metadata": {},
   "outputs": [],
   "source": [
    "df_mandato = df_cotas[(df_cotas['numAno'] >= inicio) & (df_cotas['numAno'] <= fim)]"
   ]
  },
  {
   "cell_type": "code",
   "execution_count": 36,
   "metadata": {},
   "outputs": [
    {
     "data": {
      "text/html": [
       "<div>\n",
       "<style scoped>\n",
       "    .dataframe tbody tr th:only-of-type {\n",
       "        vertical-align: middle;\n",
       "    }\n",
       "\n",
       "    .dataframe tbody tr th {\n",
       "        vertical-align: top;\n",
       "    }\n",
       "\n",
       "    .dataframe thead th {\n",
       "        text-align: right;\n",
       "    }\n",
       "</style>\n",
       "<table border=\"1\" class=\"dataframe\">\n",
       "  <thead>\n",
       "    <tr style=\"text-align: right;\">\n",
       "      <th></th>\n",
       "      <th>txNomeParlamentar</th>\n",
       "      <th>sgUF</th>\n",
       "      <th>sgPartido</th>\n",
       "      <th>txtDescricao</th>\n",
       "      <th>numEspecificacaoSubCota</th>\n",
       "      <th>txtDescricaoEspecificacao</th>\n",
       "      <th>txtFornecedor</th>\n",
       "      <th>numDia</th>\n",
       "      <th>vlrLiquido</th>\n",
       "      <th>numMes</th>\n",
       "      <th>numAno</th>\n",
       "      <th>txtPassageiro</th>\n",
       "      <th>txtTrecho</th>\n",
       "    </tr>\n",
       "  </thead>\n",
       "  <tbody>\n",
       "    <tr>\n",
       "      <th>606018</th>\n",
       "      <td>ABELARDO CAMARINHA</td>\n",
       "      <td>SP</td>\n",
       "      <td>PSB</td>\n",
       "      <td>COMBUSTÍVEIS E LUBRIFICANTES.</td>\n",
       "      <td>1</td>\n",
       "      <td>Veículos Automotores</td>\n",
       "      <td>ANDRADE E URIAS LTDA</td>\n",
       "      <td>20.0</td>\n",
       "      <td>50.00</td>\n",
       "      <td>6</td>\n",
       "      <td>2011</td>\n",
       "      <td>NaN</td>\n",
       "      <td>NaN</td>\n",
       "    </tr>\n",
       "    <tr>\n",
       "      <th>606019</th>\n",
       "      <td>ABELARDO CAMARINHA</td>\n",
       "      <td>SP</td>\n",
       "      <td>PSB</td>\n",
       "      <td>COMBUSTÍVEIS E LUBRIFICANTES.</td>\n",
       "      <td>1</td>\n",
       "      <td>Veículos Automotores</td>\n",
       "      <td>AUTO POSTO  ESMERALDA</td>\n",
       "      <td>25.0</td>\n",
       "      <td>4500.00</td>\n",
       "      <td>1</td>\n",
       "      <td>2011</td>\n",
       "      <td>NaN</td>\n",
       "      <td>NaN</td>\n",
       "    </tr>\n",
       "    <tr>\n",
       "      <th>606020</th>\n",
       "      <td>ABELARDO CAMARINHA</td>\n",
       "      <td>SP</td>\n",
       "      <td>PSB</td>\n",
       "      <td>COMBUSTÍVEIS E LUBRIFICANTES.</td>\n",
       "      <td>1</td>\n",
       "      <td>Veículos Automotores</td>\n",
       "      <td>AUTO POSTO 109 NORTE LTDA</td>\n",
       "      <td>4.0</td>\n",
       "      <td>50.00</td>\n",
       "      <td>7</td>\n",
       "      <td>2011</td>\n",
       "      <td>NaN</td>\n",
       "      <td>NaN</td>\n",
       "    </tr>\n",
       "    <tr>\n",
       "      <th>606021</th>\n",
       "      <td>ABELARDO CAMARINHA</td>\n",
       "      <td>SP</td>\n",
       "      <td>PSB</td>\n",
       "      <td>COMBUSTÍVEIS E LUBRIFICANTES.</td>\n",
       "      <td>1</td>\n",
       "      <td>Veículos Automotores</td>\n",
       "      <td>AUTO POSTO AEROPORTO LTDA</td>\n",
       "      <td>2.0</td>\n",
       "      <td>85.01</td>\n",
       "      <td>7</td>\n",
       "      <td>2011</td>\n",
       "      <td>NaN</td>\n",
       "      <td>NaN</td>\n",
       "    </tr>\n",
       "    <tr>\n",
       "      <th>606022</th>\n",
       "      <td>ABELARDO CAMARINHA</td>\n",
       "      <td>SP</td>\n",
       "      <td>PSB</td>\n",
       "      <td>COMBUSTÍVEIS E LUBRIFICANTES.</td>\n",
       "      <td>1</td>\n",
       "      <td>Veículos Automotores</td>\n",
       "      <td>AUTO POSTO AEROPORTO LTDA</td>\n",
       "      <td>16.0</td>\n",
       "      <td>71.00</td>\n",
       "      <td>6</td>\n",
       "      <td>2011</td>\n",
       "      <td>NaN</td>\n",
       "      <td>NaN</td>\n",
       "    </tr>\n",
       "  </tbody>\n",
       "</table>\n",
       "</div>"
      ],
      "text/plain": [
       "         txNomeParlamentar sgUF sgPartido                   txtDescricao  \\\n",
       "606018  ABELARDO CAMARINHA   SP       PSB  COMBUSTÍVEIS E LUBRIFICANTES.   \n",
       "606019  ABELARDO CAMARINHA   SP       PSB  COMBUSTÍVEIS E LUBRIFICANTES.   \n",
       "606020  ABELARDO CAMARINHA   SP       PSB  COMBUSTÍVEIS E LUBRIFICANTES.   \n",
       "606021  ABELARDO CAMARINHA   SP       PSB  COMBUSTÍVEIS E LUBRIFICANTES.   \n",
       "606022  ABELARDO CAMARINHA   SP       PSB  COMBUSTÍVEIS E LUBRIFICANTES.   \n",
       "\n",
       "        numEspecificacaoSubCota txtDescricaoEspecificacao  \\\n",
       "606018                        1      Veículos Automotores   \n",
       "606019                        1      Veículos Automotores   \n",
       "606020                        1      Veículos Automotores   \n",
       "606021                        1      Veículos Automotores   \n",
       "606022                        1      Veículos Automotores   \n",
       "\n",
       "                    txtFornecedor  numDia  vlrLiquido  numMes  numAno  \\\n",
       "606018       ANDRADE E URIAS LTDA    20.0       50.00       6    2011   \n",
       "606019      AUTO POSTO  ESMERALDA    25.0     4500.00       1    2011   \n",
       "606020  AUTO POSTO 109 NORTE LTDA     4.0       50.00       7    2011   \n",
       "606021  AUTO POSTO AEROPORTO LTDA     2.0       85.01       7    2011   \n",
       "606022  AUTO POSTO AEROPORTO LTDA    16.0       71.00       6    2011   \n",
       "\n",
       "       txtPassageiro txtTrecho  \n",
       "606018           NaN       NaN  \n",
       "606019           NaN       NaN  \n",
       "606020           NaN       NaN  \n",
       "606021           NaN       NaN  \n",
       "606022           NaN       NaN  "
      ]
     },
     "execution_count": 36,
     "metadata": {},
     "output_type": "execute_result"
    }
   ],
   "source": [
    "df_mandato.head()"
   ]
  },
  {
   "cell_type": "code",
   "execution_count": 37,
   "metadata": {},
   "outputs": [
    {
     "name": "stdout",
     "output_type": "stream",
     "text": [
      "Apresentando os 10 candidatos que tiveram o maior gasto durante o mandato:\n"
     ]
    },
    {
     "data": {
      "text/plain": [
       "txNomeParlamentar\n",
       "EDIO LOPES               1768300.45\n",
       "JHONATAN DE JESUS        1755418.47\n",
       "MOREIRA MENDES           1734656.09\n",
       "PERPÉTUA ALMEIDA         1733755.51\n",
       "PAULO CESAR QUARTIERO    1729754.83\n",
       "SILAS CÂMARA             1720887.84\n",
       "RAUL LIMA                1707777.32\n",
       "EVANDRO MILHOMEN         1705871.91\n",
       "GLADSON CAMELI           1693969.07\n",
       "SEBASTIÃO BALA ROCHA     1692725.70\n",
       "Name: vlrLiquido, dtype: float64"
      ]
     },
     "execution_count": 37,
     "metadata": {},
     "output_type": "execute_result"
    }
   ],
   "source": [
    "print('Apresentando os 10 candidatos que tiveram o maior gasto durante o mandato:')\n",
    "df_mandato.groupby('txNomeParlamentar')['vlrLiquido'].sum().sort_values(ascending=False)[:10]"
   ]
  },
  {
   "cell_type": "code",
   "execution_count": 38,
   "metadata": {},
   "outputs": [
    {
     "name": "stdout",
     "output_type": "stream",
     "text": [
      "Apresentando os 10 candidatos que tiveram o menor gasto durante o mandato:\n"
     ]
    },
    {
     "data": {
      "text/plain": [
       "txNomeParlamentar\n",
       "FREIRE JÚNIOR         -1130.82\n",
       "FRANCISCO RODRIGUES    -892.35\n",
       "RICARDO BARROS         -742.46\n",
       "JHC                    -677.55\n",
       "AYRTON XEREZ           -234.34\n",
       "BALEIA ROSSI            -25.73\n",
       "AGNALDO MUNIZ            42.04\n",
       "CASSIO TANIGUCHI        157.89\n",
       "ANTONIO PALOCCI         343.68\n",
       "JULIO SEMEGHINI         429.44\n",
       "Name: vlrLiquido, dtype: float64"
      ]
     },
     "execution_count": 38,
     "metadata": {},
     "output_type": "execute_result"
    }
   ],
   "source": [
    "print('Apresentando os 10 candidatos que tiveram o menor gasto durante o mandato:')\n",
    "menos_gastos = df_mandato.groupby('txNomeParlamentar')['vlrLiquido'].sum().sort_values(ascending=True)[:10]\n",
    "menos_gastos"
   ]
  },
  {
   "cell_type": "markdown",
   "metadata": {},
   "source": [
    "Podemos observar alguns valores negativos, vamos conferir estes casos."
   ]
  },
  {
   "cell_type": "code",
   "execution_count": 39,
   "metadata": {},
   "outputs": [
    {
     "data": {
      "text/html": [
       "<div>\n",
       "<style scoped>\n",
       "    .dataframe tbody tr th:only-of-type {\n",
       "        vertical-align: middle;\n",
       "    }\n",
       "\n",
       "    .dataframe tbody tr th {\n",
       "        vertical-align: top;\n",
       "    }\n",
       "\n",
       "    .dataframe thead th {\n",
       "        text-align: right;\n",
       "    }\n",
       "</style>\n",
       "<table border=\"1\" class=\"dataframe\">\n",
       "  <thead>\n",
       "    <tr style=\"text-align: right;\">\n",
       "      <th></th>\n",
       "      <th>txNomeParlamentar</th>\n",
       "      <th>sgUF</th>\n",
       "      <th>sgPartido</th>\n",
       "      <th>txtDescricao</th>\n",
       "      <th>numEspecificacaoSubCota</th>\n",
       "      <th>txtDescricaoEspecificacao</th>\n",
       "      <th>txtFornecedor</th>\n",
       "      <th>numDia</th>\n",
       "      <th>vlrLiquido</th>\n",
       "      <th>numMes</th>\n",
       "      <th>numAno</th>\n",
       "      <th>txtPassageiro</th>\n",
       "      <th>txtTrecho</th>\n",
       "    </tr>\n",
       "  </thead>\n",
       "  <tbody>\n",
       "    <tr>\n",
       "      <th>738983</th>\n",
       "      <td>FRANCISCO RODRIGUES</td>\n",
       "      <td>RR</td>\n",
       "      <td>DEM</td>\n",
       "      <td>Emissão Bilhete Aéreo</td>\n",
       "      <td>0</td>\n",
       "      <td>NaN</td>\n",
       "      <td>Cia Aérea - GOL</td>\n",
       "      <td>1.0</td>\n",
       "      <td>-1348.62</td>\n",
       "      <td>1</td>\n",
       "      <td>2011</td>\n",
       "      <td>FRANCISCO RODRIGUES</td>\n",
       "      <td>CANCELADO</td>\n",
       "    </tr>\n",
       "    <tr>\n",
       "      <th>918571</th>\n",
       "      <td>RICARDO BARROS</td>\n",
       "      <td>PR</td>\n",
       "      <td>PP</td>\n",
       "      <td>Emissão Bilhete Aéreo</td>\n",
       "      <td>0</td>\n",
       "      <td>NaN</td>\n",
       "      <td>Cia Aérea - GOL</td>\n",
       "      <td>1.0</td>\n",
       "      <td>-580.00</td>\n",
       "      <td>1</td>\n",
       "      <td>2011</td>\n",
       "      <td>RICARDO BARROS</td>\n",
       "      <td>CANCELADO</td>\n",
       "    </tr>\n",
       "    <tr>\n",
       "      <th>918572</th>\n",
       "      <td>RICARDO BARROS</td>\n",
       "      <td>PR</td>\n",
       "      <td>PP</td>\n",
       "      <td>Emissão Bilhete Aéreo</td>\n",
       "      <td>0</td>\n",
       "      <td>NaN</td>\n",
       "      <td>Cia Aérea - GOL</td>\n",
       "      <td>1.0</td>\n",
       "      <td>-518.62</td>\n",
       "      <td>1</td>\n",
       "      <td>2011</td>\n",
       "      <td>RICARDO BARROS</td>\n",
       "      <td>CANCELADO</td>\n",
       "    </tr>\n",
       "    <tr>\n",
       "      <th>1029699</th>\n",
       "      <td>AYRTON XEREZ</td>\n",
       "      <td>RJ</td>\n",
       "      <td>DEM</td>\n",
       "      <td>Emissão Bilhete Aéreo</td>\n",
       "      <td>0</td>\n",
       "      <td>NaN</td>\n",
       "      <td>Cia Aérea - TAM</td>\n",
       "      <td>23.0</td>\n",
       "      <td>-234.34</td>\n",
       "      <td>10</td>\n",
       "      <td>2012</td>\n",
       "      <td>AYRTON XEREZ</td>\n",
       "      <td>BSB/BSB</td>\n",
       "    </tr>\n",
       "    <tr>\n",
       "      <th>1107186</th>\n",
       "      <td>FREIRE JÚNIOR</td>\n",
       "      <td>TO</td>\n",
       "      <td>MDB</td>\n",
       "      <td>Emissão Bilhete Aéreo</td>\n",
       "      <td>0</td>\n",
       "      <td>NaN</td>\n",
       "      <td>Cia Aérea - TAM</td>\n",
       "      <td>23.0</td>\n",
       "      <td>-1130.82</td>\n",
       "      <td>10</td>\n",
       "      <td>2012</td>\n",
       "      <td>FREIRE JÚNIOR</td>\n",
       "      <td>BSB/BSB</td>\n",
       "    </tr>\n",
       "    <tr>\n",
       "      <th>1739063</th>\n",
       "      <td>BALEIA ROSSI</td>\n",
       "      <td>SP</td>\n",
       "      <td>MDB</td>\n",
       "      <td>Emissão Bilhete Aéreo</td>\n",
       "      <td>0</td>\n",
       "      <td>NaN</td>\n",
       "      <td>Cia Aérea - PASSAREDO</td>\n",
       "      <td>15.0</td>\n",
       "      <td>-25.73</td>\n",
       "      <td>3</td>\n",
       "      <td>2014</td>\n",
       "      <td>BALEIA ROSSI</td>\n",
       "      <td>BSB/RAO</td>\n",
       "    </tr>\n",
       "    <tr>\n",
       "      <th>1845594</th>\n",
       "      <td>JHC</td>\n",
       "      <td>AL</td>\n",
       "      <td>PSB</td>\n",
       "      <td>Emissão Bilhete Aéreo</td>\n",
       "      <td>0</td>\n",
       "      <td>NaN</td>\n",
       "      <td>Cia Aérea - TAM</td>\n",
       "      <td>22.0</td>\n",
       "      <td>-677.55</td>\n",
       "      <td>1</td>\n",
       "      <td>2014</td>\n",
       "      <td>JHC</td>\n",
       "      <td>SDU/BSB</td>\n",
       "    </tr>\n",
       "  </tbody>\n",
       "</table>\n",
       "</div>"
      ],
      "text/plain": [
       "           txNomeParlamentar sgUF sgPartido           txtDescricao  \\\n",
       "738983   FRANCISCO RODRIGUES   RR       DEM  Emissão Bilhete Aéreo   \n",
       "918571        RICARDO BARROS   PR        PP  Emissão Bilhete Aéreo   \n",
       "918572        RICARDO BARROS   PR        PP  Emissão Bilhete Aéreo   \n",
       "1029699         AYRTON XEREZ   RJ       DEM  Emissão Bilhete Aéreo   \n",
       "1107186        FREIRE JÚNIOR   TO       MDB  Emissão Bilhete Aéreo   \n",
       "1739063         BALEIA ROSSI   SP       MDB  Emissão Bilhete Aéreo   \n",
       "1845594                  JHC   AL       PSB  Emissão Bilhete Aéreo   \n",
       "\n",
       "         numEspecificacaoSubCota txtDescricaoEspecificacao  \\\n",
       "738983                         0                       NaN   \n",
       "918571                         0                       NaN   \n",
       "918572                         0                       NaN   \n",
       "1029699                        0                       NaN   \n",
       "1107186                        0                       NaN   \n",
       "1739063                        0                       NaN   \n",
       "1845594                        0                       NaN   \n",
       "\n",
       "                 txtFornecedor  numDia  vlrLiquido  numMes  numAno  \\\n",
       "738983         Cia Aérea - GOL     1.0    -1348.62       1    2011   \n",
       "918571         Cia Aérea - GOL     1.0     -580.00       1    2011   \n",
       "918572         Cia Aérea - GOL     1.0     -518.62       1    2011   \n",
       "1029699        Cia Aérea - TAM    23.0     -234.34      10    2012   \n",
       "1107186        Cia Aérea - TAM    23.0    -1130.82      10    2012   \n",
       "1739063  Cia Aérea - PASSAREDO    15.0      -25.73       3    2014   \n",
       "1845594        Cia Aérea - TAM    22.0     -677.55       1    2014   \n",
       "\n",
       "               txtPassageiro  txtTrecho  \n",
       "738983   FRANCISCO RODRIGUES  CANCELADO  \n",
       "918571        RICARDO BARROS  CANCELADO  \n",
       "918572        RICARDO BARROS  CANCELADO  \n",
       "1029699         AYRTON XEREZ    BSB/BSB  \n",
       "1107186        FREIRE JÚNIOR    BSB/BSB  \n",
       "1739063         BALEIA ROSSI    BSB/RAO  \n",
       "1845594                  JHC    SDU/BSB  "
      ]
     },
     "execution_count": 39,
     "metadata": {},
     "output_type": "execute_result"
    }
   ],
   "source": [
    "negativo = menos_gastos[menos_gastos < 0]\n",
    "df_mandato[(df_mandato['txNomeParlamentar'].isin(negativo.index)) & (df_mandato['vlrLiquido'] < 0)]"
   ]
  },
  {
   "cell_type": "markdown",
   "metadata": {},
   "source": [
    "Temos registros de passagens areas canceladas e que foram lançadas com valor negativo, algumas marcadas como _CANCELADO_ em __txtTrecho__ e outras não, o que não nos permite ter uma ideia exata do porque dos valores negativos nestas linhas"
   ]
  },
  {
   "cell_type": "markdown",
   "metadata": {},
   "source": [
    "### c. Quais são as categorias de despesas mais onerosas dentre os recursos destinados às cotas parlamentares?"
   ]
  },
  {
   "cell_type": "code",
   "execution_count": 40,
   "metadata": {},
   "outputs": [],
   "source": [
    "categorias = df_mandato.groupby('txtDescricao')['vlrLiquido'].sum()"
   ]
  },
  {
   "cell_type": "markdown",
   "metadata": {},
   "source": [
    "Para facilitar a visualização, iremos converter os valores para inteiro"
   ]
  },
  {
   "cell_type": "code",
   "execution_count": 41,
   "metadata": {},
   "outputs": [],
   "source": [
    "categorias = categorias.astype(int)"
   ]
  },
  {
   "cell_type": "code",
   "execution_count": 42,
   "metadata": {},
   "outputs": [
    {
     "data": {
      "text/plain": [
       "txtDescricao\n",
       "Emissão Bilhete Aéreo                                           152828982\n",
       "DIVULGAÇÃO DA ATIVIDADE PARLAMENTAR.                            146196853\n",
       "TELEFONIA                                                        82038601\n",
       "MANUTENÇÃO DE ESCRITÓRIO DE APOIO À ATIVIDADE PARLAMENTAR        70815868\n",
       "LOCAÇÃO DE VEÍCULOS AUTOMOTORES OU FRETAMENTO DE EMBARCAÇÕES     65527839\n",
       "COMBUSTÍVEIS E LUBRIFICANTES.                                    63972452\n",
       "CONSULTORIAS, PESQUISAS E TRABALHOS TÉCNICOS.                    63878042\n",
       "SERVIÇOS POSTAIS                                                 21232845\n",
       "LOCAÇÃO OU FRETAMENTO DE VEÍCULOS AUTOMOTORES                    18270282\n",
       "PASSAGENS AÉREAS                                                 15693136\n",
       "HOSPEDAGEM ,EXCETO DO PARLAMENTAR NO DISTRITO FEDERAL.            7368551\n",
       "FORNECIMENTO DE ALIMENTAÇÃO DO PARLAMENTAR                        6686366\n",
       "LOCAÇÃO OU FRETAMENTO DE AERONAVES                                5890628\n",
       "SERVIÇO DE SEGURANÇA PRESTADO POR EMPRESA ESPECIALIZADA.          5019779\n",
       "ASSINATURA DE PUBLICAÇÕES                                          813999\n",
       "SERVIÇO DE TÁXI, PEDÁGIO E ESTACIONAMENTO                          644026\n",
       "LOCAÇÃO OU FRETAMENTO DE EMBARCAÇÕES                               343457\n",
       "PASSAGENS TERRESTRES, MARÍTIMAS OU FLUVIAIS                         74198\n",
       "Name: vlrLiquido, dtype: int32"
      ]
     },
     "execution_count": 42,
     "metadata": {},
     "output_type": "execute_result"
    }
   ],
   "source": [
    "categorias.sort_values(ascending=False)"
   ]
  },
  {
   "cell_type": "markdown",
   "metadata": {},
   "source": [
    "Podemos ver que as categorias mais onerosas são __Emissão Bilhete Aéreo__ e __DIVULGAÇÃO DA ATIVIDADE PARLAMENTAR__"
   ]
  },
  {
   "cell_type": "markdown",
   "metadata": {},
   "source": [
    "### d. Qual é o custo per capita de um parlamentar em cada unidade da federação? (considerando somente as despesas de cota parlamentar)"
   ]
  },
  {
   "cell_type": "markdown",
   "metadata": {},
   "source": [
    "Para realizar o calculo do curso per capita em cada unidade da federação, iremos utilizar uma base de dados obitida no site do [IBGE](https://www.ibge.gov.br/estatisticas-novoportal/sociais/populacao/9103-estimativas-de-populacao.html?edicao=16985&t=resultados)"
   ]
  },
  {
   "cell_type": "code",
   "execution_count": 43,
   "metadata": {},
   "outputs": [
    {
     "data": {
      "text/html": [
       "<div>\n",
       "<style scoped>\n",
       "    .dataframe tbody tr th:only-of-type {\n",
       "        vertical-align: middle;\n",
       "    }\n",
       "\n",
       "    .dataframe tbody tr th {\n",
       "        vertical-align: top;\n",
       "    }\n",
       "\n",
       "    .dataframe thead th {\n",
       "        text-align: right;\n",
       "    }\n",
       "</style>\n",
       "<table border=\"1\" class=\"dataframe\">\n",
       "  <thead>\n",
       "    <tr style=\"text-align: right;\">\n",
       "      <th></th>\n",
       "      <th>sgUF</th>\n",
       "      <th>codUF</th>\n",
       "      <th>codMUN</th>\n",
       "      <th>MUN</th>\n",
       "      <th>POP</th>\n",
       "    </tr>\n",
       "  </thead>\n",
       "  <tbody>\n",
       "    <tr>\n",
       "      <th>0</th>\n",
       "      <td>RO</td>\n",
       "      <td>11</td>\n",
       "      <td>15</td>\n",
       "      <td>Alta Floresta D'Oeste</td>\n",
       "      <td>25.437</td>\n",
       "    </tr>\n",
       "    <tr>\n",
       "      <th>1</th>\n",
       "      <td>RO</td>\n",
       "      <td>11</td>\n",
       "      <td>23</td>\n",
       "      <td>Ariquemes</td>\n",
       "      <td>107.345</td>\n",
       "    </tr>\n",
       "    <tr>\n",
       "      <th>2</th>\n",
       "      <td>RO</td>\n",
       "      <td>11</td>\n",
       "      <td>31</td>\n",
       "      <td>Cabixi</td>\n",
       "      <td>6.224</td>\n",
       "    </tr>\n",
       "    <tr>\n",
       "      <th>3</th>\n",
       "      <td>RO</td>\n",
       "      <td>11</td>\n",
       "      <td>49</td>\n",
       "      <td>Cacoal</td>\n",
       "      <td>88.507</td>\n",
       "    </tr>\n",
       "    <tr>\n",
       "      <th>4</th>\n",
       "      <td>RO</td>\n",
       "      <td>11</td>\n",
       "      <td>56</td>\n",
       "      <td>Cerejeiras</td>\n",
       "      <td>17.934</td>\n",
       "    </tr>\n",
       "  </tbody>\n",
       "</table>\n",
       "</div>"
      ],
      "text/plain": [
       "  sgUF  codUF  codMUN                    MUN       POP\n",
       "0   RO     11      15  Alta Floresta D'Oeste   25.437 \n",
       "1   RO     11      23              Ariquemes  107.345 \n",
       "2   RO     11      31                 Cabixi    6.224 \n",
       "3   RO     11      49                 Cacoal   88.507 \n",
       "4   RO     11      56             Cerejeiras   17.934 "
      ]
     },
     "execution_count": 43,
     "metadata": {},
     "output_type": "execute_result"
    }
   ],
   "source": [
    "colunas = ['sgUF','codUF','codMUN','MUN','POP']\n",
    "df_pop = pd.read_csv('pop_brasil.csv', sep=';', encoding='cp1252')\n",
    "df_pop.columns = colunas\n",
    "df_pop.head()"
   ]
  },
  {
   "cell_type": "code",
   "execution_count": 44,
   "metadata": {},
   "outputs": [],
   "source": [
    "# Limpando os dados para conversão da coluna POP para inteiro\n",
    "pop = df_pop['POP']\n",
    "pop = pop.str.replace(' ','')\n",
    "pop = pop.str.replace('.','')\n",
    "pop = pop.str.replace(',00','')\n",
    "pop = pop.astype(int)"
   ]
  },
  {
   "cell_type": "code",
   "execution_count": 45,
   "metadata": {},
   "outputs": [],
   "source": [
    "# Atualizando a coluna POP\n",
    "df_pop['POP'] = pop"
   ]
  },
  {
   "cell_type": "code",
   "execution_count": 46,
   "metadata": {},
   "outputs": [],
   "source": [
    "# Criando um df com o total de população por UF\n",
    "df_pop_total = pd.DataFrame(df_pop.groupby('sgUF')['POP'].sum())"
   ]
  },
  {
   "cell_type": "code",
   "execution_count": 47,
   "metadata": {},
   "outputs": [],
   "source": [
    "# Criando um DF com o total de gastos por UF\n",
    "df_cotas_uf = pd.DataFrame(df_cotas.groupby('sgUF')['vlrLiquido'].sum().astype(int))"
   ]
  },
  {
   "cell_type": "code",
   "execution_count": 48,
   "metadata": {},
   "outputs": [],
   "source": [
    "# Incluindo as informações do df de população ao df de cotas\n",
    "df_cotas_uf = df_cotas_uf.merge(df_pop_total, on='sgUF')"
   ]
  },
  {
   "cell_type": "code",
   "execution_count": 49,
   "metadata": {},
   "outputs": [],
   "source": [
    "# Criando a coluna com o valor perCapita (dividindo o valor total pelo total da população por UF)\n",
    "df_cotas_uf['perCapita'] = df_cotas_uf['vlrLiquido'] / df_cotas_uf['POP']"
   ]
  },
  {
   "cell_type": "code",
   "execution_count": 50,
   "metadata": {},
   "outputs": [
    {
     "data": {
      "image/png": "[encoded data removed]",
      "text/plain": [
       "<Figure size 720x360 with 1 Axes>"
      ]
     },
     "metadata": {
      "needs_background": "light"
     },
     "output_type": "display_data"
    }
   ],
   "source": [
    "df_cotas_uf['perCapita'].sort_values().plot(kind='bar', figsize=(10,5))\n",
    "plt.title('Custo per capita de um parlamentar em cada unidade da federação')\n",
    "plt.xlabel('')\n",
    "plt.ylabel('Valor');"
   ]
  },
  {
   "cell_type": "code",
   "execution_count": 51,
   "metadata": {},
   "outputs": [
    {
     "data": {
      "image/png": "[encoded data removed]",
      "text/plain": [
       "<Figure size 432x288 with 1 Axes>"
      ]
     },
     "metadata": {
      "needs_background": "light"
     },
     "output_type": "display_data"
    }
   ],
   "source": [
    "plt.scatter(df_cotas_uf['perCapita'],df_cotas_uf['POP'])\n",
    "plt.title('Distribuição do valor perCapita x População')\n",
    "plt.xlabel('Valor R$')\n",
    "plt.ylabel('População - x10 Milhões');"
   ]
  },
  {
   "cell_type": "markdown",
   "metadata": {},
   "source": [
    "Pelo gráfico de destribuição podemos verificar uma relação entre o _Total da População_ e o _Custo Per Capita_, pois __as cidades com maiores valores de custo possuem uma população menor__."
   ]
  },
  {
   "cell_type": "markdown",
   "metadata": {},
   "source": [
    "### Outras analises"
   ]
  },
  {
   "cell_type": "code",
   "execution_count": 52,
   "metadata": {},
   "outputs": [
    {
     "data": {
      "text/html": [
       "<div>\n",
       "<style scoped>\n",
       "    .dataframe tbody tr th:only-of-type {\n",
       "        vertical-align: middle;\n",
       "    }\n",
       "\n",
       "    .dataframe tbody tr th {\n",
       "        vertical-align: top;\n",
       "    }\n",
       "\n",
       "    .dataframe thead th {\n",
       "        text-align: right;\n",
       "    }\n",
       "</style>\n",
       "<table border=\"1\" class=\"dataframe\">\n",
       "  <thead>\n",
       "    <tr style=\"text-align: right;\">\n",
       "      <th></th>\n",
       "      <th>txNomeParlamentar</th>\n",
       "      <th>sgUF</th>\n",
       "      <th>sgPartido</th>\n",
       "      <th>txtDescricao</th>\n",
       "      <th>numEspecificacaoSubCota</th>\n",
       "      <th>txtDescricaoEspecificacao</th>\n",
       "      <th>txtFornecedor</th>\n",
       "      <th>numDia</th>\n",
       "      <th>vlrLiquido</th>\n",
       "      <th>numMes</th>\n",
       "      <th>numAno</th>\n",
       "      <th>txtPassageiro</th>\n",
       "      <th>txtTrecho</th>\n",
       "    </tr>\n",
       "  </thead>\n",
       "  <tbody>\n",
       "    <tr>\n",
       "      <th>0</th>\n",
       "      <td>ABELARDO CAMARINHA</td>\n",
       "      <td>SP</td>\n",
       "      <td>PSB</td>\n",
       "      <td>MANUTENÇÃO DE ESCRITÓRIO DE APOIO À ATIVIDADE ...</td>\n",
       "      <td>0</td>\n",
       "      <td>NaN</td>\n",
       "      <td>TIM CELULAR S/A</td>\n",
       "      <td>19.0</td>\n",
       "      <td>411.51</td>\n",
       "      <td>5</td>\n",
       "      <td>2009</td>\n",
       "      <td>NaN</td>\n",
       "      <td>NaN</td>\n",
       "    </tr>\n",
       "    <tr>\n",
       "      <th>1</th>\n",
       "      <td>ABELARDO CAMARINHA</td>\n",
       "      <td>SP</td>\n",
       "      <td>PSB</td>\n",
       "      <td>MANUTENÇÃO DE ESCRITÓRIO DE APOIO À ATIVIDADE ...</td>\n",
       "      <td>0</td>\n",
       "      <td>NaN</td>\n",
       "      <td>TIM CELULAR S/A</td>\n",
       "      <td>19.0</td>\n",
       "      <td>429.09</td>\n",
       "      <td>5</td>\n",
       "      <td>2009</td>\n",
       "      <td>NaN</td>\n",
       "      <td>NaN</td>\n",
       "    </tr>\n",
       "    <tr>\n",
       "      <th>2</th>\n",
       "      <td>ABELARDO CAMARINHA</td>\n",
       "      <td>SP</td>\n",
       "      <td>PSB</td>\n",
       "      <td>MANUTENÇÃO DE ESCRITÓRIO DE APOIO À ATIVIDADE ...</td>\n",
       "      <td>0</td>\n",
       "      <td>NaN</td>\n",
       "      <td>TIM CELULAR S/A</td>\n",
       "      <td>19.0</td>\n",
       "      <td>109.79</td>\n",
       "      <td>5</td>\n",
       "      <td>2009</td>\n",
       "      <td>NaN</td>\n",
       "      <td>NaN</td>\n",
       "    </tr>\n",
       "    <tr>\n",
       "      <th>3</th>\n",
       "      <td>ABELARDO CAMARINHA</td>\n",
       "      <td>SP</td>\n",
       "      <td>PSB</td>\n",
       "      <td>MANUTENÇÃO DE ESCRITÓRIO DE APOIO À ATIVIDADE ...</td>\n",
       "      <td>0</td>\n",
       "      <td>NaN</td>\n",
       "      <td>TIM CELULAR S/A</td>\n",
       "      <td>19.0</td>\n",
       "      <td>68.14</td>\n",
       "      <td>5</td>\n",
       "      <td>2009</td>\n",
       "      <td>NaN</td>\n",
       "      <td>NaN</td>\n",
       "    </tr>\n",
       "    <tr>\n",
       "      <th>4</th>\n",
       "      <td>ABELARDO CAMARINHA</td>\n",
       "      <td>SP</td>\n",
       "      <td>PSB</td>\n",
       "      <td>COMBUSTÍVEIS E LUBRIFICANTES.</td>\n",
       "      <td>1</td>\n",
       "      <td>Veículos Automotores</td>\n",
       "      <td>AUTO POSTO ALVORADA</td>\n",
       "      <td>25.0</td>\n",
       "      <td>4395.36</td>\n",
       "      <td>9</td>\n",
       "      <td>2009</td>\n",
       "      <td>NaN</td>\n",
       "      <td>NaN</td>\n",
       "    </tr>\n",
       "  </tbody>\n",
       "</table>\n",
       "</div>"
      ],
      "text/plain": [
       "    txNomeParlamentar sgUF sgPartido  \\\n",
       "0  ABELARDO CAMARINHA   SP       PSB   \n",
       "1  ABELARDO CAMARINHA   SP       PSB   \n",
       "2  ABELARDO CAMARINHA   SP       PSB   \n",
       "3  ABELARDO CAMARINHA   SP       PSB   \n",
       "4  ABELARDO CAMARINHA   SP       PSB   \n",
       "\n",
       "                                        txtDescricao  numEspecificacaoSubCota  \\\n",
       "0  MANUTENÇÃO DE ESCRITÓRIO DE APOIO À ATIVIDADE ...                        0   \n",
       "1  MANUTENÇÃO DE ESCRITÓRIO DE APOIO À ATIVIDADE ...                        0   \n",
       "2  MANUTENÇÃO DE ESCRITÓRIO DE APOIO À ATIVIDADE ...                        0   \n",
       "3  MANUTENÇÃO DE ESCRITÓRIO DE APOIO À ATIVIDADE ...                        0   \n",
       "4                      COMBUSTÍVEIS E LUBRIFICANTES.                        1   \n",
       "\n",
       "  txtDescricaoEspecificacao        txtFornecedor  numDia  vlrLiquido  numMes  \\\n",
       "0                       NaN      TIM CELULAR S/A    19.0      411.51       5   \n",
       "1                       NaN      TIM CELULAR S/A    19.0      429.09       5   \n",
       "2                       NaN      TIM CELULAR S/A    19.0      109.79       5   \n",
       "3                       NaN      TIM CELULAR S/A    19.0       68.14       5   \n",
       "4      Veículos Automotores  AUTO POSTO ALVORADA    25.0     4395.36       9   \n",
       "\n",
       "   numAno txtPassageiro txtTrecho  \n",
       "0    2009           NaN       NaN  \n",
       "1    2009           NaN       NaN  \n",
       "2    2009           NaN       NaN  \n",
       "3    2009           NaN       NaN  \n",
       "4    2009           NaN       NaN  "
      ]
     },
     "execution_count": 52,
     "metadata": {},
     "output_type": "execute_result"
    }
   ],
   "source": [
    "df_cotas.head()"
   ]
  },
  {
   "cell_type": "markdown",
   "metadata": {},
   "source": [
    "Vamos analisar os registros com maior numero de ocorrencias em cada coluna, utilizando os dados obtidos pelo [describe](https://pandas.pydata.org/pandas-docs/stable/generated/pandas.DataFrame.describe.html)"
   ]
  },
  {
   "cell_type": "code",
   "execution_count": 53,
   "metadata": {},
   "outputs": [
    {
     "data": {
      "text/html": [
       "<div>\n",
       "<style scoped>\n",
       "    .dataframe tbody tr th:only-of-type {\n",
       "        vertical-align: middle;\n",
       "    }\n",
       "\n",
       "    .dataframe tbody tr th {\n",
       "        vertical-align: top;\n",
       "    }\n",
       "\n",
       "    .dataframe thead th {\n",
       "        text-align: right;\n",
       "    }\n",
       "</style>\n",
       "<table border=\"1\" class=\"dataframe\">\n",
       "  <thead>\n",
       "    <tr style=\"text-align: right;\">\n",
       "      <th></th>\n",
       "      <th>txNomeParlamentar</th>\n",
       "      <th>sgUF</th>\n",
       "      <th>sgPartido</th>\n",
       "      <th>txtDescricao</th>\n",
       "      <th>numEspecificacaoSubCota</th>\n",
       "      <th>txtDescricaoEspecificacao</th>\n",
       "      <th>txtFornecedor</th>\n",
       "      <th>numDia</th>\n",
       "      <th>vlrLiquido</th>\n",
       "      <th>numMes</th>\n",
       "      <th>numAno</th>\n",
       "      <th>txtPassageiro</th>\n",
       "      <th>txtTrecho</th>\n",
       "    </tr>\n",
       "  </thead>\n",
       "  <tbody>\n",
       "    <tr>\n",
       "      <th>count</th>\n",
       "      <td>3105148</td>\n",
       "      <td>3101362</td>\n",
       "      <td>3101362</td>\n",
       "      <td>3105148</td>\n",
       "      <td>3.105148e+06</td>\n",
       "      <td>651200</td>\n",
       "      <td>3105148</td>\n",
       "      <td>3.060694e+06</td>\n",
       "      <td>3.105148e+06</td>\n",
       "      <td>3.105148e+06</td>\n",
       "      <td>3.105148e+06</td>\n",
       "      <td>818667</td>\n",
       "      <td>832103</td>\n",
       "    </tr>\n",
       "    <tr>\n",
       "      <th>unique</th>\n",
       "      <td>1188</td>\n",
       "      <td>27</td>\n",
       "      <td>34</td>\n",
       "      <td>22</td>\n",
       "      <td>NaN</td>\n",
       "      <td>4</td>\n",
       "      <td>194300</td>\n",
       "      <td>NaN</td>\n",
       "      <td>NaN</td>\n",
       "      <td>NaN</td>\n",
       "      <td>NaN</td>\n",
       "      <td>31363</td>\n",
       "      <td>19889</td>\n",
       "    </tr>\n",
       "    <tr>\n",
       "      <th>top</th>\n",
       "      <td>VANDERLEI MACRIS</td>\n",
       "      <td>SP</td>\n",
       "      <td>PT</td>\n",
       "      <td>Emissão Bilhete Aéreo</td>\n",
       "      <td>NaN</td>\n",
       "      <td>Veículos Automotores</td>\n",
       "      <td>Cia Aérea - GOL</td>\n",
       "      <td>NaN</td>\n",
       "      <td>NaN</td>\n",
       "      <td>NaN</td>\n",
       "      <td>NaN</td>\n",
       "      <td>FELIPE BORNIER</td>\n",
       "      <td>BSB/BSB</td>\n",
       "    </tr>\n",
       "    <tr>\n",
       "      <th>freq</th>\n",
       "      <td>16228</td>\n",
       "      <td>500145</td>\n",
       "      <td>479056</td>\n",
       "      <td>812550</td>\n",
       "      <td>NaN</td>\n",
       "      <td>628615</td>\n",
       "      <td>331210</td>\n",
       "      <td>NaN</td>\n",
       "      <td>NaN</td>\n",
       "      <td>NaN</td>\n",
       "      <td>NaN</td>\n",
       "      <td>4360</td>\n",
       "      <td>116409</td>\n",
       "    </tr>\n",
       "    <tr>\n",
       "      <th>mean</th>\n",
       "      <td>NaN</td>\n",
       "      <td>NaN</td>\n",
       "      <td>NaN</td>\n",
       "      <td>NaN</td>\n",
       "      <td>2.305413e-01</td>\n",
       "      <td>NaN</td>\n",
       "      <td>NaN</td>\n",
       "      <td>1.510290e+01</td>\n",
       "      <td>5.339915e+02</td>\n",
       "      <td>6.658805e+00</td>\n",
       "      <td>2.013106e+03</td>\n",
       "      <td>NaN</td>\n",
       "      <td>NaN</td>\n",
       "    </tr>\n",
       "    <tr>\n",
       "      <th>std</th>\n",
       "      <td>NaN</td>\n",
       "      <td>NaN</td>\n",
       "      <td>NaN</td>\n",
       "      <td>NaN</td>\n",
       "      <td>5.089532e-01</td>\n",
       "      <td>NaN</td>\n",
       "      <td>NaN</td>\n",
       "      <td>8.893370e+00</td>\n",
       "      <td>1.895129e+03</td>\n",
       "      <td>3.289932e+00</td>\n",
       "      <td>2.515553e+00</td>\n",
       "      <td>NaN</td>\n",
       "      <td>NaN</td>\n",
       "    </tr>\n",
       "    <tr>\n",
       "      <th>min</th>\n",
       "      <td>NaN</td>\n",
       "      <td>NaN</td>\n",
       "      <td>NaN</td>\n",
       "      <td>NaN</td>\n",
       "      <td>0.000000e+00</td>\n",
       "      <td>NaN</td>\n",
       "      <td>NaN</td>\n",
       "      <td>1.000000e+00</td>\n",
       "      <td>-2.097470e+04</td>\n",
       "      <td>1.000000e+00</td>\n",
       "      <td>2.009000e+03</td>\n",
       "      <td>NaN</td>\n",
       "      <td>NaN</td>\n",
       "    </tr>\n",
       "    <tr>\n",
       "      <th>25%</th>\n",
       "      <td>NaN</td>\n",
       "      <td>NaN</td>\n",
       "      <td>NaN</td>\n",
       "      <td>NaN</td>\n",
       "      <td>0.000000e+00</td>\n",
       "      <td>NaN</td>\n",
       "      <td>NaN</td>\n",
       "      <td>7.000000e+00</td>\n",
       "      <td>4.235000e+01</td>\n",
       "      <td>4.000000e+00</td>\n",
       "      <td>2.011000e+03</td>\n",
       "      <td>NaN</td>\n",
       "      <td>NaN</td>\n",
       "    </tr>\n",
       "    <tr>\n",
       "      <th>50%</th>\n",
       "      <td>NaN</td>\n",
       "      <td>NaN</td>\n",
       "      <td>NaN</td>\n",
       "      <td>NaN</td>\n",
       "      <td>0.000000e+00</td>\n",
       "      <td>NaN</td>\n",
       "      <td>NaN</td>\n",
       "      <td>1.500000e+01</td>\n",
       "      <td>1.260700e+02</td>\n",
       "      <td>7.000000e+00</td>\n",
       "      <td>2.013000e+03</td>\n",
       "      <td>NaN</td>\n",
       "      <td>NaN</td>\n",
       "    </tr>\n",
       "    <tr>\n",
       "      <th>75%</th>\n",
       "      <td>NaN</td>\n",
       "      <td>NaN</td>\n",
       "      <td>NaN</td>\n",
       "      <td>NaN</td>\n",
       "      <td>0.000000e+00</td>\n",
       "      <td>NaN</td>\n",
       "      <td>NaN</td>\n",
       "      <td>2.300000e+01</td>\n",
       "      <td>4.386200e+02</td>\n",
       "      <td>1.000000e+01</td>\n",
       "      <td>2.015000e+03</td>\n",
       "      <td>NaN</td>\n",
       "      <td>NaN</td>\n",
       "    </tr>\n",
       "    <tr>\n",
       "      <th>max</th>\n",
       "      <td>NaN</td>\n",
       "      <td>NaN</td>\n",
       "      <td>NaN</td>\n",
       "      <td>NaN</td>\n",
       "      <td>4.000000e+00</td>\n",
       "      <td>NaN</td>\n",
       "      <td>NaN</td>\n",
       "      <td>3.100000e+01</td>\n",
       "      <td>2.150000e+05</td>\n",
       "      <td>1.200000e+01</td>\n",
       "      <td>2.017000e+03</td>\n",
       "      <td>NaN</td>\n",
       "      <td>NaN</td>\n",
       "    </tr>\n",
       "  </tbody>\n",
       "</table>\n",
       "</div>"
      ],
      "text/plain": [
       "       txNomeParlamentar     sgUF sgPartido           txtDescricao  \\\n",
       "count            3105148  3101362   3101362                3105148   \n",
       "unique              1188       27        34                     22   \n",
       "top     VANDERLEI MACRIS       SP        PT  Emissão Bilhete Aéreo   \n",
       "freq               16228   500145    479056                 812550   \n",
       "mean                 NaN      NaN       NaN                    NaN   \n",
       "std                  NaN      NaN       NaN                    NaN   \n",
       "min                  NaN      NaN       NaN                    NaN   \n",
       "25%                  NaN      NaN       NaN                    NaN   \n",
       "50%                  NaN      NaN       NaN                    NaN   \n",
       "75%                  NaN      NaN       NaN                    NaN   \n",
       "max                  NaN      NaN       NaN                    NaN   \n",
       "\n",
       "        numEspecificacaoSubCota txtDescricaoEspecificacao    txtFornecedor  \\\n",
       "count              3.105148e+06                    651200          3105148   \n",
       "unique                      NaN                         4           194300   \n",
       "top                         NaN      Veículos Automotores  Cia Aérea - GOL   \n",
       "freq                        NaN                    628615           331210   \n",
       "mean               2.305413e-01                       NaN              NaN   \n",
       "std                5.089532e-01                       NaN              NaN   \n",
       "min                0.000000e+00                       NaN              NaN   \n",
       "25%                0.000000e+00                       NaN              NaN   \n",
       "50%                0.000000e+00                       NaN              NaN   \n",
       "75%                0.000000e+00                       NaN              NaN   \n",
       "max                4.000000e+00                       NaN              NaN   \n",
       "\n",
       "              numDia    vlrLiquido        numMes        numAno  \\\n",
       "count   3.060694e+06  3.105148e+06  3.105148e+06  3.105148e+06   \n",
       "unique           NaN           NaN           NaN           NaN   \n",
       "top              NaN           NaN           NaN           NaN   \n",
       "freq             NaN           NaN           NaN           NaN   \n",
       "mean    1.510290e+01  5.339915e+02  6.658805e+00  2.013106e+03   \n",
       "std     8.893370e+00  1.895129e+03  3.289932e+00  2.515553e+00   \n",
       "min     1.000000e+00 -2.097470e+04  1.000000e+00  2.009000e+03   \n",
       "25%     7.000000e+00  4.235000e+01  4.000000e+00  2.011000e+03   \n",
       "50%     1.500000e+01  1.260700e+02  7.000000e+00  2.013000e+03   \n",
       "75%     2.300000e+01  4.386200e+02  1.000000e+01  2.015000e+03   \n",
       "max     3.100000e+01  2.150000e+05  1.200000e+01  2.017000e+03   \n",
       "\n",
       "         txtPassageiro txtTrecho  \n",
       "count           818667    832103  \n",
       "unique           31363     19889  \n",
       "top     FELIPE BORNIER   BSB/BSB  \n",
       "freq              4360    116409  \n",
       "mean               NaN       NaN  \n",
       "std                NaN       NaN  \n",
       "min                NaN       NaN  \n",
       "25%                NaN       NaN  \n",
       "50%                NaN       NaN  \n",
       "75%                NaN       NaN  \n",
       "max                NaN       NaN  "
      ]
     },
     "execution_count": 53,
     "metadata": {},
     "output_type": "execute_result"
    }
   ],
   "source": [
    "df_cotas.describe(include='all')"
   ]
  },
  {
   "cell_type": "code",
   "execution_count": 54,
   "metadata": {},
   "outputs": [],
   "source": [
    "# Filtro com os maiores valores indicados pelo describe, para utilizar nas próximas analises\n",
    "\n",
    "parlamentar = df_cotas['txNomeParlamentar'] == 'VANDERLEI MACRIS'\n",
    "servico = df_cotas['txtDescricao'] == 'Emissão Bilhete Aéreo'\n",
    "fornecedor = df_cotas['txtFornecedor'] == 'Cia Aérea - GOL'\n",
    "passageiro = df_cotas['txtPassageiro'] == 'FELIPE BORNIER'\n",
    "uf = df_cotas['sgUF'] == 'SP'\n",
    "partido = df_cotas['sgPartido'] == 'PT'"
   ]
  },
  {
   "cell_type": "code",
   "execution_count": 55,
   "metadata": {},
   "outputs": [],
   "source": [
    "def plotar(filtro):\n",
    "    \"\"\"\n",
    "    Função para plotar um gráfico\n",
    "    Paramentros:\n",
    "    filtro - variavel que possui filtro que será aplicado ao gráfico\n",
    "    retorna:\n",
    "    Plota um gráfico de linhas após aplicar o filtro, agrupar os dados por ano e somar os valores.\n",
    "    \"\"\"\n",
    "    return df_cotas[filtro].groupby('numAno')['vlrLiquido'].sum().plot()"
   ]
  },
  {
   "cell_type": "code",
   "execution_count": 56,
   "metadata": {},
   "outputs": [],
   "source": [
    "# Dados para descrição\n",
    "def descreve(filtro):\n",
    "    \"\"\"\n",
    "    Função para descrever os dados apresentados no gráfico\n",
    "    Paramentros:\n",
    "    filtro - variavel que possui filtro que será aplicado ao gráfico\n",
    "    retorna:\n",
    "    Texto descrevendo as informações apresentadas no gráfico    \n",
    "    \"\"\"\n",
    "    valor_min = df_cotas[filtro].groupby('numAno')['vlrLiquido'].sum().min()\n",
    "    vmin_ano = df_cotas[filtro].groupby('numAno')['vlrLiquido'].sum().idxmin()\n",
    "    valor_max = df_cotas[filtro].groupby('numAno')['vlrLiquido'].sum().max()\n",
    "    vmax_ano = df_cotas[filtro].groupby('numAno')['vlrLiquido'].sum().idxmax()\n",
    "    valor_varia = ((valor_max - valor_min) / valor_min) * 100\n",
    "    print('Teve uma variação de {:.2f}% entre os anos de {} e {}, partindo de um gasto de R$ {:.2f} para R$ {:.2f}'\n",
    "         .format(valor_varia,vmin_ano,vmax_ano,valor_min,valor_max))    "
   ]
  },
  {
   "cell_type": "markdown",
   "metadata": {},
   "source": [
    "### Parlamentar\n",
    "Podemos observar que __VANDERLEI MACRIS__ possui o maior numero de ocorrencias em nosso df, vamos analisar seus gastos."
   ]
  },
  {
   "cell_type": "code",
   "execution_count": 57,
   "metadata": {},
   "outputs": [
    {
     "data": {
      "image/png": "[encoded data removed]",
      "text/plain": [
       "<Figure size 432x288 with 1 Axes>"
      ]
     },
     "metadata": {
      "needs_background": "light"
     },
     "output_type": "display_data"
    }
   ],
   "source": [
    "# Plotando um gráfico para acompanhar a evolução dos gastos do parlamentar\n",
    "\n",
    "plotar(parlamentar)\n",
    "plt.title('Gastos por ano')\n",
    "plt.xlabel('')\n",
    "plt.ylabel('Valores');"
   ]
  },
  {
   "cell_type": "code",
   "execution_count": 58,
   "metadata": {},
   "outputs": [
    {
     "name": "stdout",
     "output_type": "stream",
     "text": [
      "Teve uma variação de 88.85% entre os anos de 2009 e 2016, partindo de um gasto de R$ 235376.61 para R$ 444513.56\n"
     ]
    }
   ],
   "source": [
    "descreve(parlamentar)"
   ]
  },
  {
   "cell_type": "markdown",
   "metadata": {},
   "source": [
    "### Serviço\n",
    "O serviço apontado pelo describe como o de maior ocorrência foi o de __Emissão Bilhete Aéreo__, vamos ver a evolução de gastos com esse serviço."
   ]
  },
  {
   "cell_type": "code",
   "execution_count": 59,
   "metadata": {
    "scrolled": true
   },
   "outputs": [
    {
     "data": {
      "image/png": "[encoded data removed]",
      "text/plain": [
       "<Figure size 432x288 with 1 Axes>"
      ]
     },
     "metadata": {
      "needs_background": "light"
     },
     "output_type": "display_data"
    }
   ],
   "source": [
    "# Plotando um gráfico com a evolução de gastos por anos\n",
    "plotar(servico)\n",
    "plt.title('Gastos anuais com Emissão Bilhete Aéreo')\n",
    "plt.xlabel('')\n",
    "plt.ylabel('Valores - x10 milhões');"
   ]
  },
  {
   "cell_type": "code",
   "execution_count": 60,
   "metadata": {},
   "outputs": [
    {
     "name": "stdout",
     "output_type": "stream",
     "text": [
      "Teve uma variação de 323.89% entre os anos de 2009 e 2017, partindo de um gasto de R$ 12500190.87 para R$ 52987050.45\n"
     ]
    }
   ],
   "source": [
    "descreve(servico)"
   ]
  },
  {
   "cell_type": "markdown",
   "metadata": {},
   "source": [
    "### Fornecedor\n",
    "O fornecedor com mais registros no df é __Cia Aérea - GOL'__"
   ]
  },
  {
   "cell_type": "code",
   "execution_count": 61,
   "metadata": {},
   "outputs": [
    {
     "data": {
      "image/png": "[encoded data removed]",
      "text/plain": [
       "<Figure size 432x288 with 1 Axes>"
      ]
     },
     "metadata": {
      "needs_background": "light"
     },
     "output_type": "display_data"
    }
   ],
   "source": [
    "# Plotando um gráfico com os gastos por ano\n",
    "plotar(fornecedor)\n",
    "plt.title('Gastos por ano com Cia Aérea - GOL')\n",
    "plt.xlabel('')\n",
    "plt.ylabel('Valores - x10milhões ');"
   ]
  },
  {
   "cell_type": "code",
   "execution_count": 62,
   "metadata": {},
   "outputs": [
    {
     "name": "stdout",
     "output_type": "stream",
     "text": [
      "Teve uma variação de 159.95% entre os anos de 2010 e 2017, partindo de um gasto de R$ 7490509.57 para R$ 19471698.67\n"
     ]
    }
   ],
   "source": [
    "descreve(fornecedor)"
   ]
  },
  {
   "cell_type": "markdown",
   "metadata": {},
   "source": [
    "### Passageiro\n",
    "Quem mais possui registros como _passageiro_ é __FELIPE BORNIER__."
   ]
  },
  {
   "cell_type": "code",
   "execution_count": 63,
   "metadata": {},
   "outputs": [
    {
     "data": {
      "image/png": "[encoded data removed]",
      "text/plain": [
       "<Figure size 432x288 with 1 Axes>"
      ]
     },
     "metadata": {
      "needs_background": "light"
     },
     "output_type": "display_data"
    }
   ],
   "source": [
    "# Plotando um gráfico de seus gastos com viagem por ano\n",
    "plotar(passageiro)\n",
    "plt.title('Gastos com viagem por ano')\n",
    "plt.xlabel('')\n",
    "plt.ylabel('Valores');"
   ]
  },
  {
   "cell_type": "code",
   "execution_count": 64,
   "metadata": {},
   "outputs": [
    {
     "name": "stdout",
     "output_type": "stream",
     "text": [
      "Teve uma variação de 1538.54% entre os anos de 2009 e 2017, partindo de um gasto de R$ 8510.41 para R$ 139446.57\n"
     ]
    }
   ],
   "source": [
    "descreve(passageiro)"
   ]
  },
  {
   "cell_type": "markdown",
   "metadata": {},
   "source": [
    "## UF - Estado que mais registrou gastos\n",
    "Segundo nosso describe o estado que teve mais gastos registrados foi SP"
   ]
  },
  {
   "cell_type": "code",
   "execution_count": 65,
   "metadata": {},
   "outputs": [
    {
     "data": {
      "image/png": "[encoded data removed]",
      "text/plain": [
       "<Figure size 432x288 with 1 Axes>"
      ]
     },
     "metadata": {
      "needs_background": "light"
     },
     "output_type": "display_data"
    }
   ],
   "source": [
    "plotar(uf)\n",
    "plt.title('Evolução de gastos de parlamentares de SP')\n",
    "plt.xlabel('')\n",
    "plt.ylabel('Valores - x 10milhões');"
   ]
  },
  {
   "cell_type": "code",
   "execution_count": 66,
   "metadata": {},
   "outputs": [
    {
     "name": "stdout",
     "output_type": "stream",
     "text": [
      "Teve uma variação de 93.52% entre os anos de 2009 e 2017, partindo de um gasto de R$ 14516008.58 para R$ 28090826.16\n"
     ]
    }
   ],
   "source": [
    "descreve(uf)"
   ]
  },
  {
   "cell_type": "markdown",
   "metadata": {},
   "source": [
    "### Partido\n",
    "Nossos dados apontam que o __PT__ é partido que mais tem registros"
   ]
  },
  {
   "cell_type": "code",
   "execution_count": 67,
   "metadata": {},
   "outputs": [
    {
     "data": {
      "image/png": "[encoded data removed]",
      "text/plain": [
       "<Figure size 432x288 with 1 Axes>"
      ]
     },
     "metadata": {
      "needs_background": "light"
     },
     "output_type": "display_data"
    }
   ],
   "source": [
    "# Plotando gráfico de gastos ano do partido\n",
    "plotar(partido)\n",
    "plt.title('Gastos por ano - Partido')\n",
    "plt.xlabel('')\n",
    "plt.ylabel('Valores = x 10milhões');"
   ]
  },
  {
   "cell_type": "code",
   "execution_count": 68,
   "metadata": {},
   "outputs": [
    {
     "name": "stdout",
     "output_type": "stream",
     "text": [
      "Teve uma variação de 98.52% entre os anos de 2009 e 2014, partindo de um gasto de R$ 16506446.71 para R$ 32768728.94\n"
     ]
    }
   ],
   "source": [
    "descreve(partido)"
   ]
  },
  {
   "cell_type": "markdown",
   "metadata": {},
   "source": [
    "Podemos observar uma grande queda de 2014 para 2015, mas não possuimos informações que possam apontar o motivo dessa mudança."
   ]
  },
  {
   "cell_type": "markdown",
   "metadata": {},
   "source": [
    "## Conclusão"
   ]
  },
  {
   "cell_type": "markdown",
   "metadata": {},
   "source": [
    "Como podemos observar nos dados e gráficos apresentados, os gastos da Câmara dos Deputados em todos os pontos de vista apenas cresce, uma diferença de 95.75% entre 2009 e 2017, e segundo o [Wikipedia](https://pt.wikipedia.org/wiki/N%C3%BAmero_de_parlamentares_do_Brasil_por_ano_de_elei%C3%A7%C3%A3o) o número de deputados se mantêm em 513 desde 1994, o que mostra que o número de deputados não esta relacionado aos gastos"
   ]
  },
  {
   "cell_type": "markdown",
   "metadata": {},
   "source": [
    "### Limitações"
   ]
  },
  {
   "cell_type": "markdown",
   "metadata": {},
   "source": [
    "__Tipagem das colunas__\n",
    "\n",
    "Ao analisar a tipagem das colunas, observamos que __datEmissao__ não estava no formato _datetime_ e portanto e a coluna __vlrLiquido__ não estava no formato _float_.\n",
    "\n",
    "Providências:\n",
    "- datEmissao : convertemos a coluna a coluna para DIA e a renomeamos para numDia\n",
    "- vlrLiquido : convertemos para float\n",
    "\n",
    "\n",
    "__Valor nulos__\n",
    "\n",
    "Identificamos valores nulos nas colunas: _sgUF, sgPartido, txtDescricaoEspecificacao, numDia, txtPassageiro e txtTrecho._\n",
    "\n",
    "As colunas foram analisadas e nenhuma delas apresentou a necessidade de alteração por não interferir em nossas analises."
   ]
  },
  {
   "cell_type": "markdown",
   "metadata": {},
   "source": [
    "Fabiano Lima - 08/12/2018"
   ]
  }
 ],
 "metadata": {
  "kernelspec": {
   "display_name": "Python 3",
   "language": "python",
   "name": "python3"
  },
  "language_info": {
   "codemirror_mode": {
    "name": "ipython",
    "version": 3
   },
   "file_extension": ".py",
   "mimetype": "text/x-python",
   "name": "python",
   "nbconvert_exporter": "python",
   "pygments_lexer": "ipython3",
   "version": "3.7.0"
  }
 },
 "nbformat": 4,
 "nbformat_minor": 2
}
